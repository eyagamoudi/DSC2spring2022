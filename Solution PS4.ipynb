{
 "cells": [
  {
   "cell_type": "markdown",
   "id": "e64818a1",
   "metadata": {},
   "source": [
    "## Exercise 4"
   ]
  },
  {
   "cell_type": "code",
   "execution_count": 13,
   "id": "faf3c930",
   "metadata": {},
   "outputs": [],
   "source": [
    "yb1=.041"
   ]
  },
  {
   "cell_type": "code",
   "execution_count": 14,
   "id": "194b3919",
   "metadata": {},
   "outputs": [],
   "source": [
    "yb2=.026"
   ]
  },
  {
   "cell_type": "code",
   "execution_count": 19,
   "id": "e4845c5e",
   "metadata": {},
   "outputs": [],
   "source": [
    "s1=.017"
   ]
  },
  {
   "cell_type": "code",
   "execution_count": 15,
   "id": "259cc9a4",
   "metadata": {},
   "outputs": [],
   "source": [
    "s2=0.006"
   ]
  },
  {
   "cell_type": "code",
   "execution_count": 16,
   "id": "80189265",
   "metadata": {},
   "outputs": [],
   "source": [
    "n1=10"
   ]
  },
  {
   "cell_type": "code",
   "execution_count": 17,
   "id": "24f27629",
   "metadata": {},
   "outputs": [],
   "source": [
    "n2=13"
   ]
  },
  {
   "cell_type": "code",
   "execution_count": 20,
   "id": "05b491f6",
   "metadata": {},
   "outputs": [],
   "source": [
    "sp2=((n1-1)*np.power(s1,2)+(n2-1)*np.power(s2,2))/(n1+n2-2)"
   ]
  },
  {
   "cell_type": "code",
   "execution_count": 21,
   "id": "fee3200a",
   "metadata": {},
   "outputs": [
    {
     "data": {
      "text/plain": [
       "0.00014442857142857145"
      ]
     },
     "execution_count": 21,
     "metadata": {},
     "output_type": "execute_result"
    }
   ],
   "source": [
    "sp2"
   ]
  },
  {
   "cell_type": "code",
   "execution_count": 22,
   "id": "e49dbecd",
   "metadata": {},
   "outputs": [],
   "source": [
    "soe=np.sqrt(sp2)*np.sqrt(1/n1+1/n2)"
   ]
  },
  {
   "cell_type": "code",
   "execution_count": 23,
   "id": "4479a56c",
   "metadata": {},
   "outputs": [],
   "source": [
    "d=yb1-yb2"
   ]
  },
  {
   "cell_type": "code",
   "execution_count": 24,
   "id": "58bed45b",
   "metadata": {},
   "outputs": [],
   "source": [
    "T=d/soe"
   ]
  },
  {
   "cell_type": "code",
   "execution_count": 25,
   "id": "f9bfe74d",
   "metadata": {},
   "outputs": [
    {
     "data": {
      "text/plain": [
       "2.967375177352642"
      ]
     },
     "execution_count": 25,
     "metadata": {},
     "output_type": "execute_result"
    }
   ],
   "source": [
    "T"
   ]
  },
  {
   "cell_type": "code",
   "execution_count": 27,
   "id": "2efc445f",
   "metadata": {},
   "outputs": [],
   "source": [
    "from scipy.stats import norm,t"
   ]
  },
  {
   "cell_type": "code",
   "execution_count": 28,
   "id": "4cc5c58d",
   "metadata": {},
   "outputs": [
    {
     "data": {
      "text/plain": [
       "0.007349121402756564"
      ]
     },
     "execution_count": 28,
     "metadata": {},
     "output_type": "execute_result"
    }
   ],
   "source": [
    "2*(1-t.cdf(T,n1+n2-2))"
   ]
  },
  {
   "cell_type": "code",
   "execution_count": 29,
   "id": "8a3b2a0b",
   "metadata": {},
   "outputs": [],
   "source": [
    "import pandas as pd"
   ]
  },
  {
   "cell_type": "markdown",
   "id": "45cca9f1",
   "metadata": {},
   "source": [
    "## Computing Case fatality rate "
   ]
  },
  {
   "cell_type": "code",
   "execution_count": 32,
   "id": "921feef8",
   "metadata": {},
   "outputs": [],
   "source": [
    "df=pd.read_csv('covid_data.csv',encoding='latin-1')"
   ]
  },
  {
   "cell_type": "code",
   "execution_count": 33,
   "id": "3095d6c5",
   "metadata": {},
   "outputs": [
    {
     "data": {
      "text/plain": [
       "Index(['date', 'iso3c', 'country', 'income', 'region', 'continent', 'dcases',\n",
       "       'ddeaths', 'population', 'weekdays', 'month'],\n",
       "      dtype='object')"
      ]
     },
     "execution_count": 33,
     "metadata": {},
     "output_type": "execute_result"
    }
   ],
   "source": [
    "df.columns"
   ]
  },
  {
   "cell_type": "code",
   "execution_count": 37,
   "id": "456cc166",
   "metadata": {},
   "outputs": [],
   "source": [
    "df['totcases'] = df.groupby(['iso3c'])['dcases'].cumsum()"
   ]
  },
  {
   "cell_type": "code",
   "execution_count": 39,
   "id": "cb4f0c84",
   "metadata": {},
   "outputs": [
    {
     "data": {
      "text/html": [
       "<div>\n",
       "<style scoped>\n",
       "    .dataframe tbody tr th:only-of-type {\n",
       "        vertical-align: middle;\n",
       "    }\n",
       "\n",
       "    .dataframe tbody tr th {\n",
       "        vertical-align: top;\n",
       "    }\n",
       "\n",
       "    .dataframe thead th {\n",
       "        text-align: right;\n",
       "    }\n",
       "</style>\n",
       "<table border=\"1\" class=\"dataframe\">\n",
       "  <thead>\n",
       "    <tr style=\"text-align: right;\">\n",
       "      <th></th>\n",
       "      <th>date</th>\n",
       "      <th>iso3c</th>\n",
       "      <th>country</th>\n",
       "      <th>income</th>\n",
       "      <th>region</th>\n",
       "      <th>continent</th>\n",
       "      <th>dcases</th>\n",
       "      <th>ddeaths</th>\n",
       "      <th>population</th>\n",
       "      <th>weekdays</th>\n",
       "      <th>month</th>\n",
       "      <th>totcases</th>\n",
       "    </tr>\n",
       "  </thead>\n",
       "  <tbody>\n",
       "    <tr>\n",
       "      <th>38125</th>\n",
       "      <td>2020-01-24</td>\n",
       "      <td>FRA</td>\n",
       "      <td>France</td>\n",
       "      <td>High income</td>\n",
       "      <td>Europe &amp; Central Asia</td>\n",
       "      <td>Europe</td>\n",
       "      <td>2</td>\n",
       "      <td>0</td>\n",
       "      <td>67059887</td>\n",
       "      <td>Fri</td>\n",
       "      <td>Jan</td>\n",
       "      <td>2</td>\n",
       "    </tr>\n",
       "    <tr>\n",
       "      <th>38126</th>\n",
       "      <td>2020-01-25</td>\n",
       "      <td>FRA</td>\n",
       "      <td>France</td>\n",
       "      <td>High income</td>\n",
       "      <td>Europe &amp; Central Asia</td>\n",
       "      <td>Europe</td>\n",
       "      <td>1</td>\n",
       "      <td>0</td>\n",
       "      <td>67059887</td>\n",
       "      <td>Sat</td>\n",
       "      <td>Jan</td>\n",
       "      <td>3</td>\n",
       "    </tr>\n",
       "    <tr>\n",
       "      <th>38127</th>\n",
       "      <td>2020-01-26</td>\n",
       "      <td>FRA</td>\n",
       "      <td>France</td>\n",
       "      <td>High income</td>\n",
       "      <td>Europe &amp; Central Asia</td>\n",
       "      <td>Europe</td>\n",
       "      <td>0</td>\n",
       "      <td>0</td>\n",
       "      <td>67059887</td>\n",
       "      <td>Sun</td>\n",
       "      <td>Jan</td>\n",
       "      <td>3</td>\n",
       "    </tr>\n",
       "    <tr>\n",
       "      <th>38128</th>\n",
       "      <td>2020-01-27</td>\n",
       "      <td>FRA</td>\n",
       "      <td>France</td>\n",
       "      <td>High income</td>\n",
       "      <td>Europe &amp; Central Asia</td>\n",
       "      <td>Europe</td>\n",
       "      <td>0</td>\n",
       "      <td>0</td>\n",
       "      <td>67059887</td>\n",
       "      <td>Mon</td>\n",
       "      <td>Jan</td>\n",
       "      <td>3</td>\n",
       "    </tr>\n",
       "    <tr>\n",
       "      <th>38129</th>\n",
       "      <td>2020-01-28</td>\n",
       "      <td>FRA</td>\n",
       "      <td>France</td>\n",
       "      <td>High income</td>\n",
       "      <td>Europe &amp; Central Asia</td>\n",
       "      <td>Europe</td>\n",
       "      <td>1</td>\n",
       "      <td>0</td>\n",
       "      <td>67059887</td>\n",
       "      <td>Tue</td>\n",
       "      <td>Jan</td>\n",
       "      <td>4</td>\n",
       "    </tr>\n",
       "    <tr>\n",
       "      <th>38130</th>\n",
       "      <td>2020-01-29</td>\n",
       "      <td>FRA</td>\n",
       "      <td>France</td>\n",
       "      <td>High income</td>\n",
       "      <td>Europe &amp; Central Asia</td>\n",
       "      <td>Europe</td>\n",
       "      <td>1</td>\n",
       "      <td>0</td>\n",
       "      <td>67059887</td>\n",
       "      <td>Wed</td>\n",
       "      <td>Jan</td>\n",
       "      <td>5</td>\n",
       "    </tr>\n",
       "  </tbody>\n",
       "</table>\n",
       "</div>"
      ],
      "text/plain": [
       "             date iso3c country       income                 region continent  \\\n",
       "38125  2020-01-24   FRA  France  High income  Europe & Central Asia    Europe   \n",
       "38126  2020-01-25   FRA  France  High income  Europe & Central Asia    Europe   \n",
       "38127  2020-01-26   FRA  France  High income  Europe & Central Asia    Europe   \n",
       "38128  2020-01-27   FRA  France  High income  Europe & Central Asia    Europe   \n",
       "38129  2020-01-28   FRA  France  High income  Europe & Central Asia    Europe   \n",
       "38130  2020-01-29   FRA  France  High income  Europe & Central Asia    Europe   \n",
       "\n",
       "       dcases  ddeaths  population weekdays month  totcases  \n",
       "38125       2        0    67059887      Fri   Jan         2  \n",
       "38126       1        0    67059887      Sat   Jan         3  \n",
       "38127       0        0    67059887      Sun   Jan         3  \n",
       "38128       0        0    67059887      Mon   Jan         3  \n",
       "38129       1        0    67059887      Tue   Jan         4  \n",
       "38130       1        0    67059887      Wed   Jan         5  "
      ]
     },
     "execution_count": 39,
     "metadata": {},
     "output_type": "execute_result"
    }
   ],
   "source": [
    "df.loc[df['iso3c']=='FRA'].head(6)"
   ]
  },
  {
   "cell_type": "code",
   "execution_count": 40,
   "id": "b44ae83e",
   "metadata": {},
   "outputs": [],
   "source": [
    "df['totdeaths'] = df.groupby(['iso3c'])['ddeaths'].cumsum()"
   ]
  },
  {
   "cell_type": "code",
   "execution_count": 41,
   "id": "be5b817c",
   "metadata": {},
   "outputs": [
    {
     "data": {
      "text/plain": [
       "38125         0\n",
       "38126         0\n",
       "38127         0\n",
       "38128         0\n",
       "38129         0\n",
       "          ...  \n",
       "38828    124269\n",
       "38829    124560\n",
       "38830    124744\n",
       "38831    124926\n",
       "38832    125115\n",
       "Name: totdeaths, Length: 708, dtype: int64"
      ]
     },
     "execution_count": 41,
     "metadata": {},
     "output_type": "execute_result"
    }
   ],
   "source": [
    "df['totdeaths'].loc[df['iso3c']=='FRA']"
   ]
  },
  {
   "cell_type": "code",
   "execution_count": 42,
   "id": "5c0125bc",
   "metadata": {},
   "outputs": [],
   "source": [
    "df['cfr']=df['totdeaths']/df['totcases']"
   ]
  },
  {
   "cell_type": "code",
   "execution_count": 43,
   "id": "75ade357",
   "metadata": {},
   "outputs": [],
   "source": [
    "import matplotlib.pyplot as plt"
   ]
  },
  {
   "cell_type": "code",
   "execution_count": 45,
   "id": "278ddb9a",
   "metadata": {},
   "outputs": [],
   "source": [
    "df_fra=df.loc[df['iso3c']=='FRA']"
   ]
  },
  {
   "cell_type": "code",
   "execution_count": 50,
   "id": "00cb5896",
   "metadata": {},
   "outputs": [
    {
     "name": "stderr",
     "output_type": "stream",
     "text": [
      "C:\\Users\\dhafe\\AppData\\Local\\Temp/ipykernel_4764/2208616209.py:1: SettingWithCopyWarning: \n",
      "A value is trying to be set on a copy of a slice from a DataFrame.\n",
      "Try using .loc[row_indexer,col_indexer] = value instead\n",
      "\n",
      "See the caveats in the documentation: https://pandas.pydata.org/pandas-docs/stable/user_guide/indexing.html#returning-a-view-versus-a-copy\n",
      "  df_fra['date'] = pd.to_datetime(df_fra['date'],format='%Y-%m-%d')\n"
     ]
    }
   ],
   "source": [
    "df_fra['date'] = pd.to_datetime(df_fra['date'],format='%Y-%m-%d')"
   ]
  },
  {
   "cell_type": "code",
   "execution_count": 51,
   "id": "69fd2a0b",
   "metadata": {},
   "outputs": [
    {
     "data": {
      "image/png": "[encoded data removed]",
      "text/plain": [
       "<Figure size 432x288 with 1 Axes>"
      ]
     },
     "metadata": {
      "needs_background": "light"
     },
     "output_type": "display_data"
    }
   ],
   "source": [
    "plt.plot( 'date', 'cfr', data=df_fra,  color='black', markersize=4,     linewidth=1)\n",
    "plt.xlabel(\"\")\n",
    "plt.ylabel(\"CFR\")\n",
    "plt.show()"
   ]
  },
  {
   "cell_type": "code",
   "execution_count": null,
   "id": "5e2f5f6f",
   "metadata": {},
   "outputs": [],
   "source": []
  }
 ],
 "metadata": {
  "kernelspec": {
   "display_name": "Python 3 (ipykernel)",
   "language": "python",
   "name": "python3"
  },
  "language_info": {
   "codemirror_mode": {
    "name": "ipython",
    "version": 3
   },
   "file_extension": ".py",
   "mimetype": "text/x-python",
   "name": "python",
   "nbconvert_exporter": "python",
   "pygments_lexer": "ipython3",
   "version": "3.9.7"
  },
  "latex_envs": {
   "LaTeX_envs_menu_present": true,
   "autoclose": false,
   "autocomplete": true,
   "bibliofile": "biblio.bib",
   "cite_by": "apalike",
   "current_citInitial": 1,
   "eqLabelWithNumbers": true,
   "eqNumInitial": 1,
   "hotkeys": {
    "equation": "Ctrl-E",
    "itemize": "Ctrl-I"
   },
   "labels_anchors": false,
   "latex_user_defs": false,
   "report_style_numbering": false,
   "user_envs_cfg": false
  },
  "toc": {
   "base_numbering": 1,
   "nav_menu": {},
   "number_sections": false,
   "sideBar": true,
   "skip_h1_title": true,
   "title_cell": "Table of Contents",
   "title_sidebar": "Contents",
   "toc_cell": false,
   "toc_position": {
    "height": "calc(100% - 180px)",
    "left": "10px",
    "top": "150px",
    "width": "320px"
   },
   "toc_section_display": true,
   "toc_window_display": true
  }
 },
 "nbformat": 4,
 "nbformat_minor": 5
}
