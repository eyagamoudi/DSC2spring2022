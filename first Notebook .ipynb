{
 "cells": [
  {
   "cell_type": "code",
   "execution_count": null,
   "id": "bce07877",
   "metadata": {
    "toc": true
   },
   "outputs": [],
   "source": []
  },
  {
   "cell_type": "markdown",
   "id": "a3d5b7cd",
   "metadata": {},
   "source": [
    "this is my 1st notebook eya"
   ]
  },
  {
   "cell_type": "code",
   "execution_count": 1,
   "id": "67aa2bfd",
   "metadata": {},
   "outputs": [],
   "source": [
    "import numpy as np"
   ]
  },
  {
   "cell_type": "code",
   "execution_count": 2,
   "id": "88d8f97e",
   "metadata": {},
   "outputs": [],
   "source": [
    "x=np.random.random(100)"
   ]
  },
  {
   "cell_type": "code",
   "execution_count": 3,
   "id": "f2cc21dc",
   "metadata": {},
   "outputs": [
    {
     "data": {
      "text/plain": [
       "array([0.44655507, 0.10828012, 0.02615108, 0.5120102 , 0.68700101,\n",
       "       0.04940707, 0.89729801, 0.25307672, 0.22730013, 0.66123096,\n",
       "       0.27528632, 0.81173099, 0.69353588, 0.11739941, 0.74463021,\n",
       "       0.51349758, 0.65655199, 0.25530416, 0.00783718, 0.83514494,\n",
       "       0.53873082, 0.05277942, 0.80465364, 0.92511015, 0.3294041 ,\n",
       "       0.31044435, 0.52100654, 0.23134606, 0.43017037, 0.5885454 ,\n",
       "       0.7602294 , 0.94145086, 0.4954398 , 0.85803402, 0.03091342,\n",
       "       0.29275338, 0.18884005, 0.06088093, 0.84611023, 0.73412388,\n",
       "       0.67446645, 0.44901259, 0.60771351, 0.92582109, 0.12390484,\n",
       "       0.12900915, 0.24121277, 0.38299442, 0.86827567, 0.51414354,\n",
       "       0.51579415, 0.65972995, 0.03543602, 0.31506717, 0.57738693,\n",
       "       0.16119968, 0.63341893, 0.28169189, 0.20322813, 0.43429553,\n",
       "       0.72099184, 0.23174162, 0.16960644, 0.52240934, 0.26374016,\n",
       "       0.06954227, 0.28805624, 0.55417656, 0.30500208, 0.14903774,\n",
       "       0.58194939, 0.76132615, 0.34738977, 0.61674844, 0.78233285,\n",
       "       0.10523027, 0.23517168, 0.51206499, 0.97327276, 0.08717964,\n",
       "       0.13229313, 0.71487239, 0.60004371, 0.81812403, 0.13804742,\n",
       "       0.22287351, 0.4357739 , 0.01131571, 0.0277955 , 0.34229925,\n",
       "       0.10027158, 0.10556685, 0.09983397, 0.9410585 , 0.71325198,\n",
       "       0.98815655, 0.48213116, 0.39098167, 0.0535396 , 0.25267952])"
      ]
     },
     "execution_count": 3,
     "metadata": {},
     "output_type": "execute_result"
    }
   ],
   "source": [
    "x"
   ]
  },
  {
   "cell_type": "code",
   "execution_count": null,
   "id": "a2b1ca3b",
   "metadata": {},
   "outputs": [],
   "source": []
  }
 ],
 "metadata": {
  "kernelspec": {
   "display_name": "Python 3 (ipykernel)",
   "language": "python",
   "name": "python3"
  },
  "language_info": {
   "codemirror_mode": {
    "name": "ipython",
    "version": 3
   },
   "file_extension": ".py",
   "mimetype": "text/x-python",
   "name": "python",
   "nbconvert_exporter": "python",
   "pygments_lexer": "ipython3",
   "version": "3.9.7"
  },
  "latex_envs": {
   "LaTeX_envs_menu_present": true,
   "autoclose": false,
   "autocomplete": true,
   "bibliofile": "biblio.bib",
   "cite_by": "apalike",
   "current_citInitial": 1,
   "eqLabelWithNumbers": true,
   "eqNumInitial": 1,
   "hotkeys": {
    "equation": "Ctrl-E",
    "itemize": "Ctrl-I"
   },
   "labels_anchors": false,
   "latex_user_defs": false,
   "report_style_numbering": false,
   "user_envs_cfg": false
  },
  "toc": {
   "base_numbering": 1,
   "nav_menu": {},
   "number_sections": true,
   "sideBar": true,
   "skip_h1_title": true,
   "title_cell": "Table of Contents",
   "title_sidebar": "Contents",
   "toc_cell": true,
   "toc_position": {},
   "toc_section_display": true,
   "toc_window_display": true
  }
 },
 "nbformat": 4,
 "nbformat_minor": 5
}
