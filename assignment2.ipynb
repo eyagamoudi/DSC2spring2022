{
 "cells": [
  {
   "cell_type": "markdown",
   "id": "d0ddb958",
   "metadata": {},
   "source": [
    "#                                       Football Matches Dataset and Covid dataset Analysis"
   ]
  },
  {
   "cell_type": "markdown",
   "id": "517eca20",
   "metadata": {},
   "source": [
    "Student: Eya Gammoudi     \n",
    "Professor: Dr. Dhafer Malouche    \n",
    "TA: Nada Hassan       \n"
   ]
  },
  {
   "cell_type": "markdown",
   "id": "9e020c31",
   "metadata": {},
   "source": [
    "# Plan:"
   ]
  },
  {
   "cell_type": "markdown",
   "id": "31d44a76",
   "metadata": {},
   "source": [
    "#  1-Abstract\n",
    "##   2- Code\n",
    "##   3- Discussion\n",
    "##   4- Conclusion"
   ]
  },
  {
   "cell_type": "markdown",
   "id": "13b13d68",
   "metadata": {},
   "source": [
    "# Abstract "
   ]
  },
  {
   "cell_type": "markdown",
   "id": "b78d3ff1",
   "metadata": {},
   "source": [
    "The chosen dataset consists of 43,170 results of international football matches.\n",
    "This dataset is distinguished by the number of observations that are taken into account: 43,170 . For every single observation, this dataset analyses 9 variables. These variables can be splitted into two categories: numerical and catagorical.\n",
    "* The numerical variables are:              \n",
    "date                           \n",
    "home_score                         \n",
    "away_score                     \n",
    "* The catagorical variables are:             \n",
    "home_team        \n",
    "away_team     \n",
    "tournament     \n",
    "city         \n",
    "country             \n",
    "neutral           \n",
    "\n",
    "So through this data analysis I hope to achieve 2 things, the first is that I get to improve my data analysis skills through creating graphs and numerical analysis. The second is to study the factors that might affect the results of a footbal match. "
   ]
  },
  {
   "cell_type": "markdown",
   "id": "1e1a7126",
   "metadata": {},
   "source": []
  },
  {
   "cell_type": "markdown",
   "id": "afc71c44",
   "metadata": {},
   "source": [
    "# Code"
   ]
  },
  {
   "cell_type": "markdown",
   "id": "a38c2257",
   "metadata": {},
   "source": [
    "First I will start by importing the library and the csv file which conyains the needed dataset. Next I will define the conditions needed to identify when the team loses, wins or draws and that is by substructing the away_score from the home_score. If the result is less than 0 then the result is win, else if the result is bigger than 0 then the result is lose or else if the result is equal to 0 then it is draw. Next I will be studying the frequency of each case and that is by using the command (value_counts()) and by stting (normalize=True), so that we get the percentage of each case.\n",
    "NOTE: The command: unique() is used in order to compute each country only ince in case it was repeated more than one time in the dataset and that is to assure the credibility of the results."
   ]
  },
  {
   "cell_type": "code",
   "execution_count": 215,
   "id": "ade3c8fb",
   "metadata": {},
   "outputs": [],
   "source": [
    "import pandas as pd"
   ]
  },
  {
   "cell_type": "code",
   "execution_count": 216,
   "id": "d5333bc1",
   "metadata": {},
   "outputs": [],
   "source": [
    "df=pd.read_csv(\"results.csv\")"
   ]
  },
  {
   "cell_type": "code",
   "execution_count": 222,
   "id": "8014b24b",
   "metadata": {
    "scrolled": true
   },
   "outputs": [
    {
     "data": {
      "text/html": [
       "<div>\n",
       "<style scoped>\n",
       "    .dataframe tbody tr th:only-of-type {\n",
       "        vertical-align: middle;\n",
       "    }\n",
       "\n",
       "    .dataframe tbody tr th {\n",
       "        vertical-align: top;\n",
       "    }\n",
       "\n",
       "    .dataframe thead th {\n",
       "        text-align: right;\n",
       "    }\n",
       "</style>\n",
       "<table border=\"1\" class=\"dataframe\">\n",
       "  <thead>\n",
       "    <tr style=\"text-align: right;\">\n",
       "      <th></th>\n",
       "      <th>date</th>\n",
       "      <th>home_team</th>\n",
       "      <th>away_team</th>\n",
       "      <th>home_score</th>\n",
       "      <th>away_score</th>\n",
       "      <th>tournament</th>\n",
       "      <th>city</th>\n",
       "      <th>country</th>\n",
       "      <th>neutral</th>\n",
       "      <th>result</th>\n",
       "    </tr>\n",
       "  </thead>\n",
       "  <tbody>\n",
       "    <tr>\n",
       "      <th>0</th>\n",
       "      <td>1872-11-30</td>\n",
       "      <td>Scotland</td>\n",
       "      <td>England</td>\n",
       "      <td>0</td>\n",
       "      <td>0</td>\n",
       "      <td>Friendly</td>\n",
       "      <td>Glasgow</td>\n",
       "      <td>Scotland</td>\n",
       "      <td>False</td>\n",
       "      <td>draw</td>\n",
       "    </tr>\n",
       "    <tr>\n",
       "      <th>1</th>\n",
       "      <td>1873-03-08</td>\n",
       "      <td>England</td>\n",
       "      <td>Scotland</td>\n",
       "      <td>4</td>\n",
       "      <td>2</td>\n",
       "      <td>Friendly</td>\n",
       "      <td>London</td>\n",
       "      <td>England</td>\n",
       "      <td>False</td>\n",
       "      <td>lose</td>\n",
       "    </tr>\n",
       "    <tr>\n",
       "      <th>2</th>\n",
       "      <td>1874-03-07</td>\n",
       "      <td>Scotland</td>\n",
       "      <td>England</td>\n",
       "      <td>2</td>\n",
       "      <td>1</td>\n",
       "      <td>Friendly</td>\n",
       "      <td>Glasgow</td>\n",
       "      <td>Scotland</td>\n",
       "      <td>False</td>\n",
       "      <td>lose</td>\n",
       "    </tr>\n",
       "    <tr>\n",
       "      <th>3</th>\n",
       "      <td>1875-03-06</td>\n",
       "      <td>England</td>\n",
       "      <td>Scotland</td>\n",
       "      <td>2</td>\n",
       "      <td>2</td>\n",
       "      <td>Friendly</td>\n",
       "      <td>London</td>\n",
       "      <td>England</td>\n",
       "      <td>False</td>\n",
       "      <td>draw</td>\n",
       "    </tr>\n",
       "  </tbody>\n",
       "</table>\n",
       "</div>"
      ],
      "text/plain": [
       "         date home_team away_team  home_score  away_score tournament     city  \\\n",
       "0  1872-11-30  Scotland   England           0           0   Friendly  Glasgow   \n",
       "1  1873-03-08   England  Scotland           4           2   Friendly   London   \n",
       "2  1874-03-07  Scotland   England           2           1   Friendly  Glasgow   \n",
       "3  1875-03-06   England  Scotland           2           2   Friendly   London   \n",
       "\n",
       "    country  neutral result  \n",
       "0  Scotland    False   draw  \n",
       "1   England    False   lose  \n",
       "2  Scotland    False   lose  \n",
       "3   England    False   draw  "
      ]
     },
     "execution_count": 222,
     "metadata": {},
     "output_type": "execute_result"
    }
   ],
   "source": [
    "df.head(4)"
   ]
  },
  {
   "cell_type": "code",
   "execution_count": 223,
   "id": "72e7f4de",
   "metadata": {},
   "outputs": [],
   "source": [
    "x=df['home_score']-df['away_score']\n",
    "conditions=[(x<0), (x>0), (x==0)]"
   ]
  },
  {
   "cell_type": "code",
   "execution_count": 224,
   "id": "45d74592",
   "metadata": {},
   "outputs": [],
   "source": [
    "values=['win','lose','draw']"
   ]
  },
  {
   "cell_type": "code",
   "execution_count": 225,
   "id": "3ceae931",
   "metadata": {},
   "outputs": [],
   "source": [
    "import numpy as np"
   ]
  },
  {
   "cell_type": "code",
   "execution_count": 226,
   "id": "3caeebed",
   "metadata": {},
   "outputs": [],
   "source": [
    "df['result']=np.select(conditions, values)"
   ]
  },
  {
   "cell_type": "code",
   "execution_count": 227,
   "id": "a99d0034",
   "metadata": {},
   "outputs": [
    {
     "data": {
      "text/html": [
       "<div>\n",
       "<style scoped>\n",
       "    .dataframe tbody tr th:only-of-type {\n",
       "        vertical-align: middle;\n",
       "    }\n",
       "\n",
       "    .dataframe tbody tr th {\n",
       "        vertical-align: top;\n",
       "    }\n",
       "\n",
       "    .dataframe thead th {\n",
       "        text-align: right;\n",
       "    }\n",
       "</style>\n",
       "<table border=\"1\" class=\"dataframe\">\n",
       "  <thead>\n",
       "    <tr style=\"text-align: right;\">\n",
       "      <th></th>\n",
       "      <th>date</th>\n",
       "      <th>home_team</th>\n",
       "      <th>away_team</th>\n",
       "      <th>home_score</th>\n",
       "      <th>away_score</th>\n",
       "      <th>tournament</th>\n",
       "      <th>city</th>\n",
       "      <th>country</th>\n",
       "      <th>neutral</th>\n",
       "      <th>result</th>\n",
       "    </tr>\n",
       "  </thead>\n",
       "  <tbody>\n",
       "    <tr>\n",
       "      <th>0</th>\n",
       "      <td>1872-11-30</td>\n",
       "      <td>Scotland</td>\n",
       "      <td>England</td>\n",
       "      <td>0</td>\n",
       "      <td>0</td>\n",
       "      <td>Friendly</td>\n",
       "      <td>Glasgow</td>\n",
       "      <td>Scotland</td>\n",
       "      <td>False</td>\n",
       "      <td>draw</td>\n",
       "    </tr>\n",
       "    <tr>\n",
       "      <th>1</th>\n",
       "      <td>1873-03-08</td>\n",
       "      <td>England</td>\n",
       "      <td>Scotland</td>\n",
       "      <td>4</td>\n",
       "      <td>2</td>\n",
       "      <td>Friendly</td>\n",
       "      <td>London</td>\n",
       "      <td>England</td>\n",
       "      <td>False</td>\n",
       "      <td>lose</td>\n",
       "    </tr>\n",
       "    <tr>\n",
       "      <th>2</th>\n",
       "      <td>1874-03-07</td>\n",
       "      <td>Scotland</td>\n",
       "      <td>England</td>\n",
       "      <td>2</td>\n",
       "      <td>1</td>\n",
       "      <td>Friendly</td>\n",
       "      <td>Glasgow</td>\n",
       "      <td>Scotland</td>\n",
       "      <td>False</td>\n",
       "      <td>lose</td>\n",
       "    </tr>\n",
       "  </tbody>\n",
       "</table>\n",
       "</div>"
      ],
      "text/plain": [
       "         date home_team away_team  home_score  away_score tournament     city  \\\n",
       "0  1872-11-30  Scotland   England           0           0   Friendly  Glasgow   \n",
       "1  1873-03-08   England  Scotland           4           2   Friendly   London   \n",
       "2  1874-03-07  Scotland   England           2           1   Friendly  Glasgow   \n",
       "\n",
       "    country  neutral result  \n",
       "0  Scotland    False   draw  \n",
       "1   England    False   lose  \n",
       "2  Scotland    False   lose  "
      ]
     },
     "execution_count": 227,
     "metadata": {},
     "output_type": "execute_result"
    }
   ],
   "source": [
    "df.head(3)"
   ]
  },
  {
   "cell_type": "code",
   "execution_count": 228,
   "id": "8d03a1d0",
   "metadata": {},
   "outputs": [
    {
     "data": {
      "text/plain": [
       "lose    21009\n",
       "win     12224\n",
       "draw     9955\n",
       "Name: result, dtype: int64"
      ]
     },
     "execution_count": 228,
     "metadata": {},
     "output_type": "execute_result"
    }
   ],
   "source": [
    "df['result'].value_counts()"
   ]
  },
  {
   "cell_type": "code",
   "execution_count": 229,
   "id": "05eeff73",
   "metadata": {},
   "outputs": [
    {
     "data": {
      "text/plain": [
       "lose    0.486455\n",
       "win     0.283042\n",
       "draw    0.230504\n",
       "Name: result, dtype: float64"
      ]
     },
     "execution_count": 229,
     "metadata": {},
     "output_type": "execute_result"
    }
   ],
   "source": [
    "df['result'].value_counts(normalize=True)"
   ]
  },
  {
   "cell_type": "code",
   "execution_count": 230,
   "id": "1e6ebff8",
   "metadata": {},
   "outputs": [],
   "source": [
    "x=df['result'].value_counts()"
   ]
  },
  {
   "cell_type": "code",
   "execution_count": 231,
   "id": "ab20d7da",
   "metadata": {},
   "outputs": [],
   "source": [
    "x=np.array(x)"
   ]
  },
  {
   "cell_type": "code",
   "execution_count": 232,
   "id": "d030222a",
   "metadata": {},
   "outputs": [
    {
     "data": {
      "text/plain": [
       "array([21009, 12224,  9955], dtype=int64)"
      ]
     },
     "execution_count": 232,
     "metadata": {},
     "output_type": "execute_result"
    }
   ],
   "source": [
    "x"
   ]
  },
  {
   "cell_type": "code",
   "execution_count": 233,
   "id": "dabd32ed",
   "metadata": {},
   "outputs": [],
   "source": [
    "N=x.sum()"
   ]
  },
  {
   "cell_type": "code",
   "execution_count": 234,
   "id": "aee8de3f",
   "metadata": {},
   "outputs": [
    {
     "data": {
      "text/plain": [
       "43188"
      ]
     },
     "execution_count": 234,
     "metadata": {},
     "output_type": "execute_result"
    }
   ],
   "source": [
    "N"
   ]
  },
  {
   "cell_type": "code",
   "execution_count": 235,
   "id": "7061ccd4",
   "metadata": {},
   "outputs": [],
   "source": [
    "import statsmodels.api as sm\n",
    "from statsmodels.stats.proportion import proportion_confint"
   ]
  },
  {
   "cell_type": "code",
   "execution_count": 236,
   "id": "ae578cb4",
   "metadata": {},
   "outputs": [],
   "source": [
    "CI_win=proportion_confint(count=x[1], nobs=N, alpha=(1-.95))"
   ]
  },
  {
   "cell_type": "code",
   "execution_count": 237,
   "id": "823307fa",
   "metadata": {},
   "outputs": [
    {
     "data": {
      "text/plain": [
       "(0.27879305599044235, 0.28729011526083115)"
      ]
     },
     "execution_count": 237,
     "metadata": {},
     "output_type": "execute_result"
    }
   ],
   "source": [
    "CI_win"
   ]
  },
  {
   "cell_type": "code",
   "execution_count": 238,
   "id": "a22a1ac6",
   "metadata": {},
   "outputs": [],
   "source": [
    "CI_draw=proportion_confint(count=x[2], nobs=N, alpha=(1-.95))"
   ]
  },
  {
   "cell_type": "code",
   "execution_count": 239,
   "id": "956dfe41",
   "metadata": {},
   "outputs": [
    {
     "data": {
      "text/plain": [
       "(0.2265318471530234, 0.23447584016752862)"
      ]
     },
     "execution_count": 239,
     "metadata": {},
     "output_type": "execute_result"
    }
   ],
   "source": [
    "CI_draw"
   ]
  },
  {
   "cell_type": "code",
   "execution_count": 240,
   "id": "71f2b693",
   "metadata": {},
   "outputs": [
    {
     "data": {
      "text/plain": [
       "array(['Scotland', 'England', 'Wales', 'Ireland', 'United States',\n",
       "       'Uruguay', 'Austria', 'Hungary', 'Argentina', 'Belgium', 'France',\n",
       "       'Netherlands', 'Bohemia', 'Switzerland', 'Sweden', 'Germany',\n",
       "       'Italy', 'Chile', 'Norway', 'Finland', 'Luxembourg', 'Russia',\n",
       "       'Denmark', 'Spain', 'Japan', 'Brazil', 'Paraguay', 'China PR',\n",
       "       'Canada', 'Estonia', 'Guatemala', 'Czechoslovakia', 'Poland',\n",
       "       'Yugoslavia', 'New Zealand', 'Romania', 'Latvia', 'Portugal',\n",
       "       'Northern Ireland', 'Australia', 'Lithuania', 'Turkey', 'Mexico',\n",
       "       'Aruba', 'Soviet Union', 'Haiti', 'Philippines', 'Bulgaria',\n",
       "       'Jamaica', 'Kenya', 'Czech Republic', 'Peru', 'Honduras',\n",
       "       'British Guyana', 'Uganda', 'El Salvador', 'Barbados',\n",
       "       'Irish Free State', 'Trinidad and Tobago', 'Greece', 'Curaçao',\n",
       "       'Egypt', 'Dominica', 'Guadeloupe', 'Palestine',\n",
       "       'Netherlands Guyana', 'French Guiana', 'Cuba', 'Colombia',\n",
       "       'Saint Kitts and Nevis', 'Éire', 'Panama', 'Bohemia and Moravia',\n",
       "       'Slovakia', 'Manchuria', 'Croatia', 'Costa Rica', 'Afghanistan',\n",
       "       'Martinique', 'Southern Rhodesia', 'Iceland', 'Albania',\n",
       "       'Madagascar', 'Northern Rhodesia', 'Tanganyika', 'Iran', 'Ecuador',\n",
       "       'French Somaliland', 'Belgian Congo', 'Mauritius', 'Hong Kong',\n",
       "       'Vietnam', 'Macau', 'Republic of Ireland', 'Ethiopia', 'Suriname',\n",
       "       'Puerto Rico', 'Réunion', 'Israel', 'Sierra Leone', 'Zanzibar',\n",
       "       'Bolivia', 'Gold Coast', 'South Africa', 'Netherlands Antilles',\n",
       "       'New Caledonia', 'Fiji', 'Nigeria', 'Venezuela', 'Ceylon',\n",
       "       'French Polynesia', 'Gambia', 'Singapore', 'Portuguese Guinea',\n",
       "       'German DR', 'New Hebrides', 'Burma', 'Saarland', 'Cambodia',\n",
       "       'India', 'Lebanon', 'Pakistan', 'Malaya', 'South Korea',\n",
       "       'Vietnam Republic', 'Togo', 'Indonesia', 'Sudan', 'Malta', 'Syria',\n",
       "       'Tunisia', 'Nyasaland', 'Ghana', 'Morocco', 'United Arab Republic',\n",
       "       'North Korea', 'Dahomey', 'Guinea-Bissau', 'Mali Federation',\n",
       "       'Mali', 'Vietnam DR', 'Cyprus', 'Iraq', 'Saint Lucia', 'Senegal',\n",
       "       'Libya', 'Gabon', 'Thailand', 'Congo', 'Tanzania', 'Grenada',\n",
       "       'Guinea', 'Central African Republic', 'Cameroon', 'Algeria',\n",
       "       'Kuwait', 'Ivory Coast', 'Lautoka', 'Liberia', 'Malaysia',\n",
       "       'Jordan', 'Zambia', 'Saint Vincent and the Grenadines', 'Bermuda',\n",
       "       'Niger', 'Malawi', 'DR Congo', 'Upper Volta', 'Taiwan', 'Guyana',\n",
       "       'Mauritania', 'Rhodesia', 'Saudi Arabia', 'Eswatini', 'Mozambique',\n",
       "       'Papua New Guinea', 'Bahrain', 'Lesotho', 'Somalia', 'Zaïre',\n",
       "       'Sri Lanka', 'Antigua and Barbuda', 'Faroe Islands', 'Qatar',\n",
       "       'Yemen DPR', 'Burundi', 'Guam', 'Chad', 'Angola',\n",
       "       'Dominican Republic', 'Seychelles', 'São Tomé and Príncipe',\n",
       "       'Botswana', 'Benin', 'Rwanda', 'Bangladesh',\n",
       "       'United Arab Emirates', 'Zimbabwe', 'Oman', 'Equatorial Guinea',\n",
       "       'Cape Verde', 'Liechtenstein', 'Nepal', 'Greenland', 'Vanuatu',\n",
       "       'Western Samoa', 'Belize', 'Brunei', 'Djibouti', 'Burkina Faso',\n",
       "       'Yemen AR', 'Anguilla', 'Nicaragua', 'Cayman Islands', 'Monaco',\n",
       "       'Solomon Islands', 'Sint Maarten', 'Namibia', 'Saint Martin',\n",
       "       'San Marino', 'Slovenia', 'Moldova', 'Ukraine', 'Kazakhstan',\n",
       "       'Tajikistan', 'Uzbekistan', 'Turkmenistan', 'Georgia',\n",
       "       'Kyrgyzstan', 'Armenia', 'Belarus', 'Guernsey', 'Azerbaijan',\n",
       "       'North Macedonia', 'Jersey', 'Montserrat', 'Gibraltar', 'Myanmar',\n",
       "       'Bosnia and Herzegovina', 'Tonga', 'Andorra', 'Yemen',\n",
       "       'United States Virgin Islands', 'Palau', 'Cook Islands',\n",
       "       'British Virgin Islands', 'Eritrea', 'Bahamas', 'Micronesia',\n",
       "       'Maldives', 'Laos', 'Isle of Man', 'Samoa', 'Bhutan',\n",
       "       'Serbia and Montenegro', 'Mayotte', 'Mongolia', 'Northern Cyprus',\n",
       "       'Serbia', 'Montenegro', 'Northern Mariana Islands', 'Comoros',\n",
       "       'Turks and Caicos Islands', 'South Sudan', 'Kosovo', 'East Timor',\n",
       "       'Tahiti'], dtype=object)"
      ]
     },
     "execution_count": 240,
     "metadata": {},
     "output_type": "execute_result"
    }
   ],
   "source": [
    "df['country'].unique()"
   ]
  },
  {
   "cell_type": "markdown",
   "id": "6ba3b38e",
   "metadata": {},
   "source": [
    "## 1- Egypt:"
   ]
  },
  {
   "cell_type": "code",
   "execution_count": 241,
   "id": "aa8942c9",
   "metadata": {},
   "outputs": [],
   "source": [
    "dfegy=df[df['country']=='Egypt']"
   ]
  },
  {
   "cell_type": "code",
   "execution_count": 242,
   "id": "e51d0142",
   "metadata": {},
   "outputs": [
    {
     "data": {
      "text/html": [
       "<div>\n",
       "<style scoped>\n",
       "    .dataframe tbody tr th:only-of-type {\n",
       "        vertical-align: middle;\n",
       "    }\n",
       "\n",
       "    .dataframe tbody tr th {\n",
       "        vertical-align: top;\n",
       "    }\n",
       "\n",
       "    .dataframe thead th {\n",
       "        text-align: right;\n",
       "    }\n",
       "</style>\n",
       "<table border=\"1\" class=\"dataframe\">\n",
       "  <thead>\n",
       "    <tr style=\"text-align: right;\">\n",
       "      <th></th>\n",
       "      <th>date</th>\n",
       "      <th>home_team</th>\n",
       "      <th>away_team</th>\n",
       "      <th>home_score</th>\n",
       "      <th>away_score</th>\n",
       "      <th>tournament</th>\n",
       "      <th>city</th>\n",
       "      <th>country</th>\n",
       "      <th>neutral</th>\n",
       "      <th>result</th>\n",
       "    </tr>\n",
       "  </thead>\n",
       "  <tbody>\n",
       "    <tr>\n",
       "      <th>1463</th>\n",
       "      <td>2/19/1932</td>\n",
       "      <td>Egypt</td>\n",
       "      <td>Hungary</td>\n",
       "      <td>0</td>\n",
       "      <td>0</td>\n",
       "      <td>Friendly</td>\n",
       "      <td>Cairo</td>\n",
       "      <td>Egypt</td>\n",
       "      <td>False</td>\n",
       "      <td>draw</td>\n",
       "    </tr>\n",
       "    <tr>\n",
       "      <th>1661</th>\n",
       "      <td>3/16/1934</td>\n",
       "      <td>Egypt</td>\n",
       "      <td>Israel</td>\n",
       "      <td>7</td>\n",
       "      <td>1</td>\n",
       "      <td>FIFA World Cup qualification</td>\n",
       "      <td>Cairo</td>\n",
       "      <td>Egypt</td>\n",
       "      <td>False</td>\n",
       "      <td>lose</td>\n",
       "    </tr>\n",
       "    <tr>\n",
       "      <th>1895</th>\n",
       "      <td>6/19/1936</td>\n",
       "      <td>Egypt</td>\n",
       "      <td>Greece</td>\n",
       "      <td>3</td>\n",
       "      <td>1</td>\n",
       "      <td>Friendly</td>\n",
       "      <td>Cairo</td>\n",
       "      <td>Egypt</td>\n",
       "      <td>False</td>\n",
       "      <td>lose</td>\n",
       "    </tr>\n",
       "    <tr>\n",
       "      <th>2927</th>\n",
       "      <td>12/24/1948</td>\n",
       "      <td>Egypt</td>\n",
       "      <td>Norway</td>\n",
       "      <td>1</td>\n",
       "      <td>1</td>\n",
       "      <td>Friendly</td>\n",
       "      <td>Cairo</td>\n",
       "      <td>Egypt</td>\n",
       "      <td>False</td>\n",
       "      <td>draw</td>\n",
       "    </tr>\n",
       "    <tr>\n",
       "      <th>3080</th>\n",
       "      <td>2/17/1950</td>\n",
       "      <td>Egypt</td>\n",
       "      <td>Greece</td>\n",
       "      <td>2</td>\n",
       "      <td>0</td>\n",
       "      <td>Friendly</td>\n",
       "      <td>Cairo</td>\n",
       "      <td>Egypt</td>\n",
       "      <td>False</td>\n",
       "      <td>lose</td>\n",
       "    </tr>\n",
       "  </tbody>\n",
       "</table>\n",
       "</div>"
      ],
      "text/plain": [
       "            date home_team away_team  home_score  away_score  \\\n",
       "1463   2/19/1932     Egypt   Hungary           0           0   \n",
       "1661   3/16/1934     Egypt    Israel           7           1   \n",
       "1895   6/19/1936     Egypt    Greece           3           1   \n",
       "2927  12/24/1948     Egypt    Norway           1           1   \n",
       "3080   2/17/1950     Egypt    Greece           2           0   \n",
       "\n",
       "                        tournament   city country  neutral result  \n",
       "1463                      Friendly  Cairo   Egypt    False   draw  \n",
       "1661  FIFA World Cup qualification  Cairo   Egypt    False   lose  \n",
       "1895                      Friendly  Cairo   Egypt    False   lose  \n",
       "2927                      Friendly  Cairo   Egypt    False   draw  \n",
       "3080                      Friendly  Cairo   Egypt    False   lose  "
      ]
     },
     "execution_count": 242,
     "metadata": {},
     "output_type": "execute_result"
    }
   ],
   "source": [
    "dfegy.head()"
   ]
  },
  {
   "cell_type": "code",
   "execution_count": 243,
   "id": "d0e20c08",
   "metadata": {},
   "outputs": [],
   "source": [
    "conditions=[\n",
    "    (dfegy['tournament']=='Friendly'),\n",
    "    (dfegy['tournament']!='Friendly')\n",
    "]"
   ]
  },
  {
   "cell_type": "code",
   "execution_count": 244,
   "id": "6278b3fa",
   "metadata": {},
   "outputs": [],
   "source": [
    "values=['Friendly', 'official']"
   ]
  },
  {
   "cell_type": "code",
   "execution_count": 245,
   "id": "cc96f90a",
   "metadata": {},
   "outputs": [
    {
     "name": "stderr",
     "output_type": "stream",
     "text": [
      "C:\\Users\\AUC\\AppData\\Local\\Temp/ipykernel_17108/160527380.py:1: SettingWithCopyWarning: \n",
      "A value is trying to be set on a copy of a slice from a DataFrame.\n",
      "Try using .loc[row_indexer,col_indexer] = value instead\n",
      "\n",
      "See the caveats in the documentation: https://pandas.pydata.org/pandas-docs/stable/user_guide/indexing.html#returning-a-view-versus-a-copy\n",
      "  dfegy['typematch']=np.select(conditions, values)\n"
     ]
    }
   ],
   "source": [
    "dfegy['typematch']=np.select(conditions, values)"
   ]
  },
  {
   "cell_type": "code",
   "execution_count": 246,
   "id": "25b737ae",
   "metadata": {},
   "outputs": [
    {
     "data": {
      "text/plain": [
       "official    226\n",
       "Friendly    181\n",
       "Name: typematch, dtype: int64"
      ]
     },
     "execution_count": 246,
     "metadata": {},
     "output_type": "execute_result"
    }
   ],
   "source": [
    "dfegy['typematch'].value_counts()"
   ]
  },
  {
   "cell_type": "code",
   "execution_count": 247,
   "id": "116a1c78",
   "metadata": {},
   "outputs": [
    {
     "data": {
      "text/html": [
       "<div>\n",
       "<style scoped>\n",
       "    .dataframe tbody tr th:only-of-type {\n",
       "        vertical-align: middle;\n",
       "    }\n",
       "\n",
       "    .dataframe tbody tr th {\n",
       "        vertical-align: top;\n",
       "    }\n",
       "\n",
       "    .dataframe thead th {\n",
       "        text-align: right;\n",
       "    }\n",
       "</style>\n",
       "<table border=\"1\" class=\"dataframe\">\n",
       "  <thead>\n",
       "    <tr style=\"text-align: right;\">\n",
       "      <th>result</th>\n",
       "      <th>draw</th>\n",
       "      <th>lose</th>\n",
       "      <th>win</th>\n",
       "      <th>All</th>\n",
       "    </tr>\n",
       "    <tr>\n",
       "      <th>typematch</th>\n",
       "      <th></th>\n",
       "      <th></th>\n",
       "      <th></th>\n",
       "      <th></th>\n",
       "    </tr>\n",
       "  </thead>\n",
       "  <tbody>\n",
       "    <tr>\n",
       "      <th>Friendly</th>\n",
       "      <td>37</td>\n",
       "      <td>99</td>\n",
       "      <td>45</td>\n",
       "      <td>181</td>\n",
       "    </tr>\n",
       "    <tr>\n",
       "      <th>official</th>\n",
       "      <td>40</td>\n",
       "      <td>139</td>\n",
       "      <td>47</td>\n",
       "      <td>226</td>\n",
       "    </tr>\n",
       "    <tr>\n",
       "      <th>All</th>\n",
       "      <td>77</td>\n",
       "      <td>238</td>\n",
       "      <td>92</td>\n",
       "      <td>407</td>\n",
       "    </tr>\n",
       "  </tbody>\n",
       "</table>\n",
       "</div>"
      ],
      "text/plain": [
       "result     draw  lose  win  All\n",
       "typematch                      \n",
       "Friendly     37    99   45  181\n",
       "official     40   139   47  226\n",
       "All          77   238   92  407"
      ]
     },
     "execution_count": 247,
     "metadata": {},
     "output_type": "execute_result"
    }
   ],
   "source": [
    "x=pd.crosstab(dfegy['typematch'], dfegy['result'], margins=True)\n",
    "x"
   ]
  },
  {
   "cell_type": "code",
   "execution_count": 248,
   "id": "00572211",
   "metadata": {},
   "outputs": [
    {
     "data": {
      "text/plain": [
       "array([[ 37,  99,  45, 181],\n",
       "       [ 40, 139,  47, 226],\n",
       "       [ 77, 238,  92, 407]], dtype=int64)"
      ]
     },
     "execution_count": 248,
     "metadata": {},
     "output_type": "execute_result"
    }
   ],
   "source": [
    "x=np.array(x)\n",
    "x"
   ]
  },
  {
   "cell_type": "code",
   "execution_count": 249,
   "id": "90fa81d2",
   "metadata": {},
   "outputs": [
    {
     "data": {
      "text/plain": [
       "(0.1856528084886489, 0.3115847605721246)"
      ]
     },
     "execution_count": 249,
     "metadata": {},
     "output_type": "execute_result"
    }
   ],
   "source": [
    "CI_egywin_friendly=proportion_confint(count=x[0,2], nobs=x[0,3], alpha=(1-.95))\n",
    "CI_egywin_friendly"
   ]
  },
  {
   "cell_type": "code",
   "execution_count": 250,
   "id": "e22e951b",
   "metadata": {},
   "outputs": [
    {
     "data": {
      "text/plain": [
       "(0.1550517855722795, 0.2608774179675435)"
      ]
     },
     "execution_count": 250,
     "metadata": {},
     "output_type": "execute_result"
    }
   ],
   "source": [
    "CI_egywin_official=proportion_confint(count=x[1,2], nobs=x[1,3], alpha=(1-.95))\n",
    "CI_egywin_official"
   ]
  },
  {
   "cell_type": "code",
   "execution_count": 251,
   "id": "6b8d73b3",
   "metadata": {},
   "outputs": [
    {
     "data": {
      "text/html": [
       "<div>\n",
       "<style scoped>\n",
       "    .dataframe tbody tr th:only-of-type {\n",
       "        vertical-align: middle;\n",
       "    }\n",
       "\n",
       "    .dataframe tbody tr th {\n",
       "        vertical-align: top;\n",
       "    }\n",
       "\n",
       "    .dataframe thead th {\n",
       "        text-align: right;\n",
       "    }\n",
       "</style>\n",
       "<table border=\"1\" class=\"dataframe\">\n",
       "  <thead>\n",
       "    <tr style=\"text-align: right;\">\n",
       "      <th></th>\n",
       "      <th>Typematch</th>\n",
       "      <th>lb</th>\n",
       "      <th>ub</th>\n",
       "    </tr>\n",
       "  </thead>\n",
       "  <tbody>\n",
       "    <tr>\n",
       "      <th>0</th>\n",
       "      <td>Friendly</td>\n",
       "      <td>0.185653</td>\n",
       "      <td>0.311585</td>\n",
       "    </tr>\n",
       "    <tr>\n",
       "      <th>1</th>\n",
       "      <td>official</td>\n",
       "      <td>0.155052</td>\n",
       "      <td>0.260877</td>\n",
       "    </tr>\n",
       "  </tbody>\n",
       "</table>\n",
       "</div>"
      ],
      "text/plain": [
       "  Typematch        lb        ub\n",
       "0  Friendly  0.185653  0.311585\n",
       "1  official  0.155052  0.260877"
      ]
     },
     "execution_count": 251,
     "metadata": {},
     "output_type": "execute_result"
    }
   ],
   "source": [
    "ci_egywin={}\n",
    "ci_egywin['Typematch']=['Friendly','official']\n",
    "ci_egywin['lb']=[CI_egywin_friendly[0], CI_egywin_official[0]]\n",
    "ci_egywin['ub']=[CI_egywin_friendly[1],CI_egywin_official[1]]\n",
    "df_ci= pd.DataFrame(ci_egywin)\n",
    "df_ci"
   ]
  },
  {
   "cell_type": "code",
   "execution_count": 252,
   "id": "e34fc967",
   "metadata": {},
   "outputs": [
    {
     "data": {
      "text/plain": [
       "([<matplotlib.axis.YTick at 0x1ea99563fd0>,\n",
       "  <matplotlib.axis.YTick at 0x1ea99563820>],\n",
       " [Text(0, 0, 'Friendly'), Text(0, 1, 'official')])"
      ]
     },
     "execution_count": 252,
     "metadata": {},
     "output_type": "execute_result"
    },
    {
     "data": {
      "image/png": "[encoded data removed]",
      "text/plain": [
       "<Figure size 432x288 with 1 Axes>"
      ]
     },
     "metadata": {
      "needs_background": "light"
     },
     "output_type": "display_data"
    }
   ],
   "source": [
    "import matplotlib.pyplot as plt\n",
    "for lb, ub, y in zip(df_ci['lb'], df_ci['ub'], range(len(df_ci))):\n",
    "    plt.plot((lb,ub),(y,y), 'ro-')\n",
    "plt.yticks(range(len(df_ci)), list(df_ci['Typematch']))"
   ]
  },
  {
   "cell_type": "code",
   "execution_count": 253,
   "id": "6014c584",
   "metadata": {},
   "outputs": [
    {
     "name": "stderr",
     "output_type": "stream",
     "text": [
      "C:\\Users\\AUC\\AppData\\Local\\Temp/ipykernel_17108/2175071764.py:1: SettingWithCopyWarning: \n",
      "A value is trying to be set on a copy of a slice from a DataFrame.\n",
      "Try using .loc[row_indexer,col_indexer] = value instead\n",
      "\n",
      "See the caveats in the documentation: https://pandas.pydata.org/pandas-docs/stable/user_guide/indexing.html#returning-a-view-versus-a-copy\n",
      "  dfegy['home']=(dfegy['home_team']=='Egypt')\n"
     ]
    }
   ],
   "source": [
    "dfegy['home']=(dfegy['home_team']=='Egypt')"
   ]
  },
  {
   "cell_type": "code",
   "execution_count": 254,
   "id": "e72bfa68",
   "metadata": {},
   "outputs": [
    {
     "data": {
      "text/plain": [
       "True     258\n",
       "False    149\n",
       "Name: home, dtype: int64"
      ]
     },
     "execution_count": 254,
     "metadata": {},
     "output_type": "execute_result"
    }
   ],
   "source": [
    "dfegy['home'].value_counts()"
   ]
  },
  {
   "cell_type": "code",
   "execution_count": 37,
   "id": "765156a3",
   "metadata": {},
   "outputs": [
    {
     "data": {
      "text/html": [
       "<div>\n",
       "<style scoped>\n",
       "    .dataframe tbody tr th:only-of-type {\n",
       "        vertical-align: middle;\n",
       "    }\n",
       "\n",
       "    .dataframe tbody tr th {\n",
       "        vertical-align: top;\n",
       "    }\n",
       "\n",
       "    .dataframe thead th {\n",
       "        text-align: right;\n",
       "    }\n",
       "</style>\n",
       "<table border=\"1\" class=\"dataframe\">\n",
       "  <thead>\n",
       "    <tr style=\"text-align: right;\">\n",
       "      <th>result</th>\n",
       "      <th>draw</th>\n",
       "      <th>lose</th>\n",
       "      <th>win</th>\n",
       "      <th>All</th>\n",
       "    </tr>\n",
       "    <tr>\n",
       "      <th>home</th>\n",
       "      <th></th>\n",
       "      <th></th>\n",
       "      <th></th>\n",
       "      <th></th>\n",
       "    </tr>\n",
       "  </thead>\n",
       "  <tbody>\n",
       "    <tr>\n",
       "      <th>False</th>\n",
       "      <td>33</td>\n",
       "      <td>67</td>\n",
       "      <td>49</td>\n",
       "      <td>149</td>\n",
       "    </tr>\n",
       "    <tr>\n",
       "      <th>True</th>\n",
       "      <td>44</td>\n",
       "      <td>171</td>\n",
       "      <td>43</td>\n",
       "      <td>258</td>\n",
       "    </tr>\n",
       "    <tr>\n",
       "      <th>All</th>\n",
       "      <td>77</td>\n",
       "      <td>238</td>\n",
       "      <td>92</td>\n",
       "      <td>407</td>\n",
       "    </tr>\n",
       "  </tbody>\n",
       "</table>\n",
       "</div>"
      ],
      "text/plain": [
       "result  draw  lose  win  All\n",
       "home                        \n",
       "False     33    67   49  149\n",
       "True      44   171   43  258\n",
       "All       77   238   92  407"
      ]
     },
     "execution_count": 37,
     "metadata": {},
     "output_type": "execute_result"
    }
   ],
   "source": [
    "x=pd.crosstab(dfegy['home'], dfegy['result'], margins=True)\n",
    "x"
   ]
  },
  {
   "cell_type": "code",
   "execution_count": 38,
   "id": "111de76f",
   "metadata": {},
   "outputs": [
    {
     "data": {
      "text/html": [
       "<div>\n",
       "<style scoped>\n",
       "    .dataframe tbody tr th:only-of-type {\n",
       "        vertical-align: middle;\n",
       "    }\n",
       "\n",
       "    .dataframe tbody tr th {\n",
       "        vertical-align: top;\n",
       "    }\n",
       "\n",
       "    .dataframe thead th {\n",
       "        text-align: right;\n",
       "    }\n",
       "</style>\n",
       "<table border=\"1\" class=\"dataframe\">\n",
       "  <thead>\n",
       "    <tr style=\"text-align: right;\">\n",
       "      <th></th>\n",
       "      <th>date</th>\n",
       "      <th>home_team</th>\n",
       "      <th>away_team</th>\n",
       "      <th>home_score</th>\n",
       "      <th>away_score</th>\n",
       "      <th>tournament</th>\n",
       "      <th>city</th>\n",
       "      <th>country</th>\n",
       "      <th>neutral</th>\n",
       "      <th>result</th>\n",
       "      <th>typematch</th>\n",
       "      <th>home</th>\n",
       "    </tr>\n",
       "  </thead>\n",
       "  <tbody>\n",
       "    <tr>\n",
       "      <th>1463</th>\n",
       "      <td>2/19/1932</td>\n",
       "      <td>Egypt</td>\n",
       "      <td>Hungary</td>\n",
       "      <td>0</td>\n",
       "      <td>0</td>\n",
       "      <td>Friendly</td>\n",
       "      <td>Cairo</td>\n",
       "      <td>Egypt</td>\n",
       "      <td>False</td>\n",
       "      <td>draw</td>\n",
       "      <td>Friendly</td>\n",
       "      <td>True</td>\n",
       "    </tr>\n",
       "    <tr>\n",
       "      <th>1661</th>\n",
       "      <td>3/16/1934</td>\n",
       "      <td>Egypt</td>\n",
       "      <td>Israel</td>\n",
       "      <td>7</td>\n",
       "      <td>1</td>\n",
       "      <td>FIFA World Cup qualification</td>\n",
       "      <td>Cairo</td>\n",
       "      <td>Egypt</td>\n",
       "      <td>False</td>\n",
       "      <td>lose</td>\n",
       "      <td>official</td>\n",
       "      <td>True</td>\n",
       "    </tr>\n",
       "    <tr>\n",
       "      <th>1895</th>\n",
       "      <td>6/19/1936</td>\n",
       "      <td>Egypt</td>\n",
       "      <td>Greece</td>\n",
       "      <td>3</td>\n",
       "      <td>1</td>\n",
       "      <td>Friendly</td>\n",
       "      <td>Cairo</td>\n",
       "      <td>Egypt</td>\n",
       "      <td>False</td>\n",
       "      <td>lose</td>\n",
       "      <td>Friendly</td>\n",
       "      <td>True</td>\n",
       "    </tr>\n",
       "    <tr>\n",
       "      <th>2927</th>\n",
       "      <td>12/24/1948</td>\n",
       "      <td>Egypt</td>\n",
       "      <td>Norway</td>\n",
       "      <td>1</td>\n",
       "      <td>1</td>\n",
       "      <td>Friendly</td>\n",
       "      <td>Cairo</td>\n",
       "      <td>Egypt</td>\n",
       "      <td>False</td>\n",
       "      <td>draw</td>\n",
       "      <td>Friendly</td>\n",
       "      <td>True</td>\n",
       "    </tr>\n",
       "  </tbody>\n",
       "</table>\n",
       "</div>"
      ],
      "text/plain": [
       "            date home_team away_team  home_score  away_score  \\\n",
       "1463   2/19/1932     Egypt   Hungary           0           0   \n",
       "1661   3/16/1934     Egypt    Israel           7           1   \n",
       "1895   6/19/1936     Egypt    Greece           3           1   \n",
       "2927  12/24/1948     Egypt    Norway           1           1   \n",
       "\n",
       "                        tournament   city country  neutral result typematch  \\\n",
       "1463                      Friendly  Cairo   Egypt    False   draw  Friendly   \n",
       "1661  FIFA World Cup qualification  Cairo   Egypt    False   lose  official   \n",
       "1895                      Friendly  Cairo   Egypt    False   lose  Friendly   \n",
       "2927                      Friendly  Cairo   Egypt    False   draw  Friendly   \n",
       "\n",
       "      home  \n",
       "1463  True  \n",
       "1661  True  \n",
       "1895  True  \n",
       "2927  True  "
      ]
     },
     "execution_count": 38,
     "metadata": {},
     "output_type": "execute_result"
    }
   ],
   "source": [
    "dfegy.head(4)"
   ]
  },
  {
   "cell_type": "code",
   "execution_count": 39,
   "id": "051e2e55",
   "metadata": {},
   "outputs": [
    {
     "data": {
      "text/plain": [
       "array([[ 33,  67,  49, 149],\n",
       "       [ 44, 171,  43, 258],\n",
       "       [ 77, 238,  92, 407]], dtype=int64)"
      ]
     },
     "execution_count": 39,
     "metadata": {},
     "output_type": "execute_result"
    }
   ],
   "source": [
    "x=np.array(x)\n",
    "x"
   ]
  },
  {
   "cell_type": "code",
   "execution_count": 40,
   "id": "3fb3ed79",
   "metadata": {},
   "outputs": [
    {
     "data": {
      "text/plain": [
       "(0.12119174183927744, 0.21214159149405587)"
      ]
     },
     "execution_count": 40,
     "metadata": {},
     "output_type": "execute_result"
    }
   ],
   "source": [
    "CI_egywin_home=proportion_confint(count=x[1,2], nobs=x[1,3], alpha=(1-.95))\n",
    "CI_egywin_home"
   ]
  },
  {
   "cell_type": "code",
   "execution_count": 41,
   "id": "91bb4106",
   "metadata": {},
   "outputs": [
    {
     "data": {
      "text/plain": [
       "(0.25342513144684364, 0.40429298935852553)"
      ]
     },
     "execution_count": 41,
     "metadata": {},
     "output_type": "execute_result"
    }
   ],
   "source": [
    "CI_egywin_away=proportion_confint(count=x[0,2],nobs=x[0,3], alpha=(1-.95))\n",
    "CI_egywin_away"
   ]
  },
  {
   "cell_type": "code",
   "execution_count": 42,
   "id": "d3d04b22",
   "metadata": {},
   "outputs": [
    {
     "data": {
      "text/html": [
       "<div>\n",
       "<style scoped>\n",
       "    .dataframe tbody tr th:only-of-type {\n",
       "        vertical-align: middle;\n",
       "    }\n",
       "\n",
       "    .dataframe tbody tr th {\n",
       "        vertical-align: top;\n",
       "    }\n",
       "\n",
       "    .dataframe thead th {\n",
       "        text-align: right;\n",
       "    }\n",
       "</style>\n",
       "<table border=\"1\" class=\"dataframe\">\n",
       "  <thead>\n",
       "    <tr style=\"text-align: right;\">\n",
       "      <th></th>\n",
       "      <th>home</th>\n",
       "      <th>lb</th>\n",
       "      <th>ub</th>\n",
       "    </tr>\n",
       "  </thead>\n",
       "  <tbody>\n",
       "    <tr>\n",
       "      <th>0</th>\n",
       "      <td>Yes</td>\n",
       "      <td>0.121192</td>\n",
       "      <td>0.212142</td>\n",
       "    </tr>\n",
       "    <tr>\n",
       "      <th>1</th>\n",
       "      <td>No</td>\n",
       "      <td>0.253425</td>\n",
       "      <td>0.404293</td>\n",
       "    </tr>\n",
       "  </tbody>\n",
       "</table>\n",
       "</div>"
      ],
      "text/plain": [
       "  home        lb        ub\n",
       "0  Yes  0.121192  0.212142\n",
       "1   No  0.253425  0.404293"
      ]
     },
     "execution_count": 42,
     "metadata": {},
     "output_type": "execute_result"
    }
   ],
   "source": [
    "ci_egywin = {}\n",
    "ci_egywin['home'] = ['Yes','No']\n",
    "ci_egywin['lb'] = [CI_egywin_home[0],CI_egywin_away[0]]\n",
    "ci_egywin['ub'] = [CI_egywin_home[1],CI_egywin_away[1]]\n",
    "df_ci= pd.DataFrame(ci_egywin)\n",
    "df_ci"
   ]
  },
  {
   "cell_type": "code",
   "execution_count": 67,
   "id": "ff17d885",
   "metadata": {},
   "outputs": [
    {
     "data": {
      "text/plain": [
       "([<matplotlib.axis.YTick at 0x1ea9821dd60>,\n",
       "  <matplotlib.axis.YTick at 0x1ea9821d5e0>],\n",
       " [Text(0, 0, 'Yes'), Text(0, 1, 'No')])"
      ]
     },
     "execution_count": 67,
     "metadata": {},
     "output_type": "execute_result"
    },
    {
     "data": {
      "image/png": "[encoded data removed]",
      "text/plain": [
       "<Figure size 432x288 with 1 Axes>"
      ]
     },
     "metadata": {
      "needs_background": "light"
     },
     "output_type": "display_data"
    }
   ],
   "source": [
    "for lb,ub,y in zip(df_ci['lb'],df_ci['ub'],range(len(df_ci))):\n",
    "    plt.plot((lb,ub),(y,y),'ro-')\n",
    "plt.yticks(range(len(df_ci)),list(df_ci['home']))"
   ]
  },
  {
   "cell_type": "markdown",
   "id": "0f243f6b",
   "metadata": {},
   "source": [
    "## 2-Brazil "
   ]
  },
  {
   "cell_type": "code",
   "execution_count": 45,
   "id": "20288ee4",
   "metadata": {},
   "outputs": [],
   "source": [
    "dfbra=df[df['country']=='Brazil']"
   ]
  },
  {
   "cell_type": "code",
   "execution_count": 48,
   "id": "8edd2f1e",
   "metadata": {},
   "outputs": [
    {
     "data": {
      "text/html": [
       "<div>\n",
       "<style scoped>\n",
       "    .dataframe tbody tr th:only-of-type {\n",
       "        vertical-align: middle;\n",
       "    }\n",
       "\n",
       "    .dataframe tbody tr th {\n",
       "        vertical-align: top;\n",
       "    }\n",
       "\n",
       "    .dataframe thead th {\n",
       "        text-align: right;\n",
       "    }\n",
       "</style>\n",
       "<table border=\"1\" class=\"dataframe\">\n",
       "  <thead>\n",
       "    <tr style=\"text-align: right;\">\n",
       "      <th></th>\n",
       "      <th>date</th>\n",
       "      <th>home_team</th>\n",
       "      <th>away_team</th>\n",
       "      <th>home_score</th>\n",
       "      <th>away_score</th>\n",
       "      <th>tournament</th>\n",
       "      <th>city</th>\n",
       "      <th>country</th>\n",
       "      <th>neutral</th>\n",
       "      <th>result</th>\n",
       "    </tr>\n",
       "  </thead>\n",
       "  <tbody>\n",
       "    <tr>\n",
       "      <th>503</th>\n",
       "      <td>5/11/1919</td>\n",
       "      <td>Brazil</td>\n",
       "      <td>Chile</td>\n",
       "      <td>6</td>\n",
       "      <td>0</td>\n",
       "      <td>Copa América</td>\n",
       "      <td>Rio de Janeiro</td>\n",
       "      <td>Brazil</td>\n",
       "      <td>False</td>\n",
       "      <td>lose</td>\n",
       "    </tr>\n",
       "    <tr>\n",
       "      <th>505</th>\n",
       "      <td>5/13/1919</td>\n",
       "      <td>Argentina</td>\n",
       "      <td>Uruguay</td>\n",
       "      <td>2</td>\n",
       "      <td>3</td>\n",
       "      <td>Copa América</td>\n",
       "      <td>Rio de Janeiro</td>\n",
       "      <td>Brazil</td>\n",
       "      <td>True</td>\n",
       "      <td>win</td>\n",
       "    </tr>\n",
       "    <tr>\n",
       "      <th>507</th>\n",
       "      <td>5/17/1919</td>\n",
       "      <td>Chile</td>\n",
       "      <td>Uruguay</td>\n",
       "      <td>0</td>\n",
       "      <td>2</td>\n",
       "      <td>Copa América</td>\n",
       "      <td>Rio de Janeiro</td>\n",
       "      <td>Brazil</td>\n",
       "      <td>True</td>\n",
       "      <td>win</td>\n",
       "    </tr>\n",
       "    <tr>\n",
       "      <th>508</th>\n",
       "      <td>5/18/1919</td>\n",
       "      <td>Brazil</td>\n",
       "      <td>Argentina</td>\n",
       "      <td>3</td>\n",
       "      <td>1</td>\n",
       "      <td>Copa América</td>\n",
       "      <td>Rio de Janeiro</td>\n",
       "      <td>Brazil</td>\n",
       "      <td>False</td>\n",
       "      <td>lose</td>\n",
       "    </tr>\n",
       "    <tr>\n",
       "      <th>510</th>\n",
       "      <td>5/22/1919</td>\n",
       "      <td>Argentina</td>\n",
       "      <td>Chile</td>\n",
       "      <td>4</td>\n",
       "      <td>1</td>\n",
       "      <td>Copa América</td>\n",
       "      <td>Rio de Janeiro</td>\n",
       "      <td>Brazil</td>\n",
       "      <td>True</td>\n",
       "      <td>lose</td>\n",
       "    </tr>\n",
       "  </tbody>\n",
       "</table>\n",
       "</div>"
      ],
      "text/plain": [
       "          date  home_team  away_team  home_score  away_score    tournament  \\\n",
       "503  5/11/1919     Brazil      Chile           6           0  Copa América   \n",
       "505  5/13/1919  Argentina    Uruguay           2           3  Copa América   \n",
       "507  5/17/1919      Chile    Uruguay           0           2  Copa América   \n",
       "508  5/18/1919     Brazil  Argentina           3           1  Copa América   \n",
       "510  5/22/1919  Argentina      Chile           4           1  Copa América   \n",
       "\n",
       "               city country  neutral result  \n",
       "503  Rio de Janeiro  Brazil    False   lose  \n",
       "505  Rio de Janeiro  Brazil     True    win  \n",
       "507  Rio de Janeiro  Brazil     True    win  \n",
       "508  Rio de Janeiro  Brazil    False   lose  \n",
       "510  Rio de Janeiro  Brazil     True   lose  "
      ]
     },
     "execution_count": 48,
     "metadata": {},
     "output_type": "execute_result"
    }
   ],
   "source": [
    "dfbra.head()"
   ]
  },
  {
   "cell_type": "code",
   "execution_count": 49,
   "id": "7ffcb4a3",
   "metadata": {},
   "outputs": [],
   "source": [
    "conditions=[\n",
    "    (dfbra['tournament']=='Friendly'),\n",
    "    (dfbra['tournament']!='Friendly')\n",
    "]"
   ]
  },
  {
   "cell_type": "code",
   "execution_count": 50,
   "id": "0da3708e",
   "metadata": {},
   "outputs": [],
   "source": [
    "values=['Friendly', 'Official']"
   ]
  },
  {
   "cell_type": "code",
   "execution_count": 51,
   "id": "a7b7d207",
   "metadata": {},
   "outputs": [
    {
     "name": "stderr",
     "output_type": "stream",
     "text": [
      "C:\\Users\\AUC\\AppData\\Local\\Temp/ipykernel_17108/724107232.py:1: SettingWithCopyWarning: \n",
      "A value is trying to be set on a copy of a slice from a DataFrame.\n",
      "Try using .loc[row_indexer,col_indexer] = value instead\n",
      "\n",
      "See the caveats in the documentation: https://pandas.pydata.org/pandas-docs/stable/user_guide/indexing.html#returning-a-view-versus-a-copy\n",
      "  dfbra['typematch']=np.select(conditions,values)\n"
     ]
    }
   ],
   "source": [
    "dfbra['typematch']=np.select(conditions,values)"
   ]
  },
  {
   "cell_type": "code",
   "execution_count": 52,
   "id": "4770c1a1",
   "metadata": {},
   "outputs": [
    {
     "data": {
      "text/plain": [
       "Official    373\n",
       "Friendly    194\n",
       "Name: typematch, dtype: int64"
      ]
     },
     "execution_count": 52,
     "metadata": {},
     "output_type": "execute_result"
    }
   ],
   "source": [
    "dfbra['typematch'].value_counts()"
   ]
  },
  {
   "cell_type": "markdown",
   "id": "f9113c82",
   "metadata": {},
   "source": [
    "now I am going to compare the probability of win/lose/draw according to the type of match"
   ]
  },
  {
   "cell_type": "code",
   "execution_count": 53,
   "id": "17b77f88",
   "metadata": {},
   "outputs": [
    {
     "data": {
      "text/html": [
       "<div>\n",
       "<style scoped>\n",
       "    .dataframe tbody tr th:only-of-type {\n",
       "        vertical-align: middle;\n",
       "    }\n",
       "\n",
       "    .dataframe tbody tr th {\n",
       "        vertical-align: top;\n",
       "    }\n",
       "\n",
       "    .dataframe thead th {\n",
       "        text-align: right;\n",
       "    }\n",
       "</style>\n",
       "<table border=\"1\" class=\"dataframe\">\n",
       "  <thead>\n",
       "    <tr style=\"text-align: right;\">\n",
       "      <th>result</th>\n",
       "      <th>draw</th>\n",
       "      <th>lose</th>\n",
       "      <th>win</th>\n",
       "      <th>All</th>\n",
       "    </tr>\n",
       "    <tr>\n",
       "      <th>typematch</th>\n",
       "      <th></th>\n",
       "      <th></th>\n",
       "      <th></th>\n",
       "      <th></th>\n",
       "    </tr>\n",
       "  </thead>\n",
       "  <tbody>\n",
       "    <tr>\n",
       "      <th>Friendly</th>\n",
       "      <td>38</td>\n",
       "      <td>146</td>\n",
       "      <td>10</td>\n",
       "      <td>194</td>\n",
       "    </tr>\n",
       "    <tr>\n",
       "      <th>Official</th>\n",
       "      <td>80</td>\n",
       "      <td>190</td>\n",
       "      <td>103</td>\n",
       "      <td>373</td>\n",
       "    </tr>\n",
       "    <tr>\n",
       "      <th>All</th>\n",
       "      <td>118</td>\n",
       "      <td>336</td>\n",
       "      <td>113</td>\n",
       "      <td>567</td>\n",
       "    </tr>\n",
       "  </tbody>\n",
       "</table>\n",
       "</div>"
      ],
      "text/plain": [
       "result     draw  lose  win  All\n",
       "typematch                      \n",
       "Friendly     38   146   10  194\n",
       "Official     80   190  103  373\n",
       "All         118   336  113  567"
      ]
     },
     "execution_count": 53,
     "metadata": {},
     "output_type": "execute_result"
    }
   ],
   "source": [
    "y=pd.crosstab(dfbra['typematch'],dfbra['result'], margins=True)\n",
    "y"
   ]
  },
  {
   "cell_type": "code",
   "execution_count": 54,
   "id": "0eb50e7e",
   "metadata": {},
   "outputs": [
    {
     "data": {
      "text/plain": [
       "array([[ 38, 146,  10, 194],\n",
       "       [ 80, 190, 103, 373],\n",
       "       [118, 336, 113, 567]], dtype=int64)"
      ]
     },
     "execution_count": 54,
     "metadata": {},
     "output_type": "execute_result"
    }
   ],
   "source": [
    "y=np.array(y)\n",
    "y"
   ]
  },
  {
   "cell_type": "code",
   "execution_count": 55,
   "id": "cfed002d",
   "metadata": {},
   "outputs": [
    {
     "data": {
      "text/plain": [
       "(0.02043249489958943, 0.08266028860556521)"
      ]
     },
     "execution_count": 55,
     "metadata": {},
     "output_type": "execute_result"
    }
   ],
   "source": [
    "CI_brawin_friendly=proportion_confint(count=y[0,2],nobs=y[0,3],alpha=(1-.95))\n",
    "CI_brawin_friendly"
   ]
  },
  {
   "cell_type": "code",
   "execution_count": 56,
   "id": "1a073fda",
   "metadata": {},
   "outputs": [
    {
     "data": {
      "text/plain": [
       "(0.23076768031938502, 0.32151114005595016)"
      ]
     },
     "execution_count": 56,
     "metadata": {},
     "output_type": "execute_result"
    }
   ],
   "source": [
    "CI_brawin_official=proportion_confint(count=y[1,2],nobs=y[1,3],alpha=(1-.95))\n",
    "CI_brawin_official"
   ]
  },
  {
   "cell_type": "markdown",
   "id": "9945e659",
   "metadata": {},
   "source": [
    "Now I will be plotting the confidence intervals"
   ]
  },
  {
   "cell_type": "code",
   "execution_count": 57,
   "id": "13049718",
   "metadata": {},
   "outputs": [
    {
     "data": {
      "text/html": [
       "<div>\n",
       "<style scoped>\n",
       "    .dataframe tbody tr th:only-of-type {\n",
       "        vertical-align: middle;\n",
       "    }\n",
       "\n",
       "    .dataframe tbody tr th {\n",
       "        vertical-align: top;\n",
       "    }\n",
       "\n",
       "    .dataframe thead th {\n",
       "        text-align: right;\n",
       "    }\n",
       "</style>\n",
       "<table border=\"1\" class=\"dataframe\">\n",
       "  <thead>\n",
       "    <tr style=\"text-align: right;\">\n",
       "      <th></th>\n",
       "      <th>Typematch</th>\n",
       "      <th>lb</th>\n",
       "      <th>ub</th>\n",
       "    </tr>\n",
       "  </thead>\n",
       "  <tbody>\n",
       "    <tr>\n",
       "      <th>0</th>\n",
       "      <td>Friendly</td>\n",
       "      <td>0.020432</td>\n",
       "      <td>0.082660</td>\n",
       "    </tr>\n",
       "    <tr>\n",
       "      <th>1</th>\n",
       "      <td>Official</td>\n",
       "      <td>0.230768</td>\n",
       "      <td>0.321511</td>\n",
       "    </tr>\n",
       "  </tbody>\n",
       "</table>\n",
       "</div>"
      ],
      "text/plain": [
       "  Typematch        lb        ub\n",
       "0  Friendly  0.020432  0.082660\n",
       "1  Official  0.230768  0.321511"
      ]
     },
     "execution_count": 57,
     "metadata": {},
     "output_type": "execute_result"
    }
   ],
   "source": [
    "ci_brawin={}\n",
    "ci_brawin['Typematch']=['Friendly','Official']\n",
    "ci_brawin['lb']=[CI_brawin_friendly[0],CI_brawin_official[0]]\n",
    "ci_brawin['ub'] = [CI_brawin_friendly[1],CI_brawin_official[1]]\n",
    "df_ci= pd.DataFrame(ci_brawin)\n",
    "df_ci"
   ]
  },
  {
   "cell_type": "code",
   "execution_count": 58,
   "id": "792b41c4",
   "metadata": {},
   "outputs": [
    {
     "data": {
      "text/plain": [
       "([<matplotlib.axis.YTick at 0x1ea9816c7f0>,\n",
       "  <matplotlib.axis.YTick at 0x1ea98166fa0>],\n",
       " [Text(0, 0, 'Friendly'), Text(0, 1, 'Official')])"
      ]
     },
     "execution_count": 58,
     "metadata": {},
     "output_type": "execute_result"
    },
    {
     "data": {
      "image/png": "[encoded data removed]",
      "text/plain": [
       "<Figure size 432x288 with 1 Axes>"
      ]
     },
     "metadata": {
      "needs_background": "light"
     },
     "output_type": "display_data"
    }
   ],
   "source": [
    "import matplotlib.pyplot as plt\n",
    "for lb,ub,y in zip(df_ci['lb'],df_ci['ub'],range(len(df_ci))):\n",
    "    plt.plot((lb,ub),(y,y),'ro-')\n",
    "plt.yticks(range(len(df_ci)),list(df_ci['Typematch']))"
   ]
  },
  {
   "cell_type": "markdown",
   "id": "4fefdfab",
   "metadata": {},
   "source": [
    "Now I will check the impact of fans by comparing the probability of winning between home matches and away matches."
   ]
  },
  {
   "cell_type": "code",
   "execution_count": 59,
   "id": "6e0b4354",
   "metadata": {},
   "outputs": [
    {
     "name": "stderr",
     "output_type": "stream",
     "text": [
      "C:\\Users\\AUC\\AppData\\Local\\Temp/ipykernel_17108/3044022109.py:1: SettingWithCopyWarning: \n",
      "A value is trying to be set on a copy of a slice from a DataFrame.\n",
      "Try using .loc[row_indexer,col_indexer] = value instead\n",
      "\n",
      "See the caveats in the documentation: https://pandas.pydata.org/pandas-docs/stable/user_guide/indexing.html#returning-a-view-versus-a-copy\n",
      "  dfbra['home']=(dfbra['home_team']=='Brazil')\n"
     ]
    }
   ],
   "source": [
    "dfbra['home']=(dfbra['home_team']=='Brazil')"
   ]
  },
  {
   "cell_type": "code",
   "execution_count": 60,
   "id": "fbb75076",
   "metadata": {},
   "outputs": [
    {
     "data": {
      "text/plain": [
       "True     353\n",
       "False    214\n",
       "Name: home, dtype: int64"
      ]
     },
     "execution_count": 60,
     "metadata": {},
     "output_type": "execute_result"
    }
   ],
   "source": [
    "dfbra['home'].value_counts()"
   ]
  },
  {
   "cell_type": "code",
   "execution_count": 61,
   "id": "e65805f2",
   "metadata": {},
   "outputs": [
    {
     "data": {
      "text/html": [
       "<div>\n",
       "<style scoped>\n",
       "    .dataframe tbody tr th:only-of-type {\n",
       "        vertical-align: middle;\n",
       "    }\n",
       "\n",
       "    .dataframe tbody tr th {\n",
       "        vertical-align: top;\n",
       "    }\n",
       "\n",
       "    .dataframe thead th {\n",
       "        text-align: right;\n",
       "    }\n",
       "</style>\n",
       "<table border=\"1\" class=\"dataframe\">\n",
       "  <thead>\n",
       "    <tr style=\"text-align: right;\">\n",
       "      <th>result</th>\n",
       "      <th>draw</th>\n",
       "      <th>lose</th>\n",
       "      <th>win</th>\n",
       "      <th>All</th>\n",
       "    </tr>\n",
       "    <tr>\n",
       "      <th>home</th>\n",
       "      <th></th>\n",
       "      <th></th>\n",
       "      <th></th>\n",
       "      <th></th>\n",
       "    </tr>\n",
       "  </thead>\n",
       "  <tbody>\n",
       "    <tr>\n",
       "      <th>False</th>\n",
       "      <td>47</td>\n",
       "      <td>77</td>\n",
       "      <td>90</td>\n",
       "      <td>214</td>\n",
       "    </tr>\n",
       "    <tr>\n",
       "      <th>True</th>\n",
       "      <td>71</td>\n",
       "      <td>259</td>\n",
       "      <td>23</td>\n",
       "      <td>353</td>\n",
       "    </tr>\n",
       "    <tr>\n",
       "      <th>All</th>\n",
       "      <td>118</td>\n",
       "      <td>336</td>\n",
       "      <td>113</td>\n",
       "      <td>567</td>\n",
       "    </tr>\n",
       "  </tbody>\n",
       "</table>\n",
       "</div>"
      ],
      "text/plain": [
       "result  draw  lose  win  All\n",
       "home                        \n",
       "False     47    77   90  214\n",
       "True      71   259   23  353\n",
       "All      118   336  113  567"
      ]
     },
     "execution_count": 61,
     "metadata": {},
     "output_type": "execute_result"
    }
   ],
   "source": [
    "y=pd.crosstab(dfbra['home'],dfbra['result'],margins=True)\n",
    "y"
   ]
  },
  {
   "cell_type": "code",
   "execution_count": 62,
   "id": "4e072a31",
   "metadata": {},
   "outputs": [
    {
     "data": {
      "text/plain": [
       "array([[ 47,  77,  90, 214],\n",
       "       [ 71, 259,  23, 353],\n",
       "       [118, 336, 113, 567]], dtype=int64)"
      ]
     },
     "execution_count": 62,
     "metadata": {},
     "output_type": "execute_result"
    }
   ],
   "source": [
    "y=np.array(y)\n",
    "y"
   ]
  },
  {
   "cell_type": "code",
   "execution_count": 63,
   "id": "a96647fb",
   "metadata": {},
   "outputs": [
    {
     "data": {
      "text/plain": [
       "(0.35442145769233024, 0.48670003763477254)"
      ]
     },
     "execution_count": 63,
     "metadata": {},
     "output_type": "execute_result"
    }
   ],
   "source": [
    "CI_brawin_away=proportion_confint(count=y[0,2], nobs=y[0,3],alpha=(1-.95))\n",
    "CI_brawin_away"
   ]
  },
  {
   "cell_type": "code",
   "execution_count": 64,
   "id": "a129e477",
   "metadata": {},
   "outputs": [
    {
     "data": {
      "text/plain": [
       "(0.03940997596569566, 0.09090163876518252)"
      ]
     },
     "execution_count": 64,
     "metadata": {},
     "output_type": "execute_result"
    }
   ],
   "source": [
    "CI_brawin_home=proportion_confint(count=y[1,2], nobs=y[1,3],alpha=(1-.95))\n",
    "CI_brawin_home"
   ]
  },
  {
   "cell_type": "code",
   "execution_count": 65,
   "id": "2455c7f9",
   "metadata": {},
   "outputs": [
    {
     "data": {
      "text/html": [
       "<div>\n",
       "<style scoped>\n",
       "    .dataframe tbody tr th:only-of-type {\n",
       "        vertical-align: middle;\n",
       "    }\n",
       "\n",
       "    .dataframe tbody tr th {\n",
       "        vertical-align: top;\n",
       "    }\n",
       "\n",
       "    .dataframe thead th {\n",
       "        text-align: right;\n",
       "    }\n",
       "</style>\n",
       "<table border=\"1\" class=\"dataframe\">\n",
       "  <thead>\n",
       "    <tr style=\"text-align: right;\">\n",
       "      <th></th>\n",
       "      <th>home</th>\n",
       "      <th>lb</th>\n",
       "      <th>ub</th>\n",
       "    </tr>\n",
       "  </thead>\n",
       "  <tbody>\n",
       "    <tr>\n",
       "      <th>0</th>\n",
       "      <td>Yes</td>\n",
       "      <td>0.039410</td>\n",
       "      <td>0.090902</td>\n",
       "    </tr>\n",
       "    <tr>\n",
       "      <th>1</th>\n",
       "      <td>No</td>\n",
       "      <td>0.354421</td>\n",
       "      <td>0.486700</td>\n",
       "    </tr>\n",
       "  </tbody>\n",
       "</table>\n",
       "</div>"
      ],
      "text/plain": [
       "  home        lb        ub\n",
       "0  Yes  0.039410  0.090902\n",
       "1   No  0.354421  0.486700"
      ]
     },
     "execution_count": 65,
     "metadata": {},
     "output_type": "execute_result"
    }
   ],
   "source": [
    "ci_brawin = {}\n",
    "ci_brawin['home'] = ['Yes','No']\n",
    "ci_brawin['lb'] = [CI_brawin_home[0],CI_brawin_away[0]]\n",
    "ci_brawin['ub'] = [CI_brawin_home[1],CI_brawin_away[1]]\n",
    "df_ci= pd.DataFrame(ci_brawin)\n",
    "df_ci"
   ]
  },
  {
   "cell_type": "code",
   "execution_count": 66,
   "id": "65b61d3a",
   "metadata": {},
   "outputs": [
    {
     "data": {
      "text/plain": [
       "([<matplotlib.axis.YTick at 0x1ea981cafa0>,\n",
       "  <matplotlib.axis.YTick at 0x1ea981ca820>],\n",
       " [Text(0, 0, 'Yes'), Text(0, 1, 'No')])"
      ]
     },
     "execution_count": 66,
     "metadata": {},
     "output_type": "execute_result"
    },
    {
     "data": {
      "image/png": "[encoded data removed]",
      "text/plain": [
       "<Figure size 432x288 with 1 Axes>"
      ]
     },
     "metadata": {
      "needs_background": "light"
     },
     "output_type": "display_data"
    }
   ],
   "source": [
    "for lb,ub,y in zip(df_ci['lb'],df_ci['ub'],range(len(df_ci))):\n",
    "    plt.plot((lb,ub),(y,y),'ro-')\n",
    "plt.yticks(range(len(df_ci)),list(df_ci['home']))"
   ]
  },
  {
   "cell_type": "markdown",
   "id": "ddb945e9",
   "metadata": {},
   "source": [
    "## 3-Scotland "
   ]
  },
  {
   "cell_type": "markdown",
   "id": "e368be70",
   "metadata": {},
   "source": [
    "Now we will be studying Scotland"
   ]
  },
  {
   "cell_type": "code",
   "execution_count": 69,
   "id": "8848c7f8",
   "metadata": {},
   "outputs": [],
   "source": [
    "dfscot=df[df['country']=='Scotland']"
   ]
  },
  {
   "cell_type": "markdown",
   "id": "0ccab0ad",
   "metadata": {},
   "source": [
    "Now I will create a variable type of the match friendly/not friendly and home/away from home match"
   ]
  },
  {
   "cell_type": "code",
   "execution_count": 70,
   "id": "7c17835b",
   "metadata": {},
   "outputs": [],
   "source": [
    "conditions=[\n",
    "    (dfscot['tournament']=='Friendly'),\n",
    "    (dfscot['tournament']!='Friendly')\n",
    "]"
   ]
  },
  {
   "cell_type": "code",
   "execution_count": 71,
   "id": "9f56d90d",
   "metadata": {},
   "outputs": [],
   "source": [
    "values=['Friendly', 'Official']"
   ]
  },
  {
   "cell_type": "code",
   "execution_count": 74,
   "id": "b7d98b2d",
   "metadata": {},
   "outputs": [
    {
     "name": "stderr",
     "output_type": "stream",
     "text": [
      "C:\\Users\\AUC\\AppData\\Local\\Temp/ipykernel_17108/2488230950.py:1: SettingWithCopyWarning: \n",
      "A value is trying to be set on a copy of a slice from a DataFrame.\n",
      "Try using .loc[row_indexer,col_indexer] = value instead\n",
      "\n",
      "See the caveats in the documentation: https://pandas.pydata.org/pandas-docs/stable/user_guide/indexing.html#returning-a-view-versus-a-copy\n",
      "  dfscot['typematch']=np.select(conditions , values)\n"
     ]
    }
   ],
   "source": [
    "dfscot['typematch']=np.select(conditions , values)"
   ]
  },
  {
   "cell_type": "code",
   "execution_count": 75,
   "id": "adb1b06d",
   "metadata": {},
   "outputs": [
    {
     "data": {
      "text/plain": [
       "Official    297\n",
       "Friendly    107\n",
       "Name: typematch, dtype: int64"
      ]
     },
     "execution_count": 75,
     "metadata": {},
     "output_type": "execute_result"
    }
   ],
   "source": [
    "dfscot['typematch'].value_counts()"
   ]
  },
  {
   "cell_type": "markdown",
   "id": "e418e347",
   "metadata": {},
   "source": [
    "Now I will be comparing the probability of win/lose/draw by the tyoe of the match"
   ]
  },
  {
   "cell_type": "code",
   "execution_count": 76,
   "id": "b3a13db1",
   "metadata": {},
   "outputs": [
    {
     "data": {
      "text/html": [
       "<div>\n",
       "<style scoped>\n",
       "    .dataframe tbody tr th:only-of-type {\n",
       "        vertical-align: middle;\n",
       "    }\n",
       "\n",
       "    .dataframe tbody tr th {\n",
       "        vertical-align: top;\n",
       "    }\n",
       "\n",
       "    .dataframe thead th {\n",
       "        text-align: right;\n",
       "    }\n",
       "</style>\n",
       "<table border=\"1\" class=\"dataframe\">\n",
       "  <thead>\n",
       "    <tr style=\"text-align: right;\">\n",
       "      <th>result</th>\n",
       "      <th>draw</th>\n",
       "      <th>lose</th>\n",
       "      <th>win</th>\n",
       "      <th>All</th>\n",
       "    </tr>\n",
       "    <tr>\n",
       "      <th>typematch</th>\n",
       "      <th></th>\n",
       "      <th></th>\n",
       "      <th></th>\n",
       "      <th></th>\n",
       "    </tr>\n",
       "  </thead>\n",
       "  <tbody>\n",
       "    <tr>\n",
       "      <th>Friendly</th>\n",
       "      <td>19</td>\n",
       "      <td>54</td>\n",
       "      <td>34</td>\n",
       "      <td>107</td>\n",
       "    </tr>\n",
       "    <tr>\n",
       "      <th>Official</th>\n",
       "      <td>64</td>\n",
       "      <td>177</td>\n",
       "      <td>56</td>\n",
       "      <td>297</td>\n",
       "    </tr>\n",
       "    <tr>\n",
       "      <th>All</th>\n",
       "      <td>83</td>\n",
       "      <td>231</td>\n",
       "      <td>90</td>\n",
       "      <td>404</td>\n",
       "    </tr>\n",
       "  </tbody>\n",
       "</table>\n",
       "</div>"
      ],
      "text/plain": [
       "result     draw  lose  win  All\n",
       "typematch                      \n",
       "Friendly     19    54   34  107\n",
       "Official     64   177   56  297\n",
       "All          83   231   90  404"
      ]
     },
     "execution_count": 76,
     "metadata": {},
     "output_type": "execute_result"
    }
   ],
   "source": [
    "x=pd.crosstab(dfscot['typematch'],dfscot['result'],margins=True)\n",
    "x"
   ]
  },
  {
   "cell_type": "code",
   "execution_count": 77,
   "id": "1831c0d0",
   "metadata": {},
   "outputs": [
    {
     "data": {
      "text/plain": [
       "array([[ 19,  54,  34, 107],\n",
       "       [ 64, 177,  56, 297],\n",
       "       [ 83, 231,  90, 404]], dtype=int64)"
      ]
     },
     "execution_count": 77,
     "metadata": {},
     "output_type": "execute_result"
    }
   ],
   "source": [
    "x=np.array(x)\n",
    "x"
   ]
  },
  {
   "cell_type": "code",
   "execution_count": 78,
   "id": "a67fd381",
   "metadata": {},
   "outputs": [
    {
     "data": {
      "text/plain": [
       "(0.22953573779233233, 0.4059782808992564)"
      ]
     },
     "execution_count": 78,
     "metadata": {},
     "output_type": "execute_result"
    }
   ],
   "source": [
    "CI_scotwin_friendly=proportion_confint(count=x[0,2],nobs=x[0,3],alpha=(1-.95))\n",
    "CI_scotwin_friendly"
   ]
  },
  {
   "cell_type": "code",
   "execution_count": 79,
   "id": "05fec838",
   "metadata": {},
   "outputs": [
    {
     "data": {
      "text/plain": [
       "(0.22953573779233233, 0.4059782808992564)"
      ]
     },
     "execution_count": 79,
     "metadata": {},
     "output_type": "execute_result"
    }
   ],
   "source": [
    "CI_scotwin_friendly=proportion_confint(count=x[0,2],nobs=x[0,3],alpha=(1-.95))\n",
    "CI_scotwin_friendly"
   ]
  },
  {
   "cell_type": "code",
   "execution_count": 81,
   "id": "5764f399",
   "metadata": {},
   "outputs": [
    {
     "data": {
      "text/plain": [
       "(0.1440669471299619, 0.2330374299744152)"
      ]
     },
     "execution_count": 81,
     "metadata": {},
     "output_type": "execute_result"
    }
   ],
   "source": [
    "CI_scotwin_official=proportion_confint(count=x[1,2],nobs=x[1,3],alpha=(1-.95))\n",
    "CI_scotwin_official"
   ]
  },
  {
   "cell_type": "code",
   "execution_count": 82,
   "id": "4b7821cf",
   "metadata": {},
   "outputs": [
    {
     "data": {
      "text/html": [
       "<div>\n",
       "<style scoped>\n",
       "    .dataframe tbody tr th:only-of-type {\n",
       "        vertical-align: middle;\n",
       "    }\n",
       "\n",
       "    .dataframe tbody tr th {\n",
       "        vertical-align: top;\n",
       "    }\n",
       "\n",
       "    .dataframe thead th {\n",
       "        text-align: right;\n",
       "    }\n",
       "</style>\n",
       "<table border=\"1\" class=\"dataframe\">\n",
       "  <thead>\n",
       "    <tr style=\"text-align: right;\">\n",
       "      <th></th>\n",
       "      <th>Typematch</th>\n",
       "      <th>lb</th>\n",
       "      <th>ub</th>\n",
       "    </tr>\n",
       "  </thead>\n",
       "  <tbody>\n",
       "    <tr>\n",
       "      <th>0</th>\n",
       "      <td>Friendly</td>\n",
       "      <td>0.229536</td>\n",
       "      <td>0.405978</td>\n",
       "    </tr>\n",
       "    <tr>\n",
       "      <th>1</th>\n",
       "      <td>Official</td>\n",
       "      <td>0.144067</td>\n",
       "      <td>0.233037</td>\n",
       "    </tr>\n",
       "  </tbody>\n",
       "</table>\n",
       "</div>"
      ],
      "text/plain": [
       "  Typematch        lb        ub\n",
       "0  Friendly  0.229536  0.405978\n",
       "1  Official  0.144067  0.233037"
      ]
     },
     "execution_count": 82,
     "metadata": {},
     "output_type": "execute_result"
    }
   ],
   "source": [
    "ci_scotwin = {}\n",
    "ci_scotwin['Typematch'] = ['Friendly','Official']\n",
    "ci_scotwin['lb'] = [CI_scotwin_friendly[0],CI_scotwin_official[0]]\n",
    "ci_scotwin['ub'] = [CI_scotwin_friendly[1],CI_scotwin_official[1]]\n",
    "df_ci= pd.DataFrame(ci_scotwin)\n",
    "df_ci"
   ]
  },
  {
   "cell_type": "code",
   "execution_count": 83,
   "id": "d1ab8810",
   "metadata": {},
   "outputs": [
    {
     "data": {
      "text/plain": [
       "([<matplotlib.axis.YTick at 0x1ea982952e0>,\n",
       "  <matplotlib.axis.YTick at 0x1ea9828fb20>],\n",
       " [Text(0, 0, 'Friendly'), Text(0, 1, 'Official')])"
      ]
     },
     "execution_count": 83,
     "metadata": {},
     "output_type": "execute_result"
    },
    {
     "data": {
      "image/png": "[encoded data removed]",
      "text/plain": [
       "<Figure size 432x288 with 1 Axes>"
      ]
     },
     "metadata": {
      "needs_background": "light"
     },
     "output_type": "display_data"
    }
   ],
   "source": [
    "import matplotlib.pyplot as plt\n",
    "for lb,ub,y in zip(df_ci['lb'],df_ci['ub'],range(len(df_ci))):\n",
    "    plt.plot((lb,ub),(y,y),'ro-')\n",
    "plt.yticks(range(len(df_ci)),list(df_ci['Typematch']))"
   ]
  },
  {
   "cell_type": "markdown",
   "id": "cfbfcf97",
   "metadata": {},
   "source": [
    "Now I am going to check if the fans have any impact on the result of match and that is by comparing the probability of winning between home matches and away from home matches"
   ]
  },
  {
   "cell_type": "code",
   "execution_count": 84,
   "id": "abc5c437",
   "metadata": {},
   "outputs": [
    {
     "name": "stderr",
     "output_type": "stream",
     "text": [
      "C:\\Users\\AUC\\AppData\\Local\\Temp/ipykernel_17108/3013079037.py:1: SettingWithCopyWarning: \n",
      "A value is trying to be set on a copy of a slice from a DataFrame.\n",
      "Try using .loc[row_indexer,col_indexer] = value instead\n",
      "\n",
      "See the caveats in the documentation: https://pandas.pydata.org/pandas-docs/stable/user_guide/indexing.html#returning-a-view-versus-a-copy\n",
      "  dfscot['home']=(dfscot['home_team']=='Scotland')\n"
     ]
    }
   ],
   "source": [
    "dfscot['home']=(dfscot['home_team']=='Scotland')"
   ]
  },
  {
   "cell_type": "code",
   "execution_count": 85,
   "id": "80e07a98",
   "metadata": {},
   "outputs": [
    {
     "data": {
      "text/plain": [
       "True     376\n",
       "False     28\n",
       "Name: home, dtype: int64"
      ]
     },
     "execution_count": 85,
     "metadata": {},
     "output_type": "execute_result"
    }
   ],
   "source": [
    "dfscot['home'].value_counts()"
   ]
  },
  {
   "cell_type": "code",
   "execution_count": 86,
   "id": "0ae0b138",
   "metadata": {},
   "outputs": [
    {
     "data": {
      "text/html": [
       "<div>\n",
       "<style scoped>\n",
       "    .dataframe tbody tr th:only-of-type {\n",
       "        vertical-align: middle;\n",
       "    }\n",
       "\n",
       "    .dataframe tbody tr th {\n",
       "        vertical-align: top;\n",
       "    }\n",
       "\n",
       "    .dataframe thead th {\n",
       "        text-align: right;\n",
       "    }\n",
       "</style>\n",
       "<table border=\"1\" class=\"dataframe\">\n",
       "  <thead>\n",
       "    <tr style=\"text-align: right;\">\n",
       "      <th>result</th>\n",
       "      <th>draw</th>\n",
       "      <th>lose</th>\n",
       "      <th>win</th>\n",
       "      <th>All</th>\n",
       "    </tr>\n",
       "    <tr>\n",
       "      <th>home</th>\n",
       "      <th></th>\n",
       "      <th></th>\n",
       "      <th></th>\n",
       "      <th></th>\n",
       "    </tr>\n",
       "  </thead>\n",
       "  <tbody>\n",
       "    <tr>\n",
       "      <th>False</th>\n",
       "      <td>6</td>\n",
       "      <td>14</td>\n",
       "      <td>8</td>\n",
       "      <td>28</td>\n",
       "    </tr>\n",
       "    <tr>\n",
       "      <th>True</th>\n",
       "      <td>77</td>\n",
       "      <td>217</td>\n",
       "      <td>82</td>\n",
       "      <td>376</td>\n",
       "    </tr>\n",
       "    <tr>\n",
       "      <th>All</th>\n",
       "      <td>83</td>\n",
       "      <td>231</td>\n",
       "      <td>90</td>\n",
       "      <td>404</td>\n",
       "    </tr>\n",
       "  </tbody>\n",
       "</table>\n",
       "</div>"
      ],
      "text/plain": [
       "result  draw  lose  win  All\n",
       "home                        \n",
       "False      6    14    8   28\n",
       "True      77   217   82  376\n",
       "All       83   231   90  404"
      ]
     },
     "execution_count": 86,
     "metadata": {},
     "output_type": "execute_result"
    }
   ],
   "source": [
    "x=pd.crosstab(dfscot['home'],dfscot['result'],margins=True)\n",
    "x"
   ]
  },
  {
   "cell_type": "code",
   "execution_count": 87,
   "id": "eba03645",
   "metadata": {},
   "outputs": [
    {
     "data": {
      "text/plain": [
       "array([[  6,  14,   8,  28],\n",
       "       [ 77, 217,  82, 376],\n",
       "       [ 83, 231,  90, 404]], dtype=int64)"
      ]
     },
     "execution_count": 87,
     "metadata": {},
     "output_type": "execute_result"
    }
   ],
   "source": [
    "x=np.array(x)\n",
    "x"
   ]
  },
  {
   "cell_type": "code",
   "execution_count": 89,
   "id": "67ae1331",
   "metadata": {},
   "outputs": [
    {
     "data": {
      "text/plain": [
       "(0.17634563783879345, 0.25982457492716404)"
      ]
     },
     "execution_count": 89,
     "metadata": {},
     "output_type": "execute_result"
    }
   ],
   "source": [
    "CI_scotwin_home=proportion_confint(count=x[1,2],nobs=x[1,3],alpha=(1-.95))\n",
    "CI_scotwin_home"
   ]
  },
  {
   "cell_type": "code",
   "execution_count": 90,
   "id": "153d9a6f",
   "metadata": {},
   "outputs": [
    {
     "data": {
      "text/plain": [
       "(0.11838535517233528, 0.4530432162562361)"
      ]
     },
     "execution_count": 90,
     "metadata": {},
     "output_type": "execute_result"
    }
   ],
   "source": [
    "CI_scotwin_away=proportion_confint(count=x[0,2],nobs=x[0,3],alpha=(1-.95))\n",
    "CI_scotwin_away"
   ]
  },
  {
   "cell_type": "code",
   "execution_count": 91,
   "id": "31aff0d2",
   "metadata": {},
   "outputs": [
    {
     "data": {
      "text/html": [
       "<div>\n",
       "<style scoped>\n",
       "    .dataframe tbody tr th:only-of-type {\n",
       "        vertical-align: middle;\n",
       "    }\n",
       "\n",
       "    .dataframe tbody tr th {\n",
       "        vertical-align: top;\n",
       "    }\n",
       "\n",
       "    .dataframe thead th {\n",
       "        text-align: right;\n",
       "    }\n",
       "</style>\n",
       "<table border=\"1\" class=\"dataframe\">\n",
       "  <thead>\n",
       "    <tr style=\"text-align: right;\">\n",
       "      <th></th>\n",
       "      <th>home</th>\n",
       "      <th>lb</th>\n",
       "      <th>ub</th>\n",
       "    </tr>\n",
       "  </thead>\n",
       "  <tbody>\n",
       "    <tr>\n",
       "      <th>0</th>\n",
       "      <td>Yes</td>\n",
       "      <td>0.176346</td>\n",
       "      <td>0.259825</td>\n",
       "    </tr>\n",
       "    <tr>\n",
       "      <th>1</th>\n",
       "      <td>No</td>\n",
       "      <td>0.118385</td>\n",
       "      <td>0.453043</td>\n",
       "    </tr>\n",
       "  </tbody>\n",
       "</table>\n",
       "</div>"
      ],
      "text/plain": [
       "  home        lb        ub\n",
       "0  Yes  0.176346  0.259825\n",
       "1   No  0.118385  0.453043"
      ]
     },
     "execution_count": 91,
     "metadata": {},
     "output_type": "execute_result"
    }
   ],
   "source": [
    "ci_scotwin = {}\n",
    "ci_scotwin['home'] = ['Yes','No']\n",
    "ci_scotwin['lb'] = [CI_scotwin_home[0],CI_scotwin_away[0]]\n",
    "ci_scotwin['ub'] = [CI_scotwin_home[1],CI_scotwin_away[1]]\n",
    "df_ci= pd.DataFrame(ci_scotwin)\n",
    "df_ci"
   ]
  },
  {
   "cell_type": "code",
   "execution_count": 92,
   "id": "90f38436",
   "metadata": {},
   "outputs": [
    {
     "data": {
      "text/plain": [
       "([<matplotlib.axis.YTick at 0x1ea992c5640>,\n",
       "  <matplotlib.axis.YTick at 0x1ea992bde80>],\n",
       " [Text(0, 0, 'Yes'), Text(0, 1, 'No')])"
      ]
     },
     "execution_count": 92,
     "metadata": {},
     "output_type": "execute_result"
    },
    {
     "data": {
      "image/png": "[encoded data removed]",
      "text/plain": [
       "<Figure size 432x288 with 1 Axes>"
      ]
     },
     "metadata": {
      "needs_background": "light"
     },
     "output_type": "display_data"
    }
   ],
   "source": [
    "for lb,ub,y in zip(df_ci['lb'],df_ci['ub'],range(len(df_ci))):\n",
    "    plt.plot((lb,ub),(y,y),'ro-')\n",
    "plt.yticks(range(len(df_ci)),list(df_ci['home']))"
   ]
  },
  {
   "cell_type": "markdown",
   "id": "63545a86",
   "metadata": {},
   "source": [
    "## 4-England: "
   ]
  },
  {
   "cell_type": "markdown",
   "id": "a85bcacd",
   "metadata": {},
   "source": [
    "Now I will be studying the last country which is England"
   ]
  },
  {
   "cell_type": "code",
   "execution_count": 93,
   "id": "de26ee83",
   "metadata": {},
   "outputs": [],
   "source": [
    "dfeng=df[df['country']=='England']"
   ]
  },
  {
   "cell_type": "markdown",
   "id": "03a798a9",
   "metadata": {},
   "source": [
    "Now I will create a variable type of the match friendly/No friendly and home/away match"
   ]
  },
  {
   "cell_type": "code",
   "execution_count": 94,
   "id": "761cffcf",
   "metadata": {},
   "outputs": [],
   "source": [
    "conditions=[\n",
    "    (dfeng['tournament']=='Friendly'),\n",
    "    (dfeng['tournament']!='Friendly')\n",
    "]"
   ]
  },
  {
   "cell_type": "code",
   "execution_count": 95,
   "id": "67144f70",
   "metadata": {},
   "outputs": [],
   "source": [
    "values=['Friendly','Official']"
   ]
  },
  {
   "cell_type": "code",
   "execution_count": 96,
   "id": "ee2cd054",
   "metadata": {},
   "outputs": [
    {
     "name": "stderr",
     "output_type": "stream",
     "text": [
      "C:\\Users\\AUC\\AppData\\Local\\Temp/ipykernel_17108/834499208.py:1: SettingWithCopyWarning: \n",
      "A value is trying to be set on a copy of a slice from a DataFrame.\n",
      "Try using .loc[row_indexer,col_indexer] = value instead\n",
      "\n",
      "See the caveats in the documentation: https://pandas.pydata.org/pandas-docs/stable/user_guide/indexing.html#returning-a-view-versus-a-copy\n",
      "  dfeng['typematch'] = np.select(conditions, values)\n"
     ]
    }
   ],
   "source": [
    "dfeng['typematch'] = np.select(conditions, values)"
   ]
  },
  {
   "cell_type": "code",
   "execution_count": 97,
   "id": "8d5c4196",
   "metadata": {},
   "outputs": [
    {
     "data": {
      "text/plain": [
       "Official    431\n",
       "Friendly    286\n",
       "Name: typematch, dtype: int64"
      ]
     },
     "execution_count": 97,
     "metadata": {},
     "output_type": "execute_result"
    }
   ],
   "source": [
    "dfeng['typematch'].value_counts()"
   ]
  },
  {
   "cell_type": "markdown",
   "id": "d4315649",
   "metadata": {},
   "source": [
    "Comparing the probability of win/lose/draw by type of match"
   ]
  },
  {
   "cell_type": "code",
   "execution_count": 98,
   "id": "ddb1e967",
   "metadata": {},
   "outputs": [
    {
     "data": {
      "text/html": [
       "<div>\n",
       "<style scoped>\n",
       "    .dataframe tbody tr th:only-of-type {\n",
       "        vertical-align: middle;\n",
       "    }\n",
       "\n",
       "    .dataframe tbody tr th {\n",
       "        vertical-align: top;\n",
       "    }\n",
       "\n",
       "    .dataframe thead th {\n",
       "        text-align: right;\n",
       "    }\n",
       "</style>\n",
       "<table border=\"1\" class=\"dataframe\">\n",
       "  <thead>\n",
       "    <tr style=\"text-align: right;\">\n",
       "      <th>result</th>\n",
       "      <th>draw</th>\n",
       "      <th>lose</th>\n",
       "      <th>win</th>\n",
       "      <th>All</th>\n",
       "    </tr>\n",
       "    <tr>\n",
       "      <th>typematch</th>\n",
       "      <th></th>\n",
       "      <th></th>\n",
       "      <th></th>\n",
       "      <th></th>\n",
       "    </tr>\n",
       "  </thead>\n",
       "  <tbody>\n",
       "    <tr>\n",
       "      <th>Friendly</th>\n",
       "      <td>72</td>\n",
       "      <td>156</td>\n",
       "      <td>58</td>\n",
       "      <td>286</td>\n",
       "    </tr>\n",
       "    <tr>\n",
       "      <th>Official</th>\n",
       "      <td>84</td>\n",
       "      <td>259</td>\n",
       "      <td>88</td>\n",
       "      <td>431</td>\n",
       "    </tr>\n",
       "    <tr>\n",
       "      <th>All</th>\n",
       "      <td>156</td>\n",
       "      <td>415</td>\n",
       "      <td>146</td>\n",
       "      <td>717</td>\n",
       "    </tr>\n",
       "  </tbody>\n",
       "</table>\n",
       "</div>"
      ],
      "text/plain": [
       "result     draw  lose  win  All\n",
       "typematch                      \n",
       "Friendly     72   156   58  286\n",
       "Official     84   259   88  431\n",
       "All         156   415  146  717"
      ]
     },
     "execution_count": 98,
     "metadata": {},
     "output_type": "execute_result"
    }
   ],
   "source": [
    "x=pd.crosstab(dfeng['typematch'],dfeng['result'],margins=True)\n",
    "x"
   ]
  },
  {
   "cell_type": "code",
   "execution_count": 99,
   "id": "aa04e833",
   "metadata": {},
   "outputs": [
    {
     "data": {
      "text/plain": [
       "array([[ 72, 156,  58, 286],\n",
       "       [ 84, 259,  88, 431],\n",
       "       [156, 415, 146, 717]], dtype=int64)"
      ]
     },
     "execution_count": 99,
     "metadata": {},
     "output_type": "execute_result"
    }
   ],
   "source": [
    "x=np.array(x)\n",
    "x"
   ]
  },
  {
   "cell_type": "code",
   "execution_count": 100,
   "id": "f5c5241c",
   "metadata": {},
   "outputs": [
    {
     "data": {
      "text/plain": [
       "(0.15619778812633506, 0.24939661746807051)"
      ]
     },
     "execution_count": 100,
     "metadata": {},
     "output_type": "execute_result"
    }
   ],
   "source": [
    "CI_engwin_friendly=proportion_confint(count=x[0,2],nobs=x[0,3],alpha=(1-.95))\n",
    "CI_engwin_friendly"
   ]
  },
  {
   "cell_type": "code",
   "execution_count": 101,
   "id": "512efd52",
   "metadata": {},
   "outputs": [
    {
     "data": {
      "text/plain": [
       "(0.1661205581281346, 0.24223211008532247)"
      ]
     },
     "execution_count": 101,
     "metadata": {},
     "output_type": "execute_result"
    }
   ],
   "source": [
    "CI_engwin_official=proportion_confint(count=x[1,2],nobs=x[1,3],alpha=(1-.95))\n",
    "CI_engwin_official"
   ]
  },
  {
   "cell_type": "markdown",
   "id": "c77f32b0",
   "metadata": {},
   "source": [
    "Plotting the Confidence intervals"
   ]
  },
  {
   "cell_type": "code",
   "execution_count": 102,
   "id": "106f7e5f",
   "metadata": {},
   "outputs": [
    {
     "data": {
      "text/html": [
       "<div>\n",
       "<style scoped>\n",
       "    .dataframe tbody tr th:only-of-type {\n",
       "        vertical-align: middle;\n",
       "    }\n",
       "\n",
       "    .dataframe tbody tr th {\n",
       "        vertical-align: top;\n",
       "    }\n",
       "\n",
       "    .dataframe thead th {\n",
       "        text-align: right;\n",
       "    }\n",
       "</style>\n",
       "<table border=\"1\" class=\"dataframe\">\n",
       "  <thead>\n",
       "    <tr style=\"text-align: right;\">\n",
       "      <th></th>\n",
       "      <th>Typematch</th>\n",
       "      <th>lb</th>\n",
       "      <th>ub</th>\n",
       "    </tr>\n",
       "  </thead>\n",
       "  <tbody>\n",
       "    <tr>\n",
       "      <th>0</th>\n",
       "      <td>Friendly</td>\n",
       "      <td>0.156198</td>\n",
       "      <td>0.249397</td>\n",
       "    </tr>\n",
       "    <tr>\n",
       "      <th>1</th>\n",
       "      <td>Official</td>\n",
       "      <td>0.166121</td>\n",
       "      <td>0.242232</td>\n",
       "    </tr>\n",
       "  </tbody>\n",
       "</table>\n",
       "</div>"
      ],
      "text/plain": [
       "  Typematch        lb        ub\n",
       "0  Friendly  0.156198  0.249397\n",
       "1  Official  0.166121  0.242232"
      ]
     },
     "execution_count": 102,
     "metadata": {},
     "output_type": "execute_result"
    }
   ],
   "source": [
    "ci_engwin = {}\n",
    "ci_engwin['Typematch'] = ['Friendly','Official']\n",
    "ci_engwin['lb'] = [CI_engwin_friendly[0],CI_engwin_official[0]]\n",
    "ci_engwin['ub'] = [CI_engwin_friendly[1],CI_engwin_official[1]]\n",
    "df_ci= pd.DataFrame(ci_engwin)\n",
    "df_ci"
   ]
  },
  {
   "cell_type": "code",
   "execution_count": 103,
   "id": "752ddfc7",
   "metadata": {},
   "outputs": [
    {
     "data": {
      "text/plain": [
       "([<matplotlib.axis.YTick at 0x1ea99334250>,\n",
       "  <matplotlib.axis.YTick at 0x1ea9932ba60>],\n",
       " [Text(0, 0, 'Friendly'), Text(0, 1, 'Official')])"
      ]
     },
     "execution_count": 103,
     "metadata": {},
     "output_type": "execute_result"
    },
    {
     "data": {
      "image/png": "[encoded data removed]",
      "text/plain": [
       "<Figure size 432x288 with 1 Axes>"
      ]
     },
     "metadata": {
      "needs_background": "light"
     },
     "output_type": "display_data"
    }
   ],
   "source": [
    "import matplotlib.pyplot as plt\n",
    "for lb,ub,y in zip(df_ci['lb'],df_ci['ub'],range(len(df_ci))):\n",
    "    plt.plot((lb,ub),(y,y),'ro-')\n",
    "plt.yticks(range(len(df_ci)),list(df_ci['Typematch']))"
   ]
  },
  {
   "cell_type": "markdown",
   "id": "ec2391ca",
   "metadata": {},
   "source": [
    "Let's now check out the impact of fans on the match results. We will compare the probability of winning between home matches and away matches"
   ]
  },
  {
   "cell_type": "code",
   "execution_count": 104,
   "id": "b199cd17",
   "metadata": {},
   "outputs": [
    {
     "name": "stderr",
     "output_type": "stream",
     "text": [
      "C:\\Users\\AUC\\AppData\\Local\\Temp/ipykernel_17108/3357545504.py:1: SettingWithCopyWarning: \n",
      "A value is trying to be set on a copy of a slice from a DataFrame.\n",
      "Try using .loc[row_indexer,col_indexer] = value instead\n",
      "\n",
      "See the caveats in the documentation: https://pandas.pydata.org/pandas-docs/stable/user_guide/indexing.html#returning-a-view-versus-a-copy\n",
      "  dfeng['home']=(dfeng['home_team']=='England')\n"
     ]
    }
   ],
   "source": [
    "dfeng['home']=(dfeng['home_team']=='England')"
   ]
  },
  {
   "cell_type": "code",
   "execution_count": 105,
   "id": "ecab0e63",
   "metadata": {},
   "outputs": [
    {
     "data": {
      "text/plain": [
       "True     464\n",
       "False    253\n",
       "Name: home, dtype: int64"
      ]
     },
     "execution_count": 105,
     "metadata": {},
     "output_type": "execute_result"
    }
   ],
   "source": [
    "dfeng['home'].value_counts()"
   ]
  },
  {
   "cell_type": "code",
   "execution_count": 106,
   "id": "044afe0c",
   "metadata": {},
   "outputs": [
    {
     "data": {
      "text/html": [
       "<div>\n",
       "<style scoped>\n",
       "    .dataframe tbody tr th:only-of-type {\n",
       "        vertical-align: middle;\n",
       "    }\n",
       "\n",
       "    .dataframe tbody tr th {\n",
       "        vertical-align: top;\n",
       "    }\n",
       "\n",
       "    .dataframe thead th {\n",
       "        text-align: right;\n",
       "    }\n",
       "</style>\n",
       "<table border=\"1\" class=\"dataframe\">\n",
       "  <thead>\n",
       "    <tr style=\"text-align: right;\">\n",
       "      <th>result</th>\n",
       "      <th>draw</th>\n",
       "      <th>lose</th>\n",
       "      <th>win</th>\n",
       "      <th>All</th>\n",
       "    </tr>\n",
       "    <tr>\n",
       "      <th>home</th>\n",
       "      <th></th>\n",
       "      <th></th>\n",
       "      <th></th>\n",
       "      <th></th>\n",
       "    </tr>\n",
       "  </thead>\n",
       "  <tbody>\n",
       "    <tr>\n",
       "      <th>False</th>\n",
       "      <td>55</td>\n",
       "      <td>115</td>\n",
       "      <td>83</td>\n",
       "      <td>253</td>\n",
       "    </tr>\n",
       "    <tr>\n",
       "      <th>True</th>\n",
       "      <td>101</td>\n",
       "      <td>300</td>\n",
       "      <td>63</td>\n",
       "      <td>464</td>\n",
       "    </tr>\n",
       "    <tr>\n",
       "      <th>All</th>\n",
       "      <td>156</td>\n",
       "      <td>415</td>\n",
       "      <td>146</td>\n",
       "      <td>717</td>\n",
       "    </tr>\n",
       "  </tbody>\n",
       "</table>\n",
       "</div>"
      ],
      "text/plain": [
       "result  draw  lose  win  All\n",
       "home                        \n",
       "False     55   115   83  253\n",
       "True     101   300   63  464\n",
       "All      156   415  146  717"
      ]
     },
     "execution_count": 106,
     "metadata": {},
     "output_type": "execute_result"
    }
   ],
   "source": [
    "x=pd.crosstab(dfeng['home'],dfeng['result'],margins=True)\n",
    "x"
   ]
  },
  {
   "cell_type": "code",
   "execution_count": 107,
   "id": "f08a1b98",
   "metadata": {},
   "outputs": [
    {
     "data": {
      "text/plain": [
       "array([[ 55, 115,  83, 253],\n",
       "       [101, 300,  63, 464],\n",
       "       [156, 415, 146, 717]], dtype=int64)"
      ]
     },
     "execution_count": 107,
     "metadata": {},
     "output_type": "execute_result"
    }
   ],
   "source": [
    "x=np.array(x)\n",
    "x"
   ]
  },
  {
   "cell_type": "code",
   "execution_count": 108,
   "id": "1064574d",
   "metadata": {},
   "outputs": [
    {
     "data": {
      "text/plain": [
       "(0.10460752863595074, 0.1669441955019803)"
      ]
     },
     "execution_count": 108,
     "metadata": {},
     "output_type": "execute_result"
    }
   ],
   "source": [
    "CI_engwin_home=proportion_confint(count=x[1,2],nobs=x[1,3],alpha=(1-.95))\n",
    "CI_engwin_home"
   ]
  },
  {
   "cell_type": "code",
   "execution_count": 109,
   "id": "05934624",
   "metadata": {},
   "outputs": [
    {
     "data": {
      "text/plain": [
       "(0.27020958414722984, 0.3859168980662089)"
      ]
     },
     "execution_count": 109,
     "metadata": {},
     "output_type": "execute_result"
    }
   ],
   "source": [
    "CI_engwin_away=proportion_confint(count=x[0,2],nobs=x[0,3],alpha=(1-.95))\n",
    "CI_engwin_away"
   ]
  },
  {
   "cell_type": "code",
   "execution_count": 110,
   "id": "713d7ca1",
   "metadata": {},
   "outputs": [
    {
     "data": {
      "text/html": [
       "<div>\n",
       "<style scoped>\n",
       "    .dataframe tbody tr th:only-of-type {\n",
       "        vertical-align: middle;\n",
       "    }\n",
       "\n",
       "    .dataframe tbody tr th {\n",
       "        vertical-align: top;\n",
       "    }\n",
       "\n",
       "    .dataframe thead th {\n",
       "        text-align: right;\n",
       "    }\n",
       "</style>\n",
       "<table border=\"1\" class=\"dataframe\">\n",
       "  <thead>\n",
       "    <tr style=\"text-align: right;\">\n",
       "      <th></th>\n",
       "      <th>home</th>\n",
       "      <th>lb</th>\n",
       "      <th>ub</th>\n",
       "    </tr>\n",
       "  </thead>\n",
       "  <tbody>\n",
       "    <tr>\n",
       "      <th>0</th>\n",
       "      <td>Yes</td>\n",
       "      <td>0.104608</td>\n",
       "      <td>0.166944</td>\n",
       "    </tr>\n",
       "    <tr>\n",
       "      <th>1</th>\n",
       "      <td>No</td>\n",
       "      <td>0.270210</td>\n",
       "      <td>0.385917</td>\n",
       "    </tr>\n",
       "  </tbody>\n",
       "</table>\n",
       "</div>"
      ],
      "text/plain": [
       "  home        lb        ub\n",
       "0  Yes  0.104608  0.166944\n",
       "1   No  0.270210  0.385917"
      ]
     },
     "execution_count": 110,
     "metadata": {},
     "output_type": "execute_result"
    }
   ],
   "source": [
    "ci_engwin = {}\n",
    "ci_engwin['home'] = ['Yes','No']\n",
    "ci_engwin['lb'] = [CI_engwin_home[0],CI_engwin_away[0]]\n",
    "ci_engwin['ub'] = [CI_engwin_home[1],CI_engwin_away[1]]\n",
    "df_ci= pd.DataFrame(ci_engwin)\n",
    "df_ci"
   ]
  },
  {
   "cell_type": "code",
   "execution_count": 111,
   "id": "3388730a",
   "metadata": {},
   "outputs": [
    {
     "data": {
      "text/plain": [
       "([<matplotlib.axis.YTick at 0x1ea9938be20>,\n",
       "  <matplotlib.axis.YTick at 0x1ea9938b6a0>],\n",
       " [Text(0, 0, 'Yes'), Text(0, 1, 'No')])"
      ]
     },
     "execution_count": 111,
     "metadata": {},
     "output_type": "execute_result"
    },
    {
     "data": {
      "image/png": "[encoded data removed]",
      "text/plain": [
       "<Figure size 432x288 with 1 Axes>"
      ]
     },
     "metadata": {
      "needs_background": "light"
     },
     "output_type": "display_data"
    }
   ],
   "source": [
    "for lb,ub,y in zip(df_ci['lb'],df_ci['ub'],range(len(df_ci))):\n",
    "    plt.plot((lb,ub),(y,y),'ro-')\n",
    "plt.yticks(range(len(df_ci)),list(df_ci['home']))"
   ]
  },
  {
   "cell_type": "markdown",
   "id": "60d05888",
   "metadata": {},
   "source": [
    "I will now write a Python function that can compare the Confidence Intervals of the means for\n",
    "a given continuous variable according to groups defined by a categorical variable"
   ]
  },
  {
   "cell_type": "code",
   "execution_count": 116,
   "id": "acf2bd52",
   "metadata": {},
   "outputs": [],
   "source": [
    " import pandas as pd\n",
    "import numpy as np\n",
    "import scipy.stats as st\n",
    "def plot_diff_in_means(data: pd.DataFrame,alpha, col1: str, col2: str):\n",
    "    n = data.groupby(col1)[col2].count()\n",
    "    cat = list(data.groupby(col1, as_index=False)[col2].count()[col1])\n",
    "    mean = data.groupby(col1)[col2].agg('mean')\n",
    "    lower = st.t.interval(alpha = alpha, df=n-1, loc = mean, scale = se)[0]\n",
    "    upper = st.t.interval(alpha = alpha, df =n-1, loc = mean, scale = se)[1]\n",
    "    for upper, mean, lower, y in zip(upper, mean, lower, cat):\n",
    "     plt.plot((lower, mean, upper), (y, y, y), 'b.-')\n",
    "    plt.yticks(\n",
    "    range(len(n)),\n",
    "    list(data.groupby(col1, as_index = False)[col2].count()[col1])\n",
    "   )\n",
    "\n"
   ]
  },
  {
   "cell_type": "code",
   "execution_count": null,
   "id": "6bf5511d",
   "metadata": {},
   "outputs": [],
   "source": [
    " plot_diff_in_means(data = df,alpha=.95, col1 = 'Country', col2 = '')\n"
   ]
  },
  {
   "cell_type": "markdown",
   "id": "110d8c05",
   "metadata": {},
   "source": [
    "# Discussion:"
   ]
  },
  {
   "cell_type": "markdown",
   "id": "e4342a14",
   "metadata": {},
   "source": [
    "## 1- Egypt"
   ]
  },
  {
   "cell_type": "markdown",
   "id": "9590a6e9",
   "metadata": {},
   "source": [
    "Below I will be discussing the results that I found in Egypt:    \n",
    "Based on the crosstab that I did, the results show that when the match is friendly the results are less than when the match is official since the total of friendly matches is 181 and the total of official matches is 226. In fact, the results thet I found when the match is friendly are:     \n",
    "37 draw/ 99 loss/ 45 win    \n",
    "The percentage of winning in a friendly match from all the matches\n",
    "(friendly and not) is 11% while the probability of losing is 24%.\n",
    "\n",
    "While the results that I found when the match is official are:   \n",
    "40 draw/ 139 loss/ 47 win.    \n",
    "The percentage of winning in an official match from all the matches( friendly or not) is 11% while the probability of losing is 34%\n",
    "\n",
    "After finding these results I computed the confidence interval for the friendly match which is:       \n",
    "(0.1856528084886489, 0.3115847605721246)\n",
    "And the confidence interval for the official match which is:   \n",
    "(0.1550517855722795, 0.2608774179675435)\n",
    "                                     \n",
    "Next, after plotting the confidence intervals, we notive that there is some overlapping which shows that there is no significance difference between them.\n",
    "==> This shows that if the match is friendly or official, the results are not affected \n",
    "* Next I decided to study the effect of the fans in a match, and in order to study this I compared the results of the matches that the Egyptian team had in Egypt, with the matches they had putside of Egypt.\n",
    "And from 407 matches, they had 258 at home match from which they won 43 and lost 171 and got 44 draw. And they had 149 match away from which they won 49 and lost 67.     \n",
    "Next the confidence intervals found and the graphs show that there is no overlapping between the two confidence intervals which shows that there is a significant statistical difference between the two intervals. This leads to conclude that the factor of plating at home or not affects the results of the match\n",
    "\n"
   ]
  },
  {
   "cell_type": "markdown",
   "id": "3da73428",
   "metadata": {},
   "source": [
    "# 2- Brazil"
   ]
  },
  {
   "cell_type": "markdown",
   "id": "86cd9c04",
   "metadata": {},
   "source": [
    "Below I will be discussing the results that I found in Brazil:\n",
    "Based on the crosstab that I did, the results show that when the match is friendly the results are less than when the match is official since the total of friendly matches is 194 and the total of official matches is 373. In fact, the results thet I found when the match is friendly are:\n",
    "38 draw/ 146 loss/ 10 win\n",
    "The percentage of winning in a friendly match from all the matches (friendly and not) is 1.7% while the probability of losing is 33%.\n",
    "\n",
    "While the results that I found when the match is official are:\n",
    "80 draw/ 190 loss/ 103 win.\n",
    "The percentage of winning in an official match from all the matches( friendly or not) is 18% while the probability of losing is 33.5%\n",
    "\n",
    "After finding these results I computed the confidence interval for the friendly match which is:\n",
    "(0.02043249489958943, 0.08266028860556521)    \n",
    "And the confidence interval for the official match which is:\n",
    "(0.23076768031938502, 0.32151114005595016)\n",
    "\n",
    "Next, after plotting the confidence intervals, we notice that there is no overlapping which shows that there is a stistical significance difference between them. ==> This shows that the results get affected if the match is friendly or official.\n",
    "\n",
    "Next I decided to study the effect of the fans in a match, and in order to study this I compared the results of the matches that the Brazilian team had in Brazil, with the matches they had outside of Brazil. And from 567 matches, they had 353 at home match from which they won 23 and lost 259 and got 71 draw. And they had 214 match away from which they won 90 and lost 77.\n",
    "Next the confidence intervals found and the graphs show that there is no overlapping between the two confidence intervals which shows that there is a significant statistical difference between the two intervals. This leads to conclude that the factor of plating at home or not affects the results of the match"
   ]
  },
  {
   "cell_type": "markdown",
   "id": "3e467e17",
   "metadata": {},
   "source": [
    "# 3- Scotland:"
   ]
  },
  {
   "cell_type": "markdown",
   "id": "de729f21",
   "metadata": {},
   "source": [
    "Below I will be discussing the results that I found in Scotland:\n",
    "Based on the crosstab that I did, the results show that when the match is friendly the results are less than when the match is official since the total of friendly matches is 107 and the total of official matches is 297. In fact, the results thet I found when the match is friendly are:\n",
    "19 draw/ 54 loss/ 34 win\n",
    "The percentage of winning in a friendly match from all the matches (friendly and not) is 8.4% while the probability of losing is 13.3%.\n",
    "\n",
    "While the results that I found when the match is official are:\n",
    "64 draw/ 177 loss/ 56 win.\n",
    "The percentage of winning in an official match from all the matches( friendly or not) is 13.8% while the probability of losing is 43.8%\n",
    "\n",
    "After finding these results I computed the confidence interval for the friendly match which is:\n",
    "(0.22953573779233233, 0.4059782808992564)    \n",
    "And the confidence interval for the official match which is:\n",
    "(0.1440669471299619, 0.2330374299744152)\n",
    "\n",
    "Next, after plotting the confidence intervals, we notice that there is no overlapping which shows that there is a stistical significance difference between them. ==> This shows that the results get affected if the match is friendly or official.\n",
    "\n",
    "Next I decided to study the effect of the fans in a match, and in order to study this I compared the results of the matches that the team had in Scotland, with the matches they had outside of Scotland. And from 404 matches, they had 376 at home match from which they won 82 and lost 217 and got 77 draw. And they had 28 match away from which they won 8 and lost 14.\n",
    "Next the confidence intervals found and the graphs show that there is overlapping between the two confidence intervals which shows that there is no significant statistical difference between the two intervals. This leads to conclude that the factor of plating at home or not does not affect affect the results of the match for Scotland"
   ]
  },
  {
   "cell_type": "markdown",
   "id": "9929c34f",
   "metadata": {},
   "source": [
    "# 4- England:"
   ]
  },
  {
   "cell_type": "markdown",
   "id": "274b1d77",
   "metadata": {},
   "source": [
    "Below I will be discussing the results that I found in England:\n",
    "Based on the crosstab that I did, the results show that when the match is friendly the results are less than when the match is official since the total of friendly matches is 286 and the total of official matches is 431. In fact, the results thet I found when the match is friendly are:\n",
    "72 draw/ 156 loss/ 58 win\n",
    "The percentage of winning in a friendly match from all the matches (friendly and not) is 8% while the probability of losing is 21.7%.\n",
    "\n",
    "While the results that I found when the match is official are:\n",
    "84 draw/ 259 loss/ 88 win.\n",
    "The percentage of winning in an official match from all the matches( friendly or not) is 12.2% while the probability of losing is 36.12%\n",
    "\n",
    "After finding these results I computed the confidence interval for the friendly match which is:\n",
    "(0.15619778812633506, 0.24939661746807051)    \n",
    "And the confidence interval for the official match which is:\n",
    "(0.1661205581281346, 0.24223211008532247)\n",
    "\n",
    "Next, after plotting the confidence intervals, we notice that there is overlapping which shows that there is no stistical significance difference between them. ==> This shows that the results do not get affected if the match is friendly or official, for England.\n",
    "\n",
    "Next I decided to study the effect of the fans in a match, and in order to study this I compared the results of the matches that the team had in England, with the matches they had outside of England. And from 717 matches, they had 464 at home match from which they won 63 and lost 300 and got 101 draw. And they had 253 match away from which they won 83 and lost 115.\n",
    "Next the confidence intervals found and the graphs show that there is overlapping between the two confidence intervals which shows that there is no significant statistical difference between the two intervals. This leads to conclude that the factor of plating at home or not does not affect affect the results of the match for England."
   ]
  },
  {
   "cell_type": "markdown",
   "id": "62611617",
   "metadata": {},
   "source": [
    "# PART II:"
   ]
  },
  {
   "cell_type": "code",
   "execution_count": 118,
   "id": "fef28a55",
   "metadata": {},
   "outputs": [],
   "source": [
    "import pandas as pd"
   ]
  },
  {
   "cell_type": "code",
   "execution_count": 122,
   "id": "a6f5f617",
   "metadata": {},
   "outputs": [],
   "source": [
    "df=pd.read_csv('covid_data.csv',encoding='latin-1')"
   ]
  },
  {
   "cell_type": "code",
   "execution_count": 123,
   "id": "c48c9b50",
   "metadata": {},
   "outputs": [
    {
     "data": {
      "text/html": [
       "<div>\n",
       "<style scoped>\n",
       "    .dataframe tbody tr th:only-of-type {\n",
       "        vertical-align: middle;\n",
       "    }\n",
       "\n",
       "    .dataframe tbody tr th {\n",
       "        vertical-align: top;\n",
       "    }\n",
       "\n",
       "    .dataframe thead th {\n",
       "        text-align: right;\n",
       "    }\n",
       "</style>\n",
       "<table border=\"1\" class=\"dataframe\">\n",
       "  <thead>\n",
       "    <tr style=\"text-align: right;\">\n",
       "      <th></th>\n",
       "      <th>date</th>\n",
       "      <th>iso3c</th>\n",
       "      <th>country</th>\n",
       "      <th>income</th>\n",
       "      <th>region</th>\n",
       "      <th>continent</th>\n",
       "      <th>dcases</th>\n",
       "      <th>ddeaths</th>\n",
       "      <th>population</th>\n",
       "      <th>weekdays</th>\n",
       "      <th>month</th>\n",
       "    </tr>\n",
       "  </thead>\n",
       "  <tbody>\n",
       "    <tr>\n",
       "      <th>0</th>\n",
       "      <td>2020-02-24</td>\n",
       "      <td>AFG</td>\n",
       "      <td>Afghanistan</td>\n",
       "      <td>Low income</td>\n",
       "      <td>South Asia</td>\n",
       "      <td>Asia</td>\n",
       "      <td>5</td>\n",
       "      <td>0</td>\n",
       "      <td>38041754</td>\n",
       "      <td>Mon</td>\n",
       "      <td>Feb</td>\n",
       "    </tr>\n",
       "    <tr>\n",
       "      <th>1</th>\n",
       "      <td>2020-02-25</td>\n",
       "      <td>AFG</td>\n",
       "      <td>Afghanistan</td>\n",
       "      <td>Low income</td>\n",
       "      <td>South Asia</td>\n",
       "      <td>Asia</td>\n",
       "      <td>0</td>\n",
       "      <td>0</td>\n",
       "      <td>38041754</td>\n",
       "      <td>Tue</td>\n",
       "      <td>Feb</td>\n",
       "    </tr>\n",
       "    <tr>\n",
       "      <th>2</th>\n",
       "      <td>2020-02-26</td>\n",
       "      <td>AFG</td>\n",
       "      <td>Afghanistan</td>\n",
       "      <td>Low income</td>\n",
       "      <td>South Asia</td>\n",
       "      <td>Asia</td>\n",
       "      <td>0</td>\n",
       "      <td>0</td>\n",
       "      <td>38041754</td>\n",
       "      <td>Wed</td>\n",
       "      <td>Feb</td>\n",
       "    </tr>\n",
       "    <tr>\n",
       "      <th>3</th>\n",
       "      <td>2020-02-27</td>\n",
       "      <td>AFG</td>\n",
       "      <td>Afghanistan</td>\n",
       "      <td>Low income</td>\n",
       "      <td>South Asia</td>\n",
       "      <td>Asia</td>\n",
       "      <td>0</td>\n",
       "      <td>0</td>\n",
       "      <td>38041754</td>\n",
       "      <td>Thu</td>\n",
       "      <td>Feb</td>\n",
       "    </tr>\n",
       "    <tr>\n",
       "      <th>4</th>\n",
       "      <td>2020-02-28</td>\n",
       "      <td>AFG</td>\n",
       "      <td>Afghanistan</td>\n",
       "      <td>Low income</td>\n",
       "      <td>South Asia</td>\n",
       "      <td>Asia</td>\n",
       "      <td>0</td>\n",
       "      <td>0</td>\n",
       "      <td>38041754</td>\n",
       "      <td>Fri</td>\n",
       "      <td>Feb</td>\n",
       "    </tr>\n",
       "  </tbody>\n",
       "</table>\n",
       "</div>"
      ],
      "text/plain": [
       "         date iso3c      country      income      region continent  dcases  \\\n",
       "0  2020-02-24   AFG  Afghanistan  Low income  South Asia      Asia       5   \n",
       "1  2020-02-25   AFG  Afghanistan  Low income  South Asia      Asia       0   \n",
       "2  2020-02-26   AFG  Afghanistan  Low income  South Asia      Asia       0   \n",
       "3  2020-02-27   AFG  Afghanistan  Low income  South Asia      Asia       0   \n",
       "4  2020-02-28   AFG  Afghanistan  Low income  South Asia      Asia       0   \n",
       "\n",
       "   ddeaths  population weekdays month  \n",
       "0        0    38041754      Mon   Feb  \n",
       "1        0    38041754      Tue   Feb  \n",
       "2        0    38041754      Wed   Feb  \n",
       "3        0    38041754      Thu   Feb  \n",
       "4        0    38041754      Fri   Feb  "
      ]
     },
     "execution_count": 123,
     "metadata": {},
     "output_type": "execute_result"
    }
   ],
   "source": [
    "df.head()"
   ]
  },
  {
   "cell_type": "code",
   "execution_count": 124,
   "id": "6a76821e",
   "metadata": {},
   "outputs": [
    {
     "data": {
      "text/plain": [
       "array(['Afghanistan', 'Angola', 'Albania', 'Andorra',\n",
       "       'United Arab Emirates', 'Argentina', 'Armenia',\n",
       "       'Antigua & Barbuda', 'Australia', 'Austria', 'Azerbaijan',\n",
       "       'Burundi', 'Belgium', 'Benin', 'Burkina Faso', 'Bangladesh',\n",
       "       'Bulgaria', 'Bahrain', 'Bahamas', 'Bosnia & Herzegovina',\n",
       "       'Belarus', 'Belize', 'Bolivia', 'Brazil', 'Barbados', 'Brunei',\n",
       "       'Bhutan', 'Botswana', 'Central African Republic', 'Canada',\n",
       "       'Switzerland', 'Chile', 'China', 'Côte d\\x92Ivoire', 'Cameroon',\n",
       "       'Congo - Kinshasa', 'Congo - Brazzaville', 'Colombia', 'Comoros',\n",
       "       'Cape Verde', 'Costa Rica', 'Cuba', 'Cyprus', 'Czechia', 'Germany',\n",
       "       'Djibouti', 'Dominica', 'Denmark', 'Dominican Republic', 'Algeria',\n",
       "       'Ecuador', 'Egypt', 'Spain', 'Estonia', 'Ethiopia', 'Finland',\n",
       "       'Fiji', 'France', 'Gabon', 'United Kingdom', 'Georgia', 'Ghana',\n",
       "       'Guinea', 'Gambia', 'Guinea-Bissau', 'Equatorial Guinea', 'Greece',\n",
       "       'Grenada', 'Guatemala', 'Guyana', 'Honduras', 'Croatia', 'Haiti',\n",
       "       'Hungary', 'Indonesia', 'India', 'Ireland', 'Iran', 'Iraq',\n",
       "       'Iceland', 'Israel', 'Italy', 'Jamaica', 'Jordan', 'Japan',\n",
       "       'Kazakhstan', 'Kenya', 'Kyrgyzstan', 'Cambodia', 'Kiribati',\n",
       "       'St. Kitts & Nevis', 'South Korea', 'Kuwait', 'Laos', 'Lebanon',\n",
       "       'Liberia', 'Libya', 'St. Lucia', 'Liechtenstein', 'Sri Lanka',\n",
       "       'Lesotho', 'Lithuania', 'Luxembourg', 'Latvia', 'Morocco',\n",
       "       'Monaco', 'Moldova', 'Madagascar', 'Maldives', 'Mexico',\n",
       "       'Marshall Islands', 'North Macedonia', 'Mali', 'Malta',\n",
       "       'Myanmar (Burma)', 'Montenegro', 'Mongolia', 'Mozambique',\n",
       "       'Mauritania', 'Mauritius', 'Malawi', 'Malaysia', 'Namibia',\n",
       "       'Niger', 'Nigeria', 'Nicaragua', 'Netherlands', 'Norway', 'Nepal',\n",
       "       'New Zealand', 'Oman', 'Pakistan', 'Panama', 'Peru', 'Philippines',\n",
       "       'Palau', 'Papua New Guinea', 'Poland', 'Portugal', 'Paraguay',\n",
       "       'Palestinian Territories', 'Qatar', 'Romania', 'Russia', 'Rwanda',\n",
       "       'Saudi Arabia', 'Sudan', 'Senegal', 'Singapore', 'Solomon Islands',\n",
       "       'Sierra Leone', 'El Salvador', 'San Marino', 'Somalia', 'Serbia',\n",
       "       'South Sudan', 'São Tomé & Príncipe', 'Suriname', 'Slovakia',\n",
       "       'Slovenia', 'Sweden', 'Eswatini', 'Seychelles', 'Syria', 'Chad',\n",
       "       'Togo', 'Thailand', 'Tajikistan', 'Timor-Leste',\n",
       "       'Trinidad & Tobago', 'Tunisia', 'Turkey', 'Tanzania', 'Uganda',\n",
       "       'Ukraine', 'Uruguay', 'United States', 'Uzbekistan',\n",
       "       'St. Vincent & Grenadines', 'Venezuela', 'Vietnam', 'Vanuatu',\n",
       "       'Samoa', 'Yemen', 'South Africa', 'Zambia', 'Zimbabwe'],\n",
       "      dtype=object)"
      ]
     },
     "execution_count": 124,
     "metadata": {},
     "output_type": "execute_result"
    }
   ],
   "source": [
    "df['country'].unique()"
   ]
  },
  {
   "cell_type": "code",
   "execution_count": 125,
   "id": "97222e0d",
   "metadata": {},
   "outputs": [],
   "source": [
    "import numpy as np"
   ]
  },
  {
   "cell_type": "code",
   "execution_count": 126,
   "id": "c353ac2f",
   "metadata": {},
   "outputs": [],
   "source": [
    "dfegy=df[df['country']=='Egypt']"
   ]
  },
  {
   "cell_type": "code",
   "execution_count": 127,
   "id": "8b9942e8",
   "metadata": {},
   "outputs": [],
   "source": [
    "stats=dfegy.groupby(\"weekdays\").agg({\"dcases\": [np.mean, np.std, np.size]})"
   ]
  },
  {
   "cell_type": "code",
   "execution_count": 128,
   "id": "bd645a4a",
   "metadata": {},
   "outputs": [
    {
     "data": {
      "text/html": [
       "<div>\n",
       "<style scoped>\n",
       "    .dataframe tbody tr th:only-of-type {\n",
       "        vertical-align: middle;\n",
       "    }\n",
       "\n",
       "    .dataframe tbody tr th {\n",
       "        vertical-align: top;\n",
       "    }\n",
       "\n",
       "    .dataframe thead tr th {\n",
       "        text-align: left;\n",
       "    }\n",
       "\n",
       "    .dataframe thead tr:last-of-type th {\n",
       "        text-align: right;\n",
       "    }\n",
       "</style>\n",
       "<table border=\"1\" class=\"dataframe\">\n",
       "  <thead>\n",
       "    <tr>\n",
       "      <th></th>\n",
       "      <th colspan=\"3\" halign=\"left\">dcases</th>\n",
       "    </tr>\n",
       "    <tr>\n",
       "      <th></th>\n",
       "      <th>mean</th>\n",
       "      <th>std</th>\n",
       "      <th>size</th>\n",
       "    </tr>\n",
       "    <tr>\n",
       "      <th>weekdays</th>\n",
       "      <th></th>\n",
       "      <th></th>\n",
       "      <th></th>\n",
       "    </tr>\n",
       "  </thead>\n",
       "  <tbody>\n",
       "    <tr>\n",
       "      <th>Fri</th>\n",
       "      <td>567.161616</td>\n",
       "      <td>428.533849</td>\n",
       "      <td>99</td>\n",
       "    </tr>\n",
       "    <tr>\n",
       "      <th>Mon</th>\n",
       "      <td>561.846939</td>\n",
       "      <td>442.137949</td>\n",
       "      <td>98</td>\n",
       "    </tr>\n",
       "    <tr>\n",
       "      <th>Sat</th>\n",
       "      <td>558.806122</td>\n",
       "      <td>421.803605</td>\n",
       "      <td>98</td>\n",
       "    </tr>\n",
       "    <tr>\n",
       "      <th>Sun</th>\n",
       "      <td>545.520408</td>\n",
       "      <td>422.358748</td>\n",
       "      <td>98</td>\n",
       "    </tr>\n",
       "    <tr>\n",
       "      <th>Thu</th>\n",
       "      <td>567.683673</td>\n",
       "      <td>410.020004</td>\n",
       "      <td>98</td>\n",
       "    </tr>\n",
       "    <tr>\n",
       "      <th>Tue</th>\n",
       "      <td>566.153061</td>\n",
       "      <td>419.125460</td>\n",
       "      <td>98</td>\n",
       "    </tr>\n",
       "    <tr>\n",
       "      <th>Wed</th>\n",
       "      <td>561.479592</td>\n",
       "      <td>406.337812</td>\n",
       "      <td>98</td>\n",
       "    </tr>\n",
       "  </tbody>\n",
       "</table>\n",
       "</div>"
      ],
      "text/plain": [
       "              dcases                 \n",
       "                mean         std size\n",
       "weekdays                             \n",
       "Fri       567.161616  428.533849   99\n",
       "Mon       561.846939  442.137949   98\n",
       "Sat       558.806122  421.803605   98\n",
       "Sun       545.520408  422.358748   98\n",
       "Thu       567.683673  410.020004   98\n",
       "Tue       566.153061  419.125460   98\n",
       "Wed       561.479592  406.337812   98"
      ]
     },
     "execution_count": 128,
     "metadata": {},
     "output_type": "execute_result"
    }
   ],
   "source": [
    "stats"
   ]
  },
  {
   "cell_type": "code",
   "execution_count": 129,
   "id": "620877e0",
   "metadata": {},
   "outputs": [
    {
     "data": {
      "text/html": [
       "<div>\n",
       "<style scoped>\n",
       "    .dataframe tbody tr th:only-of-type {\n",
       "        vertical-align: middle;\n",
       "    }\n",
       "\n",
       "    .dataframe tbody tr th {\n",
       "        vertical-align: top;\n",
       "    }\n",
       "\n",
       "    .dataframe thead tr th {\n",
       "        text-align: left;\n",
       "    }\n",
       "\n",
       "    .dataframe thead tr:last-of-type th {\n",
       "        text-align: right;\n",
       "    }\n",
       "</style>\n",
       "<table border=\"1\" class=\"dataframe\">\n",
       "  <thead>\n",
       "    <tr>\n",
       "      <th></th>\n",
       "      <th colspan=\"3\" halign=\"left\">dcases</th>\n",
       "    </tr>\n",
       "    <tr>\n",
       "      <th></th>\n",
       "      <th>mean</th>\n",
       "      <th>std</th>\n",
       "      <th>size</th>\n",
       "    </tr>\n",
       "    <tr>\n",
       "      <th>month</th>\n",
       "      <th></th>\n",
       "      <th></th>\n",
       "      <th></th>\n",
       "    </tr>\n",
       "  </thead>\n",
       "  <tbody>\n",
       "    <tr>\n",
       "      <th>Apr</th>\n",
       "      <td>504.133333</td>\n",
       "      <td>354.246465</td>\n",
       "      <td>60</td>\n",
       "    </tr>\n",
       "    <tr>\n",
       "      <th>Aug</th>\n",
       "      <td>145.806452</td>\n",
       "      <td>60.683224</td>\n",
       "      <td>62</td>\n",
       "    </tr>\n",
       "    <tr>\n",
       "      <th>Dec</th>\n",
       "      <td>792.709677</td>\n",
       "      <td>300.346870</td>\n",
       "      <td>62</td>\n",
       "    </tr>\n",
       "    <tr>\n",
       "      <th>Feb</th>\n",
       "      <td>374.409091</td>\n",
       "      <td>288.087868</td>\n",
       "      <td>44</td>\n",
       "    </tr>\n",
       "    <tr>\n",
       "      <th>Jan</th>\n",
       "      <td>899.645161</td>\n",
       "      <td>251.335970</td>\n",
       "      <td>31</td>\n",
       "    </tr>\n",
       "    <tr>\n",
       "      <th>Jul</th>\n",
       "      <td>463.661290</td>\n",
       "      <td>437.595552</td>\n",
       "      <td>62</td>\n",
       "    </tr>\n",
       "    <tr>\n",
       "      <th>Jun</th>\n",
       "      <td>1032.633333</td>\n",
       "      <td>454.674216</td>\n",
       "      <td>60</td>\n",
       "    </tr>\n",
       "    <tr>\n",
       "      <th>Mar</th>\n",
       "      <td>329.290323</td>\n",
       "      <td>310.292849</td>\n",
       "      <td>62</td>\n",
       "    </tr>\n",
       "    <tr>\n",
       "      <th>May</th>\n",
       "      <td>879.774194</td>\n",
       "      <td>346.475245</td>\n",
       "      <td>62</td>\n",
       "    </tr>\n",
       "    <tr>\n",
       "      <th>Nov</th>\n",
       "      <td>598.616667</td>\n",
       "      <td>370.082496</td>\n",
       "      <td>60</td>\n",
       "    </tr>\n",
       "    <tr>\n",
       "      <th>Oct</th>\n",
       "      <td>497.580645</td>\n",
       "      <td>362.321547</td>\n",
       "      <td>62</td>\n",
       "    </tr>\n",
       "    <tr>\n",
       "      <th>Sep</th>\n",
       "      <td>339.033333</td>\n",
       "      <td>225.855584</td>\n",
       "      <td>60</td>\n",
       "    </tr>\n",
       "  </tbody>\n",
       "</table>\n",
       "</div>"
      ],
      "text/plain": [
       "            dcases                 \n",
       "              mean         std size\n",
       "month                              \n",
       "Apr     504.133333  354.246465   60\n",
       "Aug     145.806452   60.683224   62\n",
       "Dec     792.709677  300.346870   62\n",
       "Feb     374.409091  288.087868   44\n",
       "Jan     899.645161  251.335970   31\n",
       "Jul     463.661290  437.595552   62\n",
       "Jun    1032.633333  454.674216   60\n",
       "Mar     329.290323  310.292849   62\n",
       "May     879.774194  346.475245   62\n",
       "Nov     598.616667  370.082496   60\n",
       "Oct     497.580645  362.321547   62\n",
       "Sep     339.033333  225.855584   60"
      ]
     },
     "execution_count": 129,
     "metadata": {},
     "output_type": "execute_result"
    }
   ],
   "source": [
    "statsm=dfegy.groupby(\"month\").agg({\"dcases\": [np.mean, np.std, np.size]})\n",
    "statsm"
   ]
  },
  {
   "cell_type": "code",
   "execution_count": 130,
   "id": "bc03a8fc",
   "metadata": {},
   "outputs": [],
   "source": [
    "import numpy as np\n",
    "import scipy.stats "
   ]
  },
  {
   "cell_type": "code",
   "execution_count": 131,
   "id": "13e5e336",
   "metadata": {},
   "outputs": [
    {
     "data": {
      "text/plain": [
       "Index(['Apr', 'Aug', 'Dec', 'Feb', 'Jan', 'Jul', 'Jun', 'Mar', 'May', 'Nov',\n",
       "       'Oct', 'Sep'],\n",
       "      dtype='object', name='month')"
      ]
     },
     "execution_count": 131,
     "metadata": {},
     "output_type": "execute_result"
    }
   ],
   "source": [
    "statsm.index"
   ]
  },
  {
   "cell_type": "code",
   "execution_count": 132,
   "id": "26ceb8dc",
   "metadata": {},
   "outputs": [],
   "source": [
    "ci95_hi = []\n",
    "ci95_lo = []"
   ]
  },
  {
   "cell_type": "code",
   "execution_count": 133,
   "id": "0eb96a7d",
   "metadata": {},
   "outputs": [],
   "source": [
    "for i in statsm.index:\n",
    "    m, s, n = statsm.loc[i]\n",
    "    x=scipy.stats.t.interval(.95, n-1, m,s/np.sqrt(n-1))\n",
    "    ci95_hi.append(x[1])\n",
    "    ci95_lo.append(x[0])"
   ]
  },
  {
   "cell_type": "code",
   "execution_count": 134,
   "id": "a780c3f5",
   "metadata": {},
   "outputs": [
    {
     "data": {
      "text/plain": [
       "[596.4171621669087,\n",
       " 161.3429084204986,\n",
       " 869.6061543814164,\n",
       " 463.0084047471138,\n",
       " 993.3598571863843,\n",
       " 575.6969386179874,\n",
       " 1151.0793353591891,\n",
       " 408.7332244407111,\n",
       " 968.4807139392825,\n",
       " 695.0258988600798,\n",
       " 590.3442237843955,\n",
       " 397.87038622259695]"
      ]
     },
     "execution_count": 134,
     "metadata": {},
     "output_type": "execute_result"
    }
   ],
   "source": [
    "ci95_hi"
   ]
  },
  {
   "cell_type": "code",
   "execution_count": 135,
   "id": "b84fb19b",
   "metadata": {},
   "outputs": [
    {
     "data": {
      "text/plain": [
       "[411.8495044997579,\n",
       " 130.26999480530787,\n",
       " 715.8132004572933,\n",
       " 285.8097770710681,\n",
       " 805.9304653942609,\n",
       " 351.6256420271739,\n",
       " 914.1873313074777,\n",
       " 249.84742072057924,\n",
       " 791.0676731574916,\n",
       " 502.2074344732536,\n",
       " 404.8170665381852,\n",
       " 280.19628044406977]"
      ]
     },
     "execution_count": 135,
     "metadata": {},
     "output_type": "execute_result"
    }
   ],
   "source": [
    "ci95_lo"
   ]
  },
  {
   "cell_type": "code",
   "execution_count": 136,
   "id": "50dfa390",
   "metadata": {},
   "outputs": [
    {
     "name": "stdout",
     "output_type": "stream",
     "text": [
      "            dcases                       ci95_hi     ci95_lo\n",
      "              mean         std size                         \n",
      "month                                                       \n",
      "Apr     504.133333  354.246465   60   596.417162  411.849504\n",
      "Aug     145.806452   60.683224   62   161.342908  130.269995\n",
      "Dec     792.709677  300.346870   62   869.606154  715.813200\n",
      "Feb     374.409091  288.087868   44   463.008405  285.809777\n",
      "Jan     899.645161  251.335970   31   993.359857  805.930465\n",
      "Jul     463.661290  437.595552   62   575.696939  351.625642\n",
      "Jun    1032.633333  454.674216   60  1151.079335  914.187331\n",
      "Mar     329.290323  310.292849   62   408.733224  249.847421\n",
      "May     879.774194  346.475245   62   968.480714  791.067673\n",
      "Nov     598.616667  370.082496   60   695.025899  502.207434\n",
      "Oct     497.580645  362.321547   62   590.344224  404.817067\n",
      "Sep     339.033333  225.855584   60   397.870386  280.196280\n"
     ]
    }
   ],
   "source": [
    "statsm['ci95_hi'] = ci95_hi\n",
    "statsm['ci95_lo'] = ci95_lo\n",
    "print(statsm)"
   ]
  },
  {
   "cell_type": "code",
   "execution_count": 137,
   "id": "755adec7",
   "metadata": {},
   "outputs": [],
   "source": [
    "df_ci= pd.DataFrame(statsm)"
   ]
  },
  {
   "cell_type": "code",
   "execution_count": 138,
   "id": "bd2e994d",
   "metadata": {},
   "outputs": [
    {
     "data": {
      "text/html": [
       "<div>\n",
       "<style scoped>\n",
       "    .dataframe tbody tr th:only-of-type {\n",
       "        vertical-align: middle;\n",
       "    }\n",
       "\n",
       "    .dataframe tbody tr th {\n",
       "        vertical-align: top;\n",
       "    }\n",
       "\n",
       "    .dataframe thead tr th {\n",
       "        text-align: left;\n",
       "    }\n",
       "\n",
       "    .dataframe thead tr:last-of-type th {\n",
       "        text-align: right;\n",
       "    }\n",
       "</style>\n",
       "<table border=\"1\" class=\"dataframe\">\n",
       "  <thead>\n",
       "    <tr>\n",
       "      <th></th>\n",
       "      <th colspan=\"3\" halign=\"left\">dcases</th>\n",
       "      <th>ci95_hi</th>\n",
       "      <th>ci95_lo</th>\n",
       "    </tr>\n",
       "    <tr>\n",
       "      <th></th>\n",
       "      <th>mean</th>\n",
       "      <th>std</th>\n",
       "      <th>size</th>\n",
       "      <th></th>\n",
       "      <th></th>\n",
       "    </tr>\n",
       "    <tr>\n",
       "      <th>month</th>\n",
       "      <th></th>\n",
       "      <th></th>\n",
       "      <th></th>\n",
       "      <th></th>\n",
       "      <th></th>\n",
       "    </tr>\n",
       "  </thead>\n",
       "  <tbody>\n",
       "    <tr>\n",
       "      <th>Apr</th>\n",
       "      <td>504.133333</td>\n",
       "      <td>354.246465</td>\n",
       "      <td>60</td>\n",
       "      <td>596.417162</td>\n",
       "      <td>411.849504</td>\n",
       "    </tr>\n",
       "    <tr>\n",
       "      <th>Aug</th>\n",
       "      <td>145.806452</td>\n",
       "      <td>60.683224</td>\n",
       "      <td>62</td>\n",
       "      <td>161.342908</td>\n",
       "      <td>130.269995</td>\n",
       "    </tr>\n",
       "    <tr>\n",
       "      <th>Dec</th>\n",
       "      <td>792.709677</td>\n",
       "      <td>300.346870</td>\n",
       "      <td>62</td>\n",
       "      <td>869.606154</td>\n",
       "      <td>715.813200</td>\n",
       "    </tr>\n",
       "    <tr>\n",
       "      <th>Feb</th>\n",
       "      <td>374.409091</td>\n",
       "      <td>288.087868</td>\n",
       "      <td>44</td>\n",
       "      <td>463.008405</td>\n",
       "      <td>285.809777</td>\n",
       "    </tr>\n",
       "    <tr>\n",
       "      <th>Jan</th>\n",
       "      <td>899.645161</td>\n",
       "      <td>251.335970</td>\n",
       "      <td>31</td>\n",
       "      <td>993.359857</td>\n",
       "      <td>805.930465</td>\n",
       "    </tr>\n",
       "    <tr>\n",
       "      <th>Jul</th>\n",
       "      <td>463.661290</td>\n",
       "      <td>437.595552</td>\n",
       "      <td>62</td>\n",
       "      <td>575.696939</td>\n",
       "      <td>351.625642</td>\n",
       "    </tr>\n",
       "    <tr>\n",
       "      <th>Jun</th>\n",
       "      <td>1032.633333</td>\n",
       "      <td>454.674216</td>\n",
       "      <td>60</td>\n",
       "      <td>1151.079335</td>\n",
       "      <td>914.187331</td>\n",
       "    </tr>\n",
       "    <tr>\n",
       "      <th>Mar</th>\n",
       "      <td>329.290323</td>\n",
       "      <td>310.292849</td>\n",
       "      <td>62</td>\n",
       "      <td>408.733224</td>\n",
       "      <td>249.847421</td>\n",
       "    </tr>\n",
       "    <tr>\n",
       "      <th>May</th>\n",
       "      <td>879.774194</td>\n",
       "      <td>346.475245</td>\n",
       "      <td>62</td>\n",
       "      <td>968.480714</td>\n",
       "      <td>791.067673</td>\n",
       "    </tr>\n",
       "    <tr>\n",
       "      <th>Nov</th>\n",
       "      <td>598.616667</td>\n",
       "      <td>370.082496</td>\n",
       "      <td>60</td>\n",
       "      <td>695.025899</td>\n",
       "      <td>502.207434</td>\n",
       "    </tr>\n",
       "    <tr>\n",
       "      <th>Oct</th>\n",
       "      <td>497.580645</td>\n",
       "      <td>362.321547</td>\n",
       "      <td>62</td>\n",
       "      <td>590.344224</td>\n",
       "      <td>404.817067</td>\n",
       "    </tr>\n",
       "    <tr>\n",
       "      <th>Sep</th>\n",
       "      <td>339.033333</td>\n",
       "      <td>225.855584</td>\n",
       "      <td>60</td>\n",
       "      <td>397.870386</td>\n",
       "      <td>280.196280</td>\n",
       "    </tr>\n",
       "  </tbody>\n",
       "</table>\n",
       "</div>"
      ],
      "text/plain": [
       "            dcases                       ci95_hi     ci95_lo\n",
       "              mean         std size                         \n",
       "month                                                       \n",
       "Apr     504.133333  354.246465   60   596.417162  411.849504\n",
       "Aug     145.806452   60.683224   62   161.342908  130.269995\n",
       "Dec     792.709677  300.346870   62   869.606154  715.813200\n",
       "Feb     374.409091  288.087868   44   463.008405  285.809777\n",
       "Jan     899.645161  251.335970   31   993.359857  805.930465\n",
       "Jul     463.661290  437.595552   62   575.696939  351.625642\n",
       "Jun    1032.633333  454.674216   60  1151.079335  914.187331\n",
       "Mar     329.290323  310.292849   62   408.733224  249.847421\n",
       "May     879.774194  346.475245   62   968.480714  791.067673\n",
       "Nov     598.616667  370.082496   60   695.025899  502.207434\n",
       "Oct     497.580645  362.321547   62   590.344224  404.817067\n",
       "Sep     339.033333  225.855584   60   397.870386  280.196280"
      ]
     },
     "execution_count": 138,
     "metadata": {},
     "output_type": "execute_result"
    }
   ],
   "source": [
    "df_ci"
   ]
  },
  {
   "cell_type": "code",
   "execution_count": 139,
   "id": "7211ba01",
   "metadata": {},
   "outputs": [
    {
     "data": {
      "text/plain": [
       "Index(['Apr', 'Aug', 'Dec', 'Feb', 'Jan', 'Jul', 'Jun', 'Mar', 'May', 'Nov',\n",
       "       'Oct', 'Sep'],\n",
       "      dtype='object', name='month')"
      ]
     },
     "execution_count": 139,
     "metadata": {},
     "output_type": "execute_result"
    }
   ],
   "source": [
    "df_ci.index"
   ]
  },
  {
   "cell_type": "code",
   "execution_count": 140,
   "id": "6df4560a",
   "metadata": {},
   "outputs": [],
   "source": [
    "df_ci['month']=df_ci.index"
   ]
  },
  {
   "cell_type": "code",
   "execution_count": 141,
   "id": "54a4bc92",
   "metadata": {},
   "outputs": [
    {
     "data": {
      "text/html": [
       "<div>\n",
       "<style scoped>\n",
       "    .dataframe tbody tr th:only-of-type {\n",
       "        vertical-align: middle;\n",
       "    }\n",
       "\n",
       "    .dataframe tbody tr th {\n",
       "        vertical-align: top;\n",
       "    }\n",
       "\n",
       "    .dataframe thead tr th {\n",
       "        text-align: left;\n",
       "    }\n",
       "\n",
       "    .dataframe thead tr:last-of-type th {\n",
       "        text-align: right;\n",
       "    }\n",
       "</style>\n",
       "<table border=\"1\" class=\"dataframe\">\n",
       "  <thead>\n",
       "    <tr>\n",
       "      <th></th>\n",
       "      <th colspan=\"3\" halign=\"left\">dcases</th>\n",
       "      <th>ci95_hi</th>\n",
       "      <th>ci95_lo</th>\n",
       "      <th>month</th>\n",
       "    </tr>\n",
       "    <tr>\n",
       "      <th></th>\n",
       "      <th>mean</th>\n",
       "      <th>std</th>\n",
       "      <th>size</th>\n",
       "      <th></th>\n",
       "      <th></th>\n",
       "      <th></th>\n",
       "    </tr>\n",
       "    <tr>\n",
       "      <th>month</th>\n",
       "      <th></th>\n",
       "      <th></th>\n",
       "      <th></th>\n",
       "      <th></th>\n",
       "      <th></th>\n",
       "      <th></th>\n",
       "    </tr>\n",
       "  </thead>\n",
       "  <tbody>\n",
       "    <tr>\n",
       "      <th>Apr</th>\n",
       "      <td>504.133333</td>\n",
       "      <td>354.246465</td>\n",
       "      <td>60</td>\n",
       "      <td>596.417162</td>\n",
       "      <td>411.849504</td>\n",
       "      <td>Apr</td>\n",
       "    </tr>\n",
       "    <tr>\n",
       "      <th>Aug</th>\n",
       "      <td>145.806452</td>\n",
       "      <td>60.683224</td>\n",
       "      <td>62</td>\n",
       "      <td>161.342908</td>\n",
       "      <td>130.269995</td>\n",
       "      <td>Aug</td>\n",
       "    </tr>\n",
       "    <tr>\n",
       "      <th>Dec</th>\n",
       "      <td>792.709677</td>\n",
       "      <td>300.346870</td>\n",
       "      <td>62</td>\n",
       "      <td>869.606154</td>\n",
       "      <td>715.813200</td>\n",
       "      <td>Dec</td>\n",
       "    </tr>\n",
       "    <tr>\n",
       "      <th>Feb</th>\n",
       "      <td>374.409091</td>\n",
       "      <td>288.087868</td>\n",
       "      <td>44</td>\n",
       "      <td>463.008405</td>\n",
       "      <td>285.809777</td>\n",
       "      <td>Feb</td>\n",
       "    </tr>\n",
       "    <tr>\n",
       "      <th>Jan</th>\n",
       "      <td>899.645161</td>\n",
       "      <td>251.335970</td>\n",
       "      <td>31</td>\n",
       "      <td>993.359857</td>\n",
       "      <td>805.930465</td>\n",
       "      <td>Jan</td>\n",
       "    </tr>\n",
       "    <tr>\n",
       "      <th>Jul</th>\n",
       "      <td>463.661290</td>\n",
       "      <td>437.595552</td>\n",
       "      <td>62</td>\n",
       "      <td>575.696939</td>\n",
       "      <td>351.625642</td>\n",
       "      <td>Jul</td>\n",
       "    </tr>\n",
       "    <tr>\n",
       "      <th>Jun</th>\n",
       "      <td>1032.633333</td>\n",
       "      <td>454.674216</td>\n",
       "      <td>60</td>\n",
       "      <td>1151.079335</td>\n",
       "      <td>914.187331</td>\n",
       "      <td>Jun</td>\n",
       "    </tr>\n",
       "    <tr>\n",
       "      <th>Mar</th>\n",
       "      <td>329.290323</td>\n",
       "      <td>310.292849</td>\n",
       "      <td>62</td>\n",
       "      <td>408.733224</td>\n",
       "      <td>249.847421</td>\n",
       "      <td>Mar</td>\n",
       "    </tr>\n",
       "    <tr>\n",
       "      <th>May</th>\n",
       "      <td>879.774194</td>\n",
       "      <td>346.475245</td>\n",
       "      <td>62</td>\n",
       "      <td>968.480714</td>\n",
       "      <td>791.067673</td>\n",
       "      <td>May</td>\n",
       "    </tr>\n",
       "    <tr>\n",
       "      <th>Nov</th>\n",
       "      <td>598.616667</td>\n",
       "      <td>370.082496</td>\n",
       "      <td>60</td>\n",
       "      <td>695.025899</td>\n",
       "      <td>502.207434</td>\n",
       "      <td>Nov</td>\n",
       "    </tr>\n",
       "    <tr>\n",
       "      <th>Oct</th>\n",
       "      <td>497.580645</td>\n",
       "      <td>362.321547</td>\n",
       "      <td>62</td>\n",
       "      <td>590.344224</td>\n",
       "      <td>404.817067</td>\n",
       "      <td>Oct</td>\n",
       "    </tr>\n",
       "    <tr>\n",
       "      <th>Sep</th>\n",
       "      <td>339.033333</td>\n",
       "      <td>225.855584</td>\n",
       "      <td>60</td>\n",
       "      <td>397.870386</td>\n",
       "      <td>280.196280</td>\n",
       "      <td>Sep</td>\n",
       "    </tr>\n",
       "  </tbody>\n",
       "</table>\n",
       "</div>"
      ],
      "text/plain": [
       "            dcases                       ci95_hi     ci95_lo month\n",
       "              mean         std size                               \n",
       "month                                                             \n",
       "Apr     504.133333  354.246465   60   596.417162  411.849504   Apr\n",
       "Aug     145.806452   60.683224   62   161.342908  130.269995   Aug\n",
       "Dec     792.709677  300.346870   62   869.606154  715.813200   Dec\n",
       "Feb     374.409091  288.087868   44   463.008405  285.809777   Feb\n",
       "Jan     899.645161  251.335970   31   993.359857  805.930465   Jan\n",
       "Jul     463.661290  437.595552   62   575.696939  351.625642   Jul\n",
       "Jun    1032.633333  454.674216   60  1151.079335  914.187331   Jun\n",
       "Mar     329.290323  310.292849   62   408.733224  249.847421   Mar\n",
       "May     879.774194  346.475245   62   968.480714  791.067673   May\n",
       "Nov     598.616667  370.082496   60   695.025899  502.207434   Nov\n",
       "Oct     497.580645  362.321547   62   590.344224  404.817067   Oct\n",
       "Sep     339.033333  225.855584   60   397.870386  280.196280   Sep"
      ]
     },
     "execution_count": 141,
     "metadata": {},
     "output_type": "execute_result"
    }
   ],
   "source": [
    "df_ci"
   ]
  },
  {
   "cell_type": "code",
   "execution_count": 142,
   "id": "2eb54ebb",
   "metadata": {},
   "outputs": [
    {
     "data": {
      "text/plain": [
       "MultiIndex([( 'dcases', 'mean'),\n",
       "            ( 'dcases',  'std'),\n",
       "            ( 'dcases', 'size'),\n",
       "            ('ci95_hi',     ''),\n",
       "            ('ci95_lo',     ''),\n",
       "            (  'month',     '')],\n",
       "           )"
      ]
     },
     "execution_count": 142,
     "metadata": {},
     "output_type": "execute_result"
    }
   ],
   "source": [
    "df_ci.columns"
   ]
  },
  {
   "cell_type": "code",
   "execution_count": 143,
   "id": "1562564e",
   "metadata": {},
   "outputs": [],
   "source": [
    "import matplotlib.pyplot as plt"
   ]
  },
  {
   "cell_type": "code",
   "execution_count": 144,
   "id": "a388a418",
   "metadata": {},
   "outputs": [
    {
     "data": {
      "text/plain": [
       "([<matplotlib.axis.YTick at 0x1ea96a64130>,\n",
       "  <matplotlib.axis.YTick at 0x1ea9942b970>,\n",
       "  <matplotlib.axis.YTick at 0x1ea99401820>,\n",
       "  <matplotlib.axis.YTick at 0x1ea96aa9460>,\n",
       "  <matplotlib.axis.YTick at 0x1ea96aa9a90>,\n",
       "  <matplotlib.axis.YTick at 0x1ea96aa9f10>,\n",
       "  <matplotlib.axis.YTick at 0x1ea96ab06a0>,\n",
       "  <matplotlib.axis.YTick at 0x1ea96ab0df0>,\n",
       "  <matplotlib.axis.YTick at 0x1ea96ab7580>,\n",
       "  <matplotlib.axis.YTick at 0x1ea96ab7cd0>,\n",
       "  <matplotlib.axis.YTick at 0x1ea96abc460>,\n",
       "  <matplotlib.axis.YTick at 0x1ea96ab75e0>],\n",
       " [Text(0, 0, 'Apr'),\n",
       "  Text(0, 1, 'Aug'),\n",
       "  Text(0, 2, 'Dec'),\n",
       "  Text(0, 3, 'Feb'),\n",
       "  Text(0, 4, 'Jan'),\n",
       "  Text(0, 5, 'Jul'),\n",
       "  Text(0, 6, 'Jun'),\n",
       "  Text(0, 7, 'Mar'),\n",
       "  Text(0, 8, 'May'),\n",
       "  Text(0, 9, 'Nov'),\n",
       "  Text(0, 10, 'Oct'),\n",
       "  Text(0, 11, 'Sep')])"
      ]
     },
     "execution_count": 144,
     "metadata": {},
     "output_type": "execute_result"
    },
    {
     "data": {
      "image/png": "[encoded data removed]",
      "text/plain": [
       "<Figure size 432x288 with 1 Axes>"
      ]
     },
     "metadata": {
      "needs_background": "light"
     },
     "output_type": "display_data"
    }
   ],
   "source": [
    "for lb,ub,y in zip(df_ci['ci95_lo'],df_ci['ci95_hi'],range(len(df_ci))):\n",
    "    plt.plot((lb,ub),(y,y),'ro-')\n",
    "plt.yticks(range(len(df_ci)),list(df_ci['month']))"
   ]
  },
  {
   "cell_type": "code",
   "execution_count": 145,
   "id": "51a9b1e2",
   "metadata": {},
   "outputs": [],
   "source": [
    "df=pd.read_csv('covid_data.csv',encoding='latin-1')"
   ]
  },
  {
   "cell_type": "code",
   "execution_count": 146,
   "id": "79ecdbde",
   "metadata": {},
   "outputs": [],
   "source": [
    "from pandas.api.types import CategoricalDtype\n",
    "cats=['Jan', 'Feb', 'Mar','Apr','May','Jun','Jul','Aug','Sep','Oct','Nov','Dec']\n",
    "cat_type = CategoricalDtype(categories=cats, ordered=True)\n",
    "df['month'] = df['month'].astype(cat_type)"
   ]
  },
  {
   "cell_type": "code",
   "execution_count": 147,
   "id": "463601a6",
   "metadata": {},
   "outputs": [],
   "source": [
    "dfegy=df[df['country']=='Egypt']"
   ]
  },
  {
   "cell_type": "code",
   "execution_count": 148,
   "id": "aa502bcf",
   "metadata": {},
   "outputs": [],
   "source": [
    "import numpy as np"
   ]
  },
  {
   "cell_type": "code",
   "execution_count": 149,
   "id": "fa034c30",
   "metadata": {},
   "outputs": [],
   "source": [
    "stats=dfegy.groupby(\"month\").agg({\"dcases\": [np.mean, np.std, np.size]})"
   ]
  },
  {
   "cell_type": "code",
   "execution_count": 150,
   "id": "de125a90",
   "metadata": {},
   "outputs": [],
   "source": [
    "stats=pd.DataFrame(stats)"
   ]
  },
  {
   "cell_type": "code",
   "execution_count": 151,
   "id": "46a414f8",
   "metadata": {},
   "outputs": [
    {
     "data": {
      "text/plain": [
       "(12, 3)"
      ]
     },
     "execution_count": 151,
     "metadata": {},
     "output_type": "execute_result"
    }
   ],
   "source": [
    "stats.shape"
   ]
  },
  {
   "cell_type": "code",
   "execution_count": 152,
   "id": "30086074",
   "metadata": {},
   "outputs": [
    {
     "data": {
      "text/plain": [
       "MultiIndex([('dcases', 'mean'),\n",
       "            ('dcases',  'std'),\n",
       "            ('dcases', 'size')],\n",
       "           )"
      ]
     },
     "execution_count": 152,
     "metadata": {},
     "output_type": "execute_result"
    }
   ],
   "source": [
    "stats.columns"
   ]
  },
  {
   "cell_type": "code",
   "execution_count": 153,
   "id": "4b057bfe",
   "metadata": {},
   "outputs": [],
   "source": [
    "stats.columns=['mean','std','size']"
   ]
  },
  {
   "cell_type": "code",
   "execution_count": 154,
   "id": "0b631403",
   "metadata": {},
   "outputs": [
    {
     "data": {
      "text/plain": [
       "Index(['mean', 'std', 'size'], dtype='object')"
      ]
     },
     "execution_count": 154,
     "metadata": {},
     "output_type": "execute_result"
    }
   ],
   "source": [
    "stats.columns"
   ]
  },
  {
   "cell_type": "code",
   "execution_count": 164,
   "id": "3a264143",
   "metadata": {},
   "outputs": [],
   "source": [
    "import numpy as np\n",
    "from scipy.stats import norm,t"
   ]
  },
  {
   "cell_type": "code",
   "execution_count": 165,
   "id": "b3f3d1e4",
   "metadata": {},
   "outputs": [],
   "source": [
    "def get_ci_lb(x, alpha=0.05):\n",
    "    sample_s=np.std(x)\n",
    "    sample_mean=np.mean(x)\n",
    "    sample_size=len(x)\n",
    "    margin_of_error = t.ppf(1 - alpha/2,sample_size-1)*sample_s/np.sqrt(sample_size-1)\n",
    "    return sample_mean - margin_of_error"
   ]
  },
  {
   "cell_type": "code",
   "execution_count": 166,
   "id": "79c151e8",
   "metadata": {},
   "outputs": [],
   "source": [
    "x=dfegy['dcases']"
   ]
  },
  {
   "cell_type": "code",
   "execution_count": 167,
   "id": "2d8ba17a",
   "metadata": {},
   "outputs": [
    {
     "data": {
      "text/plain": [
       "529.7945911276133"
      ]
     },
     "execution_count": 167,
     "metadata": {},
     "output_type": "execute_result"
    }
   ],
   "source": [
    "get_ci_lb(x)"
   ]
  },
  {
   "cell_type": "code",
   "execution_count": 168,
   "id": "501b4689",
   "metadata": {},
   "outputs": [],
   "source": [
    "def get_ci_ub(x, alpha=0.05):\n",
    "    sample_s=np.std(x)\n",
    "    sample_mean=np.mean(x)\n",
    "    sample_size=len(x)\n",
    "    margin_of_error = t.ppf(1 - alpha/2,sample_size-1)*sample_s/np.sqrt(sample_size-1)\n",
    "    return sample_mean + margin_of_error"
   ]
  },
  {
   "cell_type": "code",
   "execution_count": 169,
   "id": "9635c498",
   "metadata": {},
   "outputs": [
    {
     "data": {
      "text/plain": [
       "592.694491841819"
      ]
     },
     "execution_count": 169,
     "metadata": {},
     "output_type": "execute_result"
    }
   ],
   "source": [
    "get_ci_ub(x)"
   ]
  },
  {
   "cell_type": "code",
   "execution_count": 170,
   "id": "6381f5cf",
   "metadata": {},
   "outputs": [
    {
     "data": {
      "text/html": [
       "<div>\n",
       "<style scoped>\n",
       "    .dataframe tbody tr th:only-of-type {\n",
       "        vertical-align: middle;\n",
       "    }\n",
       "\n",
       "    .dataframe tbody tr th {\n",
       "        vertical-align: top;\n",
       "    }\n",
       "\n",
       "    .dataframe thead tr th {\n",
       "        text-align: left;\n",
       "    }\n",
       "\n",
       "    .dataframe thead tr:last-of-type th {\n",
       "        text-align: right;\n",
       "    }\n",
       "</style>\n",
       "<table border=\"1\" class=\"dataframe\">\n",
       "  <thead>\n",
       "    <tr>\n",
       "      <th></th>\n",
       "      <th colspan=\"5\" halign=\"left\">dcases</th>\n",
       "    </tr>\n",
       "    <tr>\n",
       "      <th></th>\n",
       "      <th>mean</th>\n",
       "      <th>std</th>\n",
       "      <th>size</th>\n",
       "      <th>get_ci_lb</th>\n",
       "      <th>get_ci_ub</th>\n",
       "    </tr>\n",
       "    <tr>\n",
       "      <th>month</th>\n",
       "      <th></th>\n",
       "      <th></th>\n",
       "      <th></th>\n",
       "      <th></th>\n",
       "      <th></th>\n",
       "    </tr>\n",
       "  </thead>\n",
       "  <tbody>\n",
       "    <tr>\n",
       "      <th>Jan</th>\n",
       "      <td>899.645161</td>\n",
       "      <td>251.335970</td>\n",
       "      <td>31</td>\n",
       "      <td>807.454383</td>\n",
       "      <td>991.835939</td>\n",
       "    </tr>\n",
       "    <tr>\n",
       "      <th>Feb</th>\n",
       "      <td>374.409091</td>\n",
       "      <td>288.087868</td>\n",
       "      <td>44</td>\n",
       "      <td>286.822374</td>\n",
       "      <td>461.995808</td>\n",
       "    </tr>\n",
       "    <tr>\n",
       "      <th>Mar</th>\n",
       "      <td>329.290323</td>\n",
       "      <td>310.292849</td>\n",
       "      <td>62</td>\n",
       "      <td>250.490694</td>\n",
       "      <td>408.089951</td>\n",
       "    </tr>\n",
       "    <tr>\n",
       "      <th>Apr</th>\n",
       "      <td>504.133333</td>\n",
       "      <td>354.246465</td>\n",
       "      <td>60</td>\n",
       "      <td>412.621768</td>\n",
       "      <td>595.644899</td>\n",
       "    </tr>\n",
       "    <tr>\n",
       "      <th>May</th>\n",
       "      <td>879.774194</td>\n",
       "      <td>346.475245</td>\n",
       "      <td>62</td>\n",
       "      <td>791.785956</td>\n",
       "      <td>967.762431</td>\n",
       "    </tr>\n",
       "    <tr>\n",
       "      <th>Jun</th>\n",
       "      <td>1032.633333</td>\n",
       "      <td>454.674216</td>\n",
       "      <td>60</td>\n",
       "      <td>915.178529</td>\n",
       "      <td>1150.088138</td>\n",
       "    </tr>\n",
       "    <tr>\n",
       "      <th>Jul</th>\n",
       "      <td>463.661290</td>\n",
       "      <td>437.595552</td>\n",
       "      <td>62</td>\n",
       "      <td>352.532828</td>\n",
       "      <td>574.789752</td>\n",
       "    </tr>\n",
       "    <tr>\n",
       "      <th>Aug</th>\n",
       "      <td>145.806452</td>\n",
       "      <td>60.683224</td>\n",
       "      <td>62</td>\n",
       "      <td>130.395798</td>\n",
       "      <td>161.217105</td>\n",
       "    </tr>\n",
       "    <tr>\n",
       "      <th>Sep</th>\n",
       "      <td>339.033333</td>\n",
       "      <td>225.855584</td>\n",
       "      <td>60</td>\n",
       "      <td>280.688649</td>\n",
       "      <td>397.378017</td>\n",
       "    </tr>\n",
       "    <tr>\n",
       "      <th>Oct</th>\n",
       "      <td>497.580645</td>\n",
       "      <td>362.321547</td>\n",
       "      <td>62</td>\n",
       "      <td>405.568201</td>\n",
       "      <td>589.593089</td>\n",
       "    </tr>\n",
       "    <tr>\n",
       "      <th>Nov</th>\n",
       "      <td>598.616667</td>\n",
       "      <td>370.082496</td>\n",
       "      <td>60</td>\n",
       "      <td>503.014220</td>\n",
       "      <td>694.219113</td>\n",
       "    </tr>\n",
       "    <tr>\n",
       "      <th>Dec</th>\n",
       "      <td>792.709677</td>\n",
       "      <td>300.346870</td>\n",
       "      <td>62</td>\n",
       "      <td>716.435854</td>\n",
       "      <td>868.983501</td>\n",
       "    </tr>\n",
       "  </tbody>\n",
       "</table>\n",
       "</div>"
      ],
      "text/plain": [
       "            dcases                                          \n",
       "              mean         std size   get_ci_lb    get_ci_ub\n",
       "month                                                       \n",
       "Jan     899.645161  251.335970   31  807.454383   991.835939\n",
       "Feb     374.409091  288.087868   44  286.822374   461.995808\n",
       "Mar     329.290323  310.292849   62  250.490694   408.089951\n",
       "Apr     504.133333  354.246465   60  412.621768   595.644899\n",
       "May     879.774194  346.475245   62  791.785956   967.762431\n",
       "Jun    1032.633333  454.674216   60  915.178529  1150.088138\n",
       "Jul     463.661290  437.595552   62  352.532828   574.789752\n",
       "Aug     145.806452   60.683224   62  130.395798   161.217105\n",
       "Sep     339.033333  225.855584   60  280.688649   397.378017\n",
       "Oct     497.580645  362.321547   62  405.568201   589.593089\n",
       "Nov     598.616667  370.082496   60  503.014220   694.219113\n",
       "Dec     792.709677  300.346870   62  716.435854   868.983501"
      ]
     },
     "execution_count": 170,
     "metadata": {},
     "output_type": "execute_result"
    }
   ],
   "source": [
    "ci_dcases=statsm=dfegy.groupby(\"month\").agg({\"dcases\": [np.mean, np.std, np.size,get_ci_lb,get_ci_ub]})\n",
    "statsm"
   ]
  },
  {
   "cell_type": "code",
   "execution_count": 171,
   "id": "09b45e80",
   "metadata": {},
   "outputs": [
    {
     "data": {
      "text/plain": [
       "CategoricalIndex(['Jan', 'Feb', 'Mar', 'Apr', 'May', 'Jun', 'Jul', 'Aug',\n",
       "                  'Sep', 'Oct', 'Nov', 'Dec'],\n",
       "                 categories=['Jan', 'Feb', 'Mar', 'Apr', 'May', 'Jun', 'Jul', 'Aug', ...], ordered=True, dtype='category', name='month')"
      ]
     },
     "execution_count": 171,
     "metadata": {},
     "output_type": "execute_result"
    }
   ],
   "source": [
    "statsm.index"
   ]
  },
  {
   "cell_type": "code",
   "execution_count": 172,
   "id": "04c21fa9",
   "metadata": {},
   "outputs": [],
   "source": [
    "statsm.columns=['mean','std','size','lb','ub']"
   ]
  },
  {
   "cell_type": "code",
   "execution_count": 173,
   "id": "865af342",
   "metadata": {},
   "outputs": [],
   "source": [
    "statsm['month']=statsm.index"
   ]
  },
  {
   "cell_type": "code",
   "execution_count": 174,
   "id": "1f9ca721",
   "metadata": {},
   "outputs": [
    {
     "data": {
      "text/html": [
       "<div>\n",
       "<style scoped>\n",
       "    .dataframe tbody tr th:only-of-type {\n",
       "        vertical-align: middle;\n",
       "    }\n",
       "\n",
       "    .dataframe tbody tr th {\n",
       "        vertical-align: top;\n",
       "    }\n",
       "\n",
       "    .dataframe thead th {\n",
       "        text-align: right;\n",
       "    }\n",
       "</style>\n",
       "<table border=\"1\" class=\"dataframe\">\n",
       "  <thead>\n",
       "    <tr style=\"text-align: right;\">\n",
       "      <th></th>\n",
       "      <th>mean</th>\n",
       "      <th>std</th>\n",
       "      <th>size</th>\n",
       "      <th>lb</th>\n",
       "      <th>ub</th>\n",
       "      <th>month</th>\n",
       "    </tr>\n",
       "    <tr>\n",
       "      <th>month</th>\n",
       "      <th></th>\n",
       "      <th></th>\n",
       "      <th></th>\n",
       "      <th></th>\n",
       "      <th></th>\n",
       "      <th></th>\n",
       "    </tr>\n",
       "  </thead>\n",
       "  <tbody>\n",
       "    <tr>\n",
       "      <th>Jan</th>\n",
       "      <td>899.645161</td>\n",
       "      <td>251.335970</td>\n",
       "      <td>31</td>\n",
       "      <td>807.454383</td>\n",
       "      <td>991.835939</td>\n",
       "      <td>Jan</td>\n",
       "    </tr>\n",
       "    <tr>\n",
       "      <th>Feb</th>\n",
       "      <td>374.409091</td>\n",
       "      <td>288.087868</td>\n",
       "      <td>44</td>\n",
       "      <td>286.822374</td>\n",
       "      <td>461.995808</td>\n",
       "      <td>Feb</td>\n",
       "    </tr>\n",
       "    <tr>\n",
       "      <th>Mar</th>\n",
       "      <td>329.290323</td>\n",
       "      <td>310.292849</td>\n",
       "      <td>62</td>\n",
       "      <td>250.490694</td>\n",
       "      <td>408.089951</td>\n",
       "      <td>Mar</td>\n",
       "    </tr>\n",
       "    <tr>\n",
       "      <th>Apr</th>\n",
       "      <td>504.133333</td>\n",
       "      <td>354.246465</td>\n",
       "      <td>60</td>\n",
       "      <td>412.621768</td>\n",
       "      <td>595.644899</td>\n",
       "      <td>Apr</td>\n",
       "    </tr>\n",
       "    <tr>\n",
       "      <th>May</th>\n",
       "      <td>879.774194</td>\n",
       "      <td>346.475245</td>\n",
       "      <td>62</td>\n",
       "      <td>791.785956</td>\n",
       "      <td>967.762431</td>\n",
       "      <td>May</td>\n",
       "    </tr>\n",
       "    <tr>\n",
       "      <th>Jun</th>\n",
       "      <td>1032.633333</td>\n",
       "      <td>454.674216</td>\n",
       "      <td>60</td>\n",
       "      <td>915.178529</td>\n",
       "      <td>1150.088138</td>\n",
       "      <td>Jun</td>\n",
       "    </tr>\n",
       "    <tr>\n",
       "      <th>Jul</th>\n",
       "      <td>463.661290</td>\n",
       "      <td>437.595552</td>\n",
       "      <td>62</td>\n",
       "      <td>352.532828</td>\n",
       "      <td>574.789752</td>\n",
       "      <td>Jul</td>\n",
       "    </tr>\n",
       "    <tr>\n",
       "      <th>Aug</th>\n",
       "      <td>145.806452</td>\n",
       "      <td>60.683224</td>\n",
       "      <td>62</td>\n",
       "      <td>130.395798</td>\n",
       "      <td>161.217105</td>\n",
       "      <td>Aug</td>\n",
       "    </tr>\n",
       "    <tr>\n",
       "      <th>Sep</th>\n",
       "      <td>339.033333</td>\n",
       "      <td>225.855584</td>\n",
       "      <td>60</td>\n",
       "      <td>280.688649</td>\n",
       "      <td>397.378017</td>\n",
       "      <td>Sep</td>\n",
       "    </tr>\n",
       "    <tr>\n",
       "      <th>Oct</th>\n",
       "      <td>497.580645</td>\n",
       "      <td>362.321547</td>\n",
       "      <td>62</td>\n",
       "      <td>405.568201</td>\n",
       "      <td>589.593089</td>\n",
       "      <td>Oct</td>\n",
       "    </tr>\n",
       "    <tr>\n",
       "      <th>Nov</th>\n",
       "      <td>598.616667</td>\n",
       "      <td>370.082496</td>\n",
       "      <td>60</td>\n",
       "      <td>503.014220</td>\n",
       "      <td>694.219113</td>\n",
       "      <td>Nov</td>\n",
       "    </tr>\n",
       "    <tr>\n",
       "      <th>Dec</th>\n",
       "      <td>792.709677</td>\n",
       "      <td>300.346870</td>\n",
       "      <td>62</td>\n",
       "      <td>716.435854</td>\n",
       "      <td>868.983501</td>\n",
       "      <td>Dec</td>\n",
       "    </tr>\n",
       "  </tbody>\n",
       "</table>\n",
       "</div>"
      ],
      "text/plain": [
       "              mean         std  size          lb           ub month\n",
       "month                                                              \n",
       "Jan     899.645161  251.335970    31  807.454383   991.835939   Jan\n",
       "Feb     374.409091  288.087868    44  286.822374   461.995808   Feb\n",
       "Mar     329.290323  310.292849    62  250.490694   408.089951   Mar\n",
       "Apr     504.133333  354.246465    60  412.621768   595.644899   Apr\n",
       "May     879.774194  346.475245    62  791.785956   967.762431   May\n",
       "Jun    1032.633333  454.674216    60  915.178529  1150.088138   Jun\n",
       "Jul     463.661290  437.595552    62  352.532828   574.789752   Jul\n",
       "Aug     145.806452   60.683224    62  130.395798   161.217105   Aug\n",
       "Sep     339.033333  225.855584    60  280.688649   397.378017   Sep\n",
       "Oct     497.580645  362.321547    62  405.568201   589.593089   Oct\n",
       "Nov     598.616667  370.082496    60  503.014220   694.219113   Nov\n",
       "Dec     792.709677  300.346870    62  716.435854   868.983501   Dec"
      ]
     },
     "execution_count": 174,
     "metadata": {},
     "output_type": "execute_result"
    }
   ],
   "source": [
    "statsm"
   ]
  },
  {
   "cell_type": "code",
   "execution_count": 175,
   "id": "a6780c7c",
   "metadata": {},
   "outputs": [],
   "source": [
    "import matplotlib.pyplot as plt"
   ]
  },
  {
   "cell_type": "code",
   "execution_count": 176,
   "id": "a443183e",
   "metadata": {},
   "outputs": [
    {
     "data": {
      "image/png": "[encoded data removed]",
      "text/plain": [
       "<Figure size 432x288 with 1 Axes>"
      ]
     },
     "metadata": {
      "needs_background": "light"
     },
     "output_type": "display_data"
    }
   ],
   "source": [
    "plt.plot( 'month', 'mean', data=statsm, marker='s', color='black', markersize=4,     linewidth=1, linestyle='--')\n",
    "plt.plot( 'month', 'mean', data=statsm, marker='o', color='black',  markersize=4, linewidth=1,linestyle='-')\n",
    "plt.xlabel(\"Month\")\n",
    "plt.ylabel(\"Average Daily COVID CASES\")\n",
    "plt.show()"
   ]
  },
  {
   "cell_type": "markdown",
   "id": "56ed4149",
   "metadata": {},
   "source": [
    "Now I will be making the graph but nly for the year 2021"
   ]
  },
  {
   "cell_type": "code",
   "execution_count": 177,
   "id": "35a58f87",
   "metadata": {},
   "outputs": [
    {
     "data": {
      "text/plain": [
       "'2020-02-24'"
      ]
     },
     "execution_count": 177,
     "metadata": {},
     "output_type": "execute_result"
    }
   ],
   "source": [
    "df['date'][0]"
   ]
  },
  {
   "cell_type": "code",
   "execution_count": 178,
   "id": "89cd07a4",
   "metadata": {},
   "outputs": [],
   "source": [
    "df['date'] = pd. to_datetime(df['date'],format='%Y-%m-%d')"
   ]
  },
  {
   "cell_type": "code",
   "execution_count": 179,
   "id": "726ea5e7",
   "metadata": {},
   "outputs": [
    {
     "data": {
      "text/plain": [
       "Timestamp('2020-02-24 00:00:00')"
      ]
     },
     "execution_count": 179,
     "metadata": {},
     "output_type": "execute_result"
    }
   ],
   "source": [
    "df['date'][0]"
   ]
  },
  {
   "cell_type": "code",
   "execution_count": 180,
   "id": "6271db08",
   "metadata": {},
   "outputs": [],
   "source": [
    "df['year'] = pd. DatetimeIndex(df['date']). year"
   ]
  },
  {
   "cell_type": "code",
   "execution_count": 181,
   "id": "99251eee",
   "metadata": {},
   "outputs": [
    {
     "data": {
      "text/plain": [
       "2020"
      ]
     },
     "execution_count": 181,
     "metadata": {},
     "output_type": "execute_result"
    }
   ],
   "source": [
    "df['year'][0]"
   ]
  },
  {
   "cell_type": "markdown",
   "id": "492ccc93",
   "metadata": {},
   "source": [
    "I compute now, by country, by year, by month the following statistics on the daily COVID cases: mean, std, size, CI(95%) LB, and UB."
   ]
  },
  {
   "cell_type": "code",
   "execution_count": 182,
   "id": "23077c08",
   "metadata": {},
   "outputs": [],
   "source": [
    "statsdcases=df.groupby(['country','year','month']).agg({\"dcases\": [np.mean, np.std, np.size,get_ci_lb,get_ci_ub]})"
   ]
  },
  {
   "cell_type": "code",
   "execution_count": 183,
   "id": "59679e73",
   "metadata": {},
   "outputs": [
    {
     "data": {
      "text/html": [
       "<div>\n",
       "<style scoped>\n",
       "    .dataframe tbody tr th:only-of-type {\n",
       "        vertical-align: middle;\n",
       "    }\n",
       "\n",
       "    .dataframe tbody tr th {\n",
       "        vertical-align: top;\n",
       "    }\n",
       "\n",
       "    .dataframe thead tr th {\n",
       "        text-align: left;\n",
       "    }\n",
       "\n",
       "    .dataframe thead tr:last-of-type th {\n",
       "        text-align: right;\n",
       "    }\n",
       "</style>\n",
       "<table border=\"1\" class=\"dataframe\">\n",
       "  <thead>\n",
       "    <tr>\n",
       "      <th></th>\n",
       "      <th></th>\n",
       "      <th></th>\n",
       "      <th colspan=\"5\" halign=\"left\">dcases</th>\n",
       "    </tr>\n",
       "    <tr>\n",
       "      <th></th>\n",
       "      <th></th>\n",
       "      <th></th>\n",
       "      <th>mean</th>\n",
       "      <th>std</th>\n",
       "      <th>size</th>\n",
       "      <th>get_ci_lb</th>\n",
       "      <th>get_ci_ub</th>\n",
       "    </tr>\n",
       "    <tr>\n",
       "      <th>country</th>\n",
       "      <th>year</th>\n",
       "      <th>month</th>\n",
       "      <th></th>\n",
       "      <th></th>\n",
       "      <th></th>\n",
       "      <th></th>\n",
       "      <th></th>\n",
       "    </tr>\n",
       "  </thead>\n",
       "  <tbody>\n",
       "    <tr>\n",
       "      <th rowspan=\"5\" valign=\"top\">Afghanistan</th>\n",
       "      <th rowspan=\"5\" valign=\"top\">2020</th>\n",
       "      <th>Jan</th>\n",
       "      <td>NaN</td>\n",
       "      <td>NaN</td>\n",
       "      <td>NaN</td>\n",
       "      <td>NaN</td>\n",
       "      <td>NaN</td>\n",
       "    </tr>\n",
       "    <tr>\n",
       "      <th>Feb</th>\n",
       "      <td>0.833333</td>\n",
       "      <td>2.041241</td>\n",
       "      <td>6.0</td>\n",
       "      <td>-1.308818</td>\n",
       "      <td>2.975485</td>\n",
       "    </tr>\n",
       "    <tr>\n",
       "      <th>Mar</th>\n",
       "      <td>5.258065</td>\n",
       "      <td>10.871883</td>\n",
       "      <td>31.0</td>\n",
       "      <td>1.270225</td>\n",
       "      <td>9.245904</td>\n",
       "    </tr>\n",
       "    <tr>\n",
       "      <th>Apr</th>\n",
       "      <td>55.366667</td>\n",
       "      <td>40.385627</td>\n",
       "      <td>30.0</td>\n",
       "      <td>40.286426</td>\n",
       "      <td>70.446908</td>\n",
       "    </tr>\n",
       "    <tr>\n",
       "      <th>May</th>\n",
       "      <td>430.741935</td>\n",
       "      <td>266.692078</td>\n",
       "      <td>31.0</td>\n",
       "      <td>332.918491</td>\n",
       "      <td>528.565379</td>\n",
       "    </tr>\n",
       "    <tr>\n",
       "      <th>...</th>\n",
       "      <th>...</th>\n",
       "      <th>...</th>\n",
       "      <td>...</td>\n",
       "      <td>...</td>\n",
       "      <td>...</td>\n",
       "      <td>...</td>\n",
       "      <td>...</td>\n",
       "    </tr>\n",
       "    <tr>\n",
       "      <th rowspan=\"5\" valign=\"top\">Zimbabwe</th>\n",
       "      <th rowspan=\"5\" valign=\"top\">2021</th>\n",
       "      <th>Aug</th>\n",
       "      <td>513.322581</td>\n",
       "      <td>386.841948</td>\n",
       "      <td>31.0</td>\n",
       "      <td>371.427809</td>\n",
       "      <td>655.217353</td>\n",
       "    </tr>\n",
       "    <tr>\n",
       "      <th>Sep</th>\n",
       "      <td>201.566667</td>\n",
       "      <td>135.119789</td>\n",
       "      <td>30.0</td>\n",
       "      <td>151.112108</td>\n",
       "      <td>252.021225</td>\n",
       "    </tr>\n",
       "    <tr>\n",
       "      <th>Oct</th>\n",
       "      <td>69.580645</td>\n",
       "      <td>58.035492</td>\n",
       "      <td>31.0</td>\n",
       "      <td>48.293055</td>\n",
       "      <td>90.868235</td>\n",
       "    </tr>\n",
       "    <tr>\n",
       "      <th>Nov</th>\n",
       "      <td>54.933333</td>\n",
       "      <td>82.622087</td>\n",
       "      <td>30.0</td>\n",
       "      <td>24.081739</td>\n",
       "      <td>85.784928</td>\n",
       "    </tr>\n",
       "    <tr>\n",
       "      <th>Dec</th>\n",
       "      <td>2536.548387</td>\n",
       "      <td>2572.199964</td>\n",
       "      <td>31.0</td>\n",
       "      <td>1593.057823</td>\n",
       "      <td>3480.038951</td>\n",
       "    </tr>\n",
       "  </tbody>\n",
       "</table>\n",
       "<p>4488 rows × 5 columns</p>\n",
       "</div>"
      ],
      "text/plain": [
       "                             dcases                                  \\\n",
       "                               mean          std  size    get_ci_lb   \n",
       "country     year month                                                \n",
       "Afghanistan 2020 Jan            NaN          NaN   NaN          NaN   \n",
       "                 Feb       0.833333     2.041241   6.0    -1.308818   \n",
       "                 Mar       5.258065    10.871883  31.0     1.270225   \n",
       "                 Apr      55.366667    40.385627  30.0    40.286426   \n",
       "                 May     430.741935   266.692078  31.0   332.918491   \n",
       "...                             ...          ...   ...          ...   \n",
       "Zimbabwe    2021 Aug     513.322581   386.841948  31.0   371.427809   \n",
       "                 Sep     201.566667   135.119789  30.0   151.112108   \n",
       "                 Oct      69.580645    58.035492  31.0    48.293055   \n",
       "                 Nov      54.933333    82.622087  30.0    24.081739   \n",
       "                 Dec    2536.548387  2572.199964  31.0  1593.057823   \n",
       "\n",
       "                                     \n",
       "                          get_ci_ub  \n",
       "country     year month               \n",
       "Afghanistan 2020 Jan            NaN  \n",
       "                 Feb       2.975485  \n",
       "                 Mar       9.245904  \n",
       "                 Apr      70.446908  \n",
       "                 May     528.565379  \n",
       "...                             ...  \n",
       "Zimbabwe    2021 Aug     655.217353  \n",
       "                 Sep     252.021225  \n",
       "                 Oct      90.868235  \n",
       "                 Nov      85.784928  \n",
       "                 Dec    3480.038951  \n",
       "\n",
       "[4488 rows x 5 columns]"
      ]
     },
     "execution_count": 183,
     "metadata": {},
     "output_type": "execute_result"
    }
   ],
   "source": [
    "statsdcases"
   ]
  },
  {
   "cell_type": "code",
   "execution_count": 185,
   "id": "6ed1bcbe",
   "metadata": {},
   "outputs": [],
   "source": [
    "statsdcases=statsdcases.reset_index()"
   ]
  },
  {
   "cell_type": "code",
   "execution_count": 186,
   "id": "220312bf",
   "metadata": {},
   "outputs": [
    {
     "data": {
      "text/html": [
       "<div>\n",
       "<style scoped>\n",
       "    .dataframe tbody tr th:only-of-type {\n",
       "        vertical-align: middle;\n",
       "    }\n",
       "\n",
       "    .dataframe tbody tr th {\n",
       "        vertical-align: top;\n",
       "    }\n",
       "\n",
       "    .dataframe thead tr th {\n",
       "        text-align: left;\n",
       "    }\n",
       "</style>\n",
       "<table border=\"1\" class=\"dataframe\">\n",
       "  <thead>\n",
       "    <tr>\n",
       "      <th></th>\n",
       "      <th>country</th>\n",
       "      <th>year</th>\n",
       "      <th>month</th>\n",
       "      <th colspan=\"5\" halign=\"left\">dcases</th>\n",
       "    </tr>\n",
       "    <tr>\n",
       "      <th></th>\n",
       "      <th></th>\n",
       "      <th></th>\n",
       "      <th></th>\n",
       "      <th>mean</th>\n",
       "      <th>std</th>\n",
       "      <th>size</th>\n",
       "      <th>get_ci_lb</th>\n",
       "      <th>get_ci_ub</th>\n",
       "    </tr>\n",
       "  </thead>\n",
       "  <tbody>\n",
       "    <tr>\n",
       "      <th>0</th>\n",
       "      <td>Afghanistan</td>\n",
       "      <td>2020</td>\n",
       "      <td>Jan</td>\n",
       "      <td>NaN</td>\n",
       "      <td>NaN</td>\n",
       "      <td>NaN</td>\n",
       "      <td>NaN</td>\n",
       "      <td>NaN</td>\n",
       "    </tr>\n",
       "    <tr>\n",
       "      <th>1</th>\n",
       "      <td>Afghanistan</td>\n",
       "      <td>2020</td>\n",
       "      <td>Feb</td>\n",
       "      <td>0.833333</td>\n",
       "      <td>2.041241</td>\n",
       "      <td>6.0</td>\n",
       "      <td>-1.308818</td>\n",
       "      <td>2.975485</td>\n",
       "    </tr>\n",
       "    <tr>\n",
       "      <th>2</th>\n",
       "      <td>Afghanistan</td>\n",
       "      <td>2020</td>\n",
       "      <td>Mar</td>\n",
       "      <td>5.258065</td>\n",
       "      <td>10.871883</td>\n",
       "      <td>31.0</td>\n",
       "      <td>1.270225</td>\n",
       "      <td>9.245904</td>\n",
       "    </tr>\n",
       "    <tr>\n",
       "      <th>3</th>\n",
       "      <td>Afghanistan</td>\n",
       "      <td>2020</td>\n",
       "      <td>Apr</td>\n",
       "      <td>55.366667</td>\n",
       "      <td>40.385627</td>\n",
       "      <td>30.0</td>\n",
       "      <td>40.286426</td>\n",
       "      <td>70.446908</td>\n",
       "    </tr>\n",
       "    <tr>\n",
       "      <th>4</th>\n",
       "      <td>Afghanistan</td>\n",
       "      <td>2020</td>\n",
       "      <td>May</td>\n",
       "      <td>430.741935</td>\n",
       "      <td>266.692078</td>\n",
       "      <td>31.0</td>\n",
       "      <td>332.918491</td>\n",
       "      <td>528.565379</td>\n",
       "    </tr>\n",
       "    <tr>\n",
       "      <th>...</th>\n",
       "      <td>...</td>\n",
       "      <td>...</td>\n",
       "      <td>...</td>\n",
       "      <td>...</td>\n",
       "      <td>...</td>\n",
       "      <td>...</td>\n",
       "      <td>...</td>\n",
       "      <td>...</td>\n",
       "    </tr>\n",
       "    <tr>\n",
       "      <th>4483</th>\n",
       "      <td>Zimbabwe</td>\n",
       "      <td>2021</td>\n",
       "      <td>Aug</td>\n",
       "      <td>513.322581</td>\n",
       "      <td>386.841948</td>\n",
       "      <td>31.0</td>\n",
       "      <td>371.427809</td>\n",
       "      <td>655.217353</td>\n",
       "    </tr>\n",
       "    <tr>\n",
       "      <th>4484</th>\n",
       "      <td>Zimbabwe</td>\n",
       "      <td>2021</td>\n",
       "      <td>Sep</td>\n",
       "      <td>201.566667</td>\n",
       "      <td>135.119789</td>\n",
       "      <td>30.0</td>\n",
       "      <td>151.112108</td>\n",
       "      <td>252.021225</td>\n",
       "    </tr>\n",
       "    <tr>\n",
       "      <th>4485</th>\n",
       "      <td>Zimbabwe</td>\n",
       "      <td>2021</td>\n",
       "      <td>Oct</td>\n",
       "      <td>69.580645</td>\n",
       "      <td>58.035492</td>\n",
       "      <td>31.0</td>\n",
       "      <td>48.293055</td>\n",
       "      <td>90.868235</td>\n",
       "    </tr>\n",
       "    <tr>\n",
       "      <th>4486</th>\n",
       "      <td>Zimbabwe</td>\n",
       "      <td>2021</td>\n",
       "      <td>Nov</td>\n",
       "      <td>54.933333</td>\n",
       "      <td>82.622087</td>\n",
       "      <td>30.0</td>\n",
       "      <td>24.081739</td>\n",
       "      <td>85.784928</td>\n",
       "    </tr>\n",
       "    <tr>\n",
       "      <th>4487</th>\n",
       "      <td>Zimbabwe</td>\n",
       "      <td>2021</td>\n",
       "      <td>Dec</td>\n",
       "      <td>2536.548387</td>\n",
       "      <td>2572.199964</td>\n",
       "      <td>31.0</td>\n",
       "      <td>1593.057823</td>\n",
       "      <td>3480.038951</td>\n",
       "    </tr>\n",
       "  </tbody>\n",
       "</table>\n",
       "<p>4488 rows × 8 columns</p>\n",
       "</div>"
      ],
      "text/plain": [
       "          country  year month       dcases                                  \\\n",
       "                                      mean          std  size    get_ci_lb   \n",
       "0     Afghanistan  2020   Jan          NaN          NaN   NaN          NaN   \n",
       "1     Afghanistan  2020   Feb     0.833333     2.041241   6.0    -1.308818   \n",
       "2     Afghanistan  2020   Mar     5.258065    10.871883  31.0     1.270225   \n",
       "3     Afghanistan  2020   Apr    55.366667    40.385627  30.0    40.286426   \n",
       "4     Afghanistan  2020   May   430.741935   266.692078  31.0   332.918491   \n",
       "...           ...   ...   ...          ...          ...   ...          ...   \n",
       "4483     Zimbabwe  2021   Aug   513.322581   386.841948  31.0   371.427809   \n",
       "4484     Zimbabwe  2021   Sep   201.566667   135.119789  30.0   151.112108   \n",
       "4485     Zimbabwe  2021   Oct    69.580645    58.035492  31.0    48.293055   \n",
       "4486     Zimbabwe  2021   Nov    54.933333    82.622087  30.0    24.081739   \n",
       "4487     Zimbabwe  2021   Dec  2536.548387  2572.199964  31.0  1593.057823   \n",
       "\n",
       "                   \n",
       "        get_ci_ub  \n",
       "0             NaN  \n",
       "1        2.975485  \n",
       "2        9.245904  \n",
       "3       70.446908  \n",
       "4      528.565379  \n",
       "...           ...  \n",
       "4483   655.217353  \n",
       "4484   252.021225  \n",
       "4485    90.868235  \n",
       "4486    85.784928  \n",
       "4487  3480.038951  \n",
       "\n",
       "[4488 rows x 8 columns]"
      ]
     },
     "execution_count": 186,
     "metadata": {},
     "output_type": "execute_result"
    }
   ],
   "source": [
    "statsdcases"
   ]
  },
  {
   "cell_type": "code",
   "execution_count": 187,
   "id": "c2a9f030",
   "metadata": {},
   "outputs": [],
   "source": [
    "statsEgy=statsdcases[(statsdcases['country']=='Egypt') & (statsdcases['year']==2021)]"
   ]
  },
  {
   "cell_type": "code",
   "execution_count": 188,
   "id": "56534822",
   "metadata": {},
   "outputs": [
    {
     "data": {
      "text/html": [
       "<div>\n",
       "<style scoped>\n",
       "    .dataframe tbody tr th:only-of-type {\n",
       "        vertical-align: middle;\n",
       "    }\n",
       "\n",
       "    .dataframe tbody tr th {\n",
       "        vertical-align: top;\n",
       "    }\n",
       "\n",
       "    .dataframe thead tr th {\n",
       "        text-align: left;\n",
       "    }\n",
       "</style>\n",
       "<table border=\"1\" class=\"dataframe\">\n",
       "  <thead>\n",
       "    <tr>\n",
       "      <th></th>\n",
       "      <th>country</th>\n",
       "      <th>year</th>\n",
       "      <th>month</th>\n",
       "      <th colspan=\"5\" halign=\"left\">dcases</th>\n",
       "    </tr>\n",
       "    <tr>\n",
       "      <th></th>\n",
       "      <th></th>\n",
       "      <th></th>\n",
       "      <th></th>\n",
       "      <th>mean</th>\n",
       "      <th>std</th>\n",
       "      <th>size</th>\n",
       "      <th>get_ci_lb</th>\n",
       "      <th>get_ci_ub</th>\n",
       "    </tr>\n",
       "  </thead>\n",
       "  <tbody>\n",
       "    <tr>\n",
       "      <th>1236</th>\n",
       "      <td>Egypt</td>\n",
       "      <td>2021</td>\n",
       "      <td>Jan</td>\n",
       "      <td>899.645161</td>\n",
       "      <td>251.335970</td>\n",
       "      <td>31.0</td>\n",
       "      <td>807.454383</td>\n",
       "      <td>991.835939</td>\n",
       "    </tr>\n",
       "    <tr>\n",
       "      <th>1237</th>\n",
       "      <td>Egypt</td>\n",
       "      <td>2021</td>\n",
       "      <td>Feb</td>\n",
       "      <td>588.321429</td>\n",
       "      <td>40.989659</td>\n",
       "      <td>28.0</td>\n",
       "      <td>572.427298</td>\n",
       "      <td>604.215559</td>\n",
       "    </tr>\n",
       "    <tr>\n",
       "      <th>1238</th>\n",
       "      <td>Egypt</td>\n",
       "      <td>2021</td>\n",
       "      <td>Mar</td>\n",
       "      <td>635.709677</td>\n",
       "      <td>36.309038</td>\n",
       "      <td>31.0</td>\n",
       "      <td>622.391415</td>\n",
       "      <td>649.027940</td>\n",
       "    </tr>\n",
       "    <tr>\n",
       "      <th>1239</th>\n",
       "      <td>Egypt</td>\n",
       "      <td>2021</td>\n",
       "      <td>Apr</td>\n",
       "      <td>847.366667</td>\n",
       "      <td>92.416405</td>\n",
       "      <td>30.0</td>\n",
       "      <td>812.857814</td>\n",
       "      <td>881.875520</td>\n",
       "    </tr>\n",
       "    <tr>\n",
       "      <th>1240</th>\n",
       "      <td>Egypt</td>\n",
       "      <td>2021</td>\n",
       "      <td>May</td>\n",
       "      <td>1132.193548</td>\n",
       "      <td>55.087457</td>\n",
       "      <td>31.0</td>\n",
       "      <td>1111.987306</td>\n",
       "      <td>1152.399791</td>\n",
       "    </tr>\n",
       "    <tr>\n",
       "      <th>1241</th>\n",
       "      <td>Egypt</td>\n",
       "      <td>2021</td>\n",
       "      <td>Jun</td>\n",
       "      <td>621.066667</td>\n",
       "      <td>197.770841</td>\n",
       "      <td>30.0</td>\n",
       "      <td>547.217821</td>\n",
       "      <td>694.915513</td>\n",
       "    </tr>\n",
       "    <tr>\n",
       "      <th>1242</th>\n",
       "      <td>Egypt</td>\n",
       "      <td>2021</td>\n",
       "      <td>Jul</td>\n",
       "      <td>96.129032</td>\n",
       "      <td>61.659139</td>\n",
       "      <td>31.0</td>\n",
       "      <td>73.512277</td>\n",
       "      <td>118.745787</td>\n",
       "    </tr>\n",
       "    <tr>\n",
       "      <th>1243</th>\n",
       "      <td>Egypt</td>\n",
       "      <td>2021</td>\n",
       "      <td>Aug</td>\n",
       "      <td>134.806452</td>\n",
       "      <td>73.635326</td>\n",
       "      <td>31.0</td>\n",
       "      <td>107.796796</td>\n",
       "      <td>161.816107</td>\n",
       "    </tr>\n",
       "    <tr>\n",
       "      <th>1244</th>\n",
       "      <td>Egypt</td>\n",
       "      <td>2021</td>\n",
       "      <td>Sep</td>\n",
       "      <td>536.100000</td>\n",
       "      <td>151.276488</td>\n",
       "      <td>30.0</td>\n",
       "      <td>479.612431</td>\n",
       "      <td>592.587569</td>\n",
       "    </tr>\n",
       "    <tr>\n",
       "      <th>1245</th>\n",
       "      <td>Egypt</td>\n",
       "      <td>2021</td>\n",
       "      <td>Oct</td>\n",
       "      <td>854.612903</td>\n",
       "      <td>53.664189</td>\n",
       "      <td>31.0</td>\n",
       "      <td>834.928720</td>\n",
       "      <td>874.297087</td>\n",
       "    </tr>\n",
       "    <tr>\n",
       "      <th>1246</th>\n",
       "      <td>Egypt</td>\n",
       "      <td>2021</td>\n",
       "      <td>Nov</td>\n",
       "      <td>918.700000</td>\n",
       "      <td>248.217528</td>\n",
       "      <td>30.0</td>\n",
       "      <td>826.014052</td>\n",
       "      <td>1011.385948</td>\n",
       "    </tr>\n",
       "    <tr>\n",
       "      <th>1247</th>\n",
       "      <td>Egypt</td>\n",
       "      <td>2021</td>\n",
       "      <td>Dec</td>\n",
       "      <td>870.870968</td>\n",
       "      <td>212.967093</td>\n",
       "      <td>31.0</td>\n",
       "      <td>792.754007</td>\n",
       "      <td>948.987928</td>\n",
       "    </tr>\n",
       "  </tbody>\n",
       "</table>\n",
       "</div>"
      ],
      "text/plain": [
       "     country  year month       dcases                                 \\\n",
       "                                 mean         std  size    get_ci_lb   \n",
       "1236   Egypt  2021   Jan   899.645161  251.335970  31.0   807.454383   \n",
       "1237   Egypt  2021   Feb   588.321429   40.989659  28.0   572.427298   \n",
       "1238   Egypt  2021   Mar   635.709677   36.309038  31.0   622.391415   \n",
       "1239   Egypt  2021   Apr   847.366667   92.416405  30.0   812.857814   \n",
       "1240   Egypt  2021   May  1132.193548   55.087457  31.0  1111.987306   \n",
       "1241   Egypt  2021   Jun   621.066667  197.770841  30.0   547.217821   \n",
       "1242   Egypt  2021   Jul    96.129032   61.659139  31.0    73.512277   \n",
       "1243   Egypt  2021   Aug   134.806452   73.635326  31.0   107.796796   \n",
       "1244   Egypt  2021   Sep   536.100000  151.276488  30.0   479.612431   \n",
       "1245   Egypt  2021   Oct   854.612903   53.664189  31.0   834.928720   \n",
       "1246   Egypt  2021   Nov   918.700000  248.217528  30.0   826.014052   \n",
       "1247   Egypt  2021   Dec   870.870968  212.967093  31.0   792.754007   \n",
       "\n",
       "                   \n",
       "        get_ci_ub  \n",
       "1236   991.835939  \n",
       "1237   604.215559  \n",
       "1238   649.027940  \n",
       "1239   881.875520  \n",
       "1240  1152.399791  \n",
       "1241   694.915513  \n",
       "1242   118.745787  \n",
       "1243   161.816107  \n",
       "1244   592.587569  \n",
       "1245   874.297087  \n",
       "1246  1011.385948  \n",
       "1247   948.987928  "
      ]
     },
     "execution_count": 188,
     "metadata": {},
     "output_type": "execute_result"
    }
   ],
   "source": [
    "statsEgy"
   ]
  },
  {
   "cell_type": "code",
   "execution_count": 189,
   "id": "2a998db8",
   "metadata": {},
   "outputs": [
    {
     "data": {
      "text/plain": [
       "MultiIndex([('country',          ''),\n",
       "            (   'year',          ''),\n",
       "            (  'month',          ''),\n",
       "            ( 'dcases',      'mean'),\n",
       "            ( 'dcases',       'std'),\n",
       "            ( 'dcases',      'size'),\n",
       "            ( 'dcases', 'get_ci_lb'),\n",
       "            ( 'dcases', 'get_ci_ub')],\n",
       "           )"
      ]
     },
     "execution_count": 189,
     "metadata": {},
     "output_type": "execute_result"
    }
   ],
   "source": [
    "statsEgy.columns"
   ]
  },
  {
   "cell_type": "code",
   "execution_count": 190,
   "id": "d24a593b",
   "metadata": {},
   "outputs": [],
   "source": [
    "statsEgy.columns=['country','year','month','mean','std','size','lb','ub']"
   ]
  },
  {
   "cell_type": "markdown",
   "id": "5e81256b",
   "metadata": {},
   "source": [
    "Now I will be drawing the average daily COVID cases by month in Egypt"
   ]
  },
  {
   "cell_type": "code",
   "execution_count": 191,
   "id": "9865b436",
   "metadata": {},
   "outputs": [
    {
     "data": {
      "image/png": "[encoded data removed]",
      "text/plain": [
       "<Figure size 432x288 with 1 Axes>"
      ]
     },
     "metadata": {
      "needs_background": "light"
     },
     "output_type": "display_data"
    }
   ],
   "source": [
    "plt.plot( 'month', 'mean', data=statsEgy, marker='s', color='black', markersize=4,     linewidth=1, linestyle='--')\n",
    "plt.plot( 'month', 'mean', data=statsEgy, marker='o', color='black',  markersize=4, linewidth=1,linestyle='-')\n",
    "plt.xlabel(\"Month\")\n",
    "plt.ylabel(\"Average Daily COVID CASES\")\n",
    "plt.title(\"Egypt\")\n",
    "plt.show()"
   ]
  },
  {
   "cell_type": "code",
   "execution_count": 192,
   "id": "84e00179",
   "metadata": {},
   "outputs": [],
   "source": [
    "ci_lb_ub=[statsEgy['lb'],statsEgy['ub']]"
   ]
  },
  {
   "cell_type": "code",
   "execution_count": 193,
   "id": "7e67a354",
   "metadata": {},
   "outputs": [],
   "source": [
    "err = np.abs(ci_lb_ub - statsEgy['mean'].to_numpy())"
   ]
  },
  {
   "cell_type": "code",
   "execution_count": 194,
   "id": "a1ffa992",
   "metadata": {},
   "outputs": [
    {
     "data": {
      "image/png": "[encoded data removed]",
      "text/plain": [
       "<Figure size 432x288 with 1 Axes>"
      ]
     },
     "metadata": {
      "needs_background": "light"
     },
     "output_type": "display_data"
    }
   ],
   "source": [
    "plt.errorbar('month', 'mean',  yerr=err, data=statsEgy,marker='s', capsize=2,\n",
    "             color='black', markersize=4, linewidth=1, linestyle='--')\n",
    "plt.xlabel(\"Month\")\n",
    "plt.ylabel(\"Average Daily COVID CASES\")\n",
    "plt.title(\"Egypt\")\n",
    "plt.show()"
   ]
  },
  {
   "cell_type": "markdown",
   "id": "13f771b7",
   "metadata": {},
   "source": [
    "The comparision between 2020 and 2021"
   ]
  },
  {
   "cell_type": "code",
   "execution_count": 195,
   "id": "61993439",
   "metadata": {},
   "outputs": [
    {
     "data": {
      "text/html": [
       "<div>\n",
       "<style scoped>\n",
       "    .dataframe tbody tr th:only-of-type {\n",
       "        vertical-align: middle;\n",
       "    }\n",
       "\n",
       "    .dataframe tbody tr th {\n",
       "        vertical-align: top;\n",
       "    }\n",
       "\n",
       "    .dataframe thead tr th {\n",
       "        text-align: left;\n",
       "    }\n",
       "</style>\n",
       "<table border=\"1\" class=\"dataframe\">\n",
       "  <thead>\n",
       "    <tr>\n",
       "      <th></th>\n",
       "      <th>country</th>\n",
       "      <th>year</th>\n",
       "      <th>month</th>\n",
       "      <th colspan=\"5\" halign=\"left\">dcases</th>\n",
       "    </tr>\n",
       "    <tr>\n",
       "      <th></th>\n",
       "      <th></th>\n",
       "      <th></th>\n",
       "      <th></th>\n",
       "      <th>mean</th>\n",
       "      <th>std</th>\n",
       "      <th>size</th>\n",
       "      <th>get_ci_lb</th>\n",
       "      <th>get_ci_ub</th>\n",
       "    </tr>\n",
       "  </thead>\n",
       "  <tbody>\n",
       "    <tr>\n",
       "      <th>1236</th>\n",
       "      <td>Egypt</td>\n",
       "      <td>2021</td>\n",
       "      <td>Jan</td>\n",
       "      <td>899.645161</td>\n",
       "      <td>251.335970</td>\n",
       "      <td>31.0</td>\n",
       "      <td>807.454383</td>\n",
       "      <td>991.835939</td>\n",
       "    </tr>\n",
       "    <tr>\n",
       "      <th>1237</th>\n",
       "      <td>Egypt</td>\n",
       "      <td>2021</td>\n",
       "      <td>Feb</td>\n",
       "      <td>588.321429</td>\n",
       "      <td>40.989659</td>\n",
       "      <td>28.0</td>\n",
       "      <td>572.427298</td>\n",
       "      <td>604.215559</td>\n",
       "    </tr>\n",
       "    <tr>\n",
       "      <th>1238</th>\n",
       "      <td>Egypt</td>\n",
       "      <td>2021</td>\n",
       "      <td>Mar</td>\n",
       "      <td>635.709677</td>\n",
       "      <td>36.309038</td>\n",
       "      <td>31.0</td>\n",
       "      <td>622.391415</td>\n",
       "      <td>649.027940</td>\n",
       "    </tr>\n",
       "    <tr>\n",
       "      <th>1239</th>\n",
       "      <td>Egypt</td>\n",
       "      <td>2021</td>\n",
       "      <td>Apr</td>\n",
       "      <td>847.366667</td>\n",
       "      <td>92.416405</td>\n",
       "      <td>30.0</td>\n",
       "      <td>812.857814</td>\n",
       "      <td>881.875520</td>\n",
       "    </tr>\n",
       "    <tr>\n",
       "      <th>1240</th>\n",
       "      <td>Egypt</td>\n",
       "      <td>2021</td>\n",
       "      <td>May</td>\n",
       "      <td>1132.193548</td>\n",
       "      <td>55.087457</td>\n",
       "      <td>31.0</td>\n",
       "      <td>1111.987306</td>\n",
       "      <td>1152.399791</td>\n",
       "    </tr>\n",
       "    <tr>\n",
       "      <th>1241</th>\n",
       "      <td>Egypt</td>\n",
       "      <td>2021</td>\n",
       "      <td>Jun</td>\n",
       "      <td>621.066667</td>\n",
       "      <td>197.770841</td>\n",
       "      <td>30.0</td>\n",
       "      <td>547.217821</td>\n",
       "      <td>694.915513</td>\n",
       "    </tr>\n",
       "    <tr>\n",
       "      <th>1242</th>\n",
       "      <td>Egypt</td>\n",
       "      <td>2021</td>\n",
       "      <td>Jul</td>\n",
       "      <td>96.129032</td>\n",
       "      <td>61.659139</td>\n",
       "      <td>31.0</td>\n",
       "      <td>73.512277</td>\n",
       "      <td>118.745787</td>\n",
       "    </tr>\n",
       "    <tr>\n",
       "      <th>1243</th>\n",
       "      <td>Egypt</td>\n",
       "      <td>2021</td>\n",
       "      <td>Aug</td>\n",
       "      <td>134.806452</td>\n",
       "      <td>73.635326</td>\n",
       "      <td>31.0</td>\n",
       "      <td>107.796796</td>\n",
       "      <td>161.816107</td>\n",
       "    </tr>\n",
       "    <tr>\n",
       "      <th>1244</th>\n",
       "      <td>Egypt</td>\n",
       "      <td>2021</td>\n",
       "      <td>Sep</td>\n",
       "      <td>536.100000</td>\n",
       "      <td>151.276488</td>\n",
       "      <td>30.0</td>\n",
       "      <td>479.612431</td>\n",
       "      <td>592.587569</td>\n",
       "    </tr>\n",
       "    <tr>\n",
       "      <th>1245</th>\n",
       "      <td>Egypt</td>\n",
       "      <td>2021</td>\n",
       "      <td>Oct</td>\n",
       "      <td>854.612903</td>\n",
       "      <td>53.664189</td>\n",
       "      <td>31.0</td>\n",
       "      <td>834.928720</td>\n",
       "      <td>874.297087</td>\n",
       "    </tr>\n",
       "    <tr>\n",
       "      <th>1246</th>\n",
       "      <td>Egypt</td>\n",
       "      <td>2021</td>\n",
       "      <td>Nov</td>\n",
       "      <td>918.700000</td>\n",
       "      <td>248.217528</td>\n",
       "      <td>30.0</td>\n",
       "      <td>826.014052</td>\n",
       "      <td>1011.385948</td>\n",
       "    </tr>\n",
       "    <tr>\n",
       "      <th>1247</th>\n",
       "      <td>Egypt</td>\n",
       "      <td>2021</td>\n",
       "      <td>Dec</td>\n",
       "      <td>870.870968</td>\n",
       "      <td>212.967093</td>\n",
       "      <td>31.0</td>\n",
       "      <td>792.754007</td>\n",
       "      <td>948.987928</td>\n",
       "    </tr>\n",
       "  </tbody>\n",
       "</table>\n",
       "</div>"
      ],
      "text/plain": [
       "     country  year month       dcases                                 \\\n",
       "                                 mean         std  size    get_ci_lb   \n",
       "1236   Egypt  2021   Jan   899.645161  251.335970  31.0   807.454383   \n",
       "1237   Egypt  2021   Feb   588.321429   40.989659  28.0   572.427298   \n",
       "1238   Egypt  2021   Mar   635.709677   36.309038  31.0   622.391415   \n",
       "1239   Egypt  2021   Apr   847.366667   92.416405  30.0   812.857814   \n",
       "1240   Egypt  2021   May  1132.193548   55.087457  31.0  1111.987306   \n",
       "1241   Egypt  2021   Jun   621.066667  197.770841  30.0   547.217821   \n",
       "1242   Egypt  2021   Jul    96.129032   61.659139  31.0    73.512277   \n",
       "1243   Egypt  2021   Aug   134.806452   73.635326  31.0   107.796796   \n",
       "1244   Egypt  2021   Sep   536.100000  151.276488  30.0   479.612431   \n",
       "1245   Egypt  2021   Oct   854.612903   53.664189  31.0   834.928720   \n",
       "1246   Egypt  2021   Nov   918.700000  248.217528  30.0   826.014052   \n",
       "1247   Egypt  2021   Dec   870.870968  212.967093  31.0   792.754007   \n",
       "\n",
       "                   \n",
       "        get_ci_ub  \n",
       "1236   991.835939  \n",
       "1237   604.215559  \n",
       "1238   649.027940  \n",
       "1239   881.875520  \n",
       "1240  1152.399791  \n",
       "1241   694.915513  \n",
       "1242   118.745787  \n",
       "1243   161.816107  \n",
       "1244   592.587569  \n",
       "1245   874.297087  \n",
       "1246  1011.385948  \n",
       "1247   948.987928  "
      ]
     },
     "execution_count": 195,
     "metadata": {},
     "output_type": "execute_result"
    }
   ],
   "source": [
    "statsEgy21=statsdcases[(statsdcases['country']=='Egypt')\n",
    "                       & (statsdcases['year']==2021)]\n",
    "statsEgy21"
   ]
  },
  {
   "cell_type": "code",
   "execution_count": 196,
   "id": "2f7c403a",
   "metadata": {},
   "outputs": [
    {
     "data": {
      "text/html": [
       "<div>\n",
       "<style scoped>\n",
       "    .dataframe tbody tr th:only-of-type {\n",
       "        vertical-align: middle;\n",
       "    }\n",
       "\n",
       "    .dataframe tbody tr th {\n",
       "        vertical-align: top;\n",
       "    }\n",
       "\n",
       "    .dataframe thead tr th {\n",
       "        text-align: left;\n",
       "    }\n",
       "</style>\n",
       "<table border=\"1\" class=\"dataframe\">\n",
       "  <thead>\n",
       "    <tr>\n",
       "      <th></th>\n",
       "      <th>country</th>\n",
       "      <th>year</th>\n",
       "      <th>month</th>\n",
       "      <th colspan=\"5\" halign=\"left\">dcases</th>\n",
       "    </tr>\n",
       "    <tr>\n",
       "      <th></th>\n",
       "      <th></th>\n",
       "      <th></th>\n",
       "      <th></th>\n",
       "      <th>mean</th>\n",
       "      <th>std</th>\n",
       "      <th>size</th>\n",
       "      <th>get_ci_lb</th>\n",
       "      <th>get_ci_ub</th>\n",
       "    </tr>\n",
       "  </thead>\n",
       "  <tbody>\n",
       "    <tr>\n",
       "      <th>1224</th>\n",
       "      <td>Egypt</td>\n",
       "      <td>2020</td>\n",
       "      <td>Jan</td>\n",
       "      <td>NaN</td>\n",
       "      <td>NaN</td>\n",
       "      <td>NaN</td>\n",
       "      <td>NaN</td>\n",
       "      <td>NaN</td>\n",
       "    </tr>\n",
       "    <tr>\n",
       "      <th>1225</th>\n",
       "      <td>Egypt</td>\n",
       "      <td>2020</td>\n",
       "      <td>Feb</td>\n",
       "      <td>0.062500</td>\n",
       "      <td>0.250000</td>\n",
       "      <td>16.0</td>\n",
       "      <td>-0.070716</td>\n",
       "      <td>0.195716</td>\n",
       "    </tr>\n",
       "    <tr>\n",
       "      <th>1226</th>\n",
       "      <td>Egypt</td>\n",
       "      <td>2020</td>\n",
       "      <td>Mar</td>\n",
       "      <td>22.870968</td>\n",
       "      <td>20.228267</td>\n",
       "      <td>31.0</td>\n",
       "      <td>15.451179</td>\n",
       "      <td>30.290756</td>\n",
       "    </tr>\n",
       "    <tr>\n",
       "      <th>1227</th>\n",
       "      <td>Egypt</td>\n",
       "      <td>2020</td>\n",
       "      <td>Apr</td>\n",
       "      <td>160.900000</td>\n",
       "      <td>54.996144</td>\n",
       "      <td>30.0</td>\n",
       "      <td>140.364102</td>\n",
       "      <td>181.435898</td>\n",
       "    </tr>\n",
       "    <tr>\n",
       "      <th>1228</th>\n",
       "      <td>Egypt</td>\n",
       "      <td>2020</td>\n",
       "      <td>May</td>\n",
       "      <td>627.354839</td>\n",
       "      <td>330.723908</td>\n",
       "      <td>31.0</td>\n",
       "      <td>506.044330</td>\n",
       "      <td>748.665347</td>\n",
       "    </tr>\n",
       "    <tr>\n",
       "      <th>1229</th>\n",
       "      <td>Egypt</td>\n",
       "      <td>2020</td>\n",
       "      <td>Jun</td>\n",
       "      <td>1444.200000</td>\n",
       "      <td>176.114853</td>\n",
       "      <td>30.0</td>\n",
       "      <td>1378.437633</td>\n",
       "      <td>1509.962367</td>\n",
       "    </tr>\n",
       "    <tr>\n",
       "      <th>1230</th>\n",
       "      <td>Egypt</td>\n",
       "      <td>2020</td>\n",
       "      <td>Jul</td>\n",
       "      <td>831.193548</td>\n",
       "      <td>326.183427</td>\n",
       "      <td>31.0</td>\n",
       "      <td>711.548501</td>\n",
       "      <td>950.838595</td>\n",
       "    </tr>\n",
       "    <tr>\n",
       "      <th>1231</th>\n",
       "      <td>Egypt</td>\n",
       "      <td>2020</td>\n",
       "      <td>Aug</td>\n",
       "      <td>156.806452</td>\n",
       "      <td>42.607839</td>\n",
       "      <td>31.0</td>\n",
       "      <td>141.177770</td>\n",
       "      <td>172.435133</td>\n",
       "    </tr>\n",
       "    <tr>\n",
       "      <th>1232</th>\n",
       "      <td>Egypt</td>\n",
       "      <td>2020</td>\n",
       "      <td>Sep</td>\n",
       "      <td>141.966667</td>\n",
       "      <td>23.389481</td>\n",
       "      <td>30.0</td>\n",
       "      <td>133.232891</td>\n",
       "      <td>150.700442</td>\n",
       "    </tr>\n",
       "    <tr>\n",
       "      <th>1233</th>\n",
       "      <td>Egypt</td>\n",
       "      <td>2020</td>\n",
       "      <td>Oct</td>\n",
       "      <td>140.548387</td>\n",
       "      <td>24.650678</td>\n",
       "      <td>31.0</td>\n",
       "      <td>131.506445</td>\n",
       "      <td>149.590329</td>\n",
       "    </tr>\n",
       "    <tr>\n",
       "      <th>1234</th>\n",
       "      <td>Egypt</td>\n",
       "      <td>2020</td>\n",
       "      <td>Nov</td>\n",
       "      <td>278.533333</td>\n",
       "      <td>71.137426</td>\n",
       "      <td>30.0</td>\n",
       "      <td>251.970182</td>\n",
       "      <td>305.096485</td>\n",
       "    </tr>\n",
       "    <tr>\n",
       "      <th>1235</th>\n",
       "      <td>Egypt</td>\n",
       "      <td>2020</td>\n",
       "      <td>Dec</td>\n",
       "      <td>714.548387</td>\n",
       "      <td>354.179036</td>\n",
       "      <td>31.0</td>\n",
       "      <td>584.634468</td>\n",
       "      <td>844.462306</td>\n",
       "    </tr>\n",
       "  </tbody>\n",
       "</table>\n",
       "</div>"
      ],
      "text/plain": [
       "     country  year month       dcases                                 \\\n",
       "                                 mean         std  size    get_ci_lb   \n",
       "1224   Egypt  2020   Jan          NaN         NaN   NaN          NaN   \n",
       "1225   Egypt  2020   Feb     0.062500    0.250000  16.0    -0.070716   \n",
       "1226   Egypt  2020   Mar    22.870968   20.228267  31.0    15.451179   \n",
       "1227   Egypt  2020   Apr   160.900000   54.996144  30.0   140.364102   \n",
       "1228   Egypt  2020   May   627.354839  330.723908  31.0   506.044330   \n",
       "1229   Egypt  2020   Jun  1444.200000  176.114853  30.0  1378.437633   \n",
       "1230   Egypt  2020   Jul   831.193548  326.183427  31.0   711.548501   \n",
       "1231   Egypt  2020   Aug   156.806452   42.607839  31.0   141.177770   \n",
       "1232   Egypt  2020   Sep   141.966667   23.389481  30.0   133.232891   \n",
       "1233   Egypt  2020   Oct   140.548387   24.650678  31.0   131.506445   \n",
       "1234   Egypt  2020   Nov   278.533333   71.137426  30.0   251.970182   \n",
       "1235   Egypt  2020   Dec   714.548387  354.179036  31.0   584.634468   \n",
       "\n",
       "                   \n",
       "        get_ci_ub  \n",
       "1224          NaN  \n",
       "1225     0.195716  \n",
       "1226    30.290756  \n",
       "1227   181.435898  \n",
       "1228   748.665347  \n",
       "1229  1509.962367  \n",
       "1230   950.838595  \n",
       "1231   172.435133  \n",
       "1232   150.700442  \n",
       "1233   149.590329  \n",
       "1234   305.096485  \n",
       "1235   844.462306  "
      ]
     },
     "execution_count": 196,
     "metadata": {},
     "output_type": "execute_result"
    }
   ],
   "source": [
    "statsEgy20=statsdcases[(statsdcases['country']=='Egypt')\n",
    "                       & (statsdcases['year']==2020)]\n",
    "statsEgy20"
   ]
  },
  {
   "cell_type": "code",
   "execution_count": 197,
   "id": "7865f503",
   "metadata": {},
   "outputs": [],
   "source": [
    "statsEgy20.columns=['country','year','month','mean','std','size','lb','ub']"
   ]
  },
  {
   "cell_type": "code",
   "execution_count": 198,
   "id": "e756087c",
   "metadata": {},
   "outputs": [],
   "source": [
    "statsEgy21.columns=['country','year','month','mean','std','size','lb','ub']"
   ]
  },
  {
   "cell_type": "code",
   "execution_count": 199,
   "id": "547e736d",
   "metadata": {},
   "outputs": [
    {
     "data": {
      "text/plain": [
       "1224    Jan\n",
       "1225    Feb\n",
       "1226    Mar\n",
       "1227    Apr\n",
       "1228    May\n",
       "1229    Jun\n",
       "1230    Jul\n",
       "1231    Aug\n",
       "1232    Sep\n",
       "1233    Oct\n",
       "1234    Nov\n",
       "1235    Dec\n",
       "Name: month, dtype: category\n",
       "Categories (12, object): ['Jan' < 'Feb' < 'Mar' < 'Apr' ... 'Sep' < 'Oct' < 'Nov' < 'Dec']"
      ]
     },
     "execution_count": 199,
     "metadata": {},
     "output_type": "execute_result"
    }
   ],
   "source": [
    "x=statsEgy20['month']\n",
    "x"
   ]
  },
  {
   "cell_type": "code",
   "execution_count": 200,
   "id": "d039f37a",
   "metadata": {},
   "outputs": [
    {
     "data": {
      "text/plain": [
       "1224            NaN\n",
       "1225       0.062500\n",
       "1226      22.870968\n",
       "1227     160.900000\n",
       "1228     627.354839\n",
       "1229    1444.200000\n",
       "1230     831.193548\n",
       "1231     156.806452\n",
       "1232     141.966667\n",
       "1233     140.548387\n",
       "1234     278.533333\n",
       "1235     714.548387\n",
       "Name: mean, dtype: float64"
      ]
     },
     "execution_count": 200,
     "metadata": {},
     "output_type": "execute_result"
    }
   ],
   "source": [
    "y1=statsEgy20['mean']\n",
    "y1"
   ]
  },
  {
   "cell_type": "code",
   "execution_count": 201,
   "id": "83fc6c48",
   "metadata": {},
   "outputs": [
    {
     "data": {
      "text/plain": [
       "1236     899.645161\n",
       "1237     588.321429\n",
       "1238     635.709677\n",
       "1239     847.366667\n",
       "1240    1132.193548\n",
       "1241     621.066667\n",
       "1242      96.129032\n",
       "1243     134.806452\n",
       "1244     536.100000\n",
       "1245     854.612903\n",
       "1246     918.700000\n",
       "1247     870.870968\n",
       "Name: mean, dtype: float64"
      ]
     },
     "execution_count": 201,
     "metadata": {},
     "output_type": "execute_result"
    }
   ],
   "source": [
    "y2=statsEgy21['mean']\n",
    "y2"
   ]
  },
  {
   "cell_type": "code",
   "execution_count": 202,
   "id": "3ee33f93",
   "metadata": {},
   "outputs": [],
   "source": [
    "ci_lb_ub20=[statsEgy20['lb'],statsEgy20['ub']]\n",
    "err20 = np.abs(ci_lb_ub20 - statsEgy20['mean'].to_numpy())"
   ]
  },
  {
   "cell_type": "code",
   "execution_count": 203,
   "id": "0287f9ed",
   "metadata": {},
   "outputs": [],
   "source": [
    "ci_lb_ub21=[statsEgy21['lb'],statsEgy21['ub']]\n",
    "err21 = np.abs(ci_lb_ub21 - statsEgy21['mean'].to_numpy())"
   ]
  },
  {
   "cell_type": "code",
   "execution_count": 204,
   "id": "be77603d",
   "metadata": {},
   "outputs": [],
   "source": [
    "from matplotlib.transforms import Affine2D"
   ]
  },
  {
   "cell_type": "code",
   "execution_count": 205,
   "id": "acf85036",
   "metadata": {},
   "outputs": [
    {
     "data": {
      "image/png": "[encoded data removed]",
      "text/plain": [
       "<Figure size 432x288 with 1 Axes>"
      ]
     },
     "metadata": {
      "needs_background": "light"
     },
     "output_type": "display_data"
    }
   ],
   "source": [
    "fig, ax = plt.subplots()\n",
    "\n",
    "trans1 = Affine2D().translate(-0.1, 0.0) + ax.transData\n",
    "trans2 = Affine2D().translate(+0.1, 0.0) + ax.transData\n",
    "plt.errorbar('month', 'mean',  yerr=err20, data=statsEgy20,marker='s', capsize=2,\n",
    "             color='blue', markersize=4, linewidth=1, linestyle='--',transform=trans1)\n",
    "plt.errorbar('month', 'mean',  yerr=err21, data=statsEgy21,marker='s', capsize=2,\n",
    "             color='red', markersize=4, linewidth=1, linestyle='--',transform=trans2)\n",
    "plt.legend(['2020','2021'])\n",
    "plt.xlabel(\"Month\")\n",
    "plt.ylabel(\"Average Daily COVID CASES\")\n",
    "plt.title(\"Egypt\")\n",
    "plt.show()"
   ]
  },
  {
   "cell_type": "markdown",
   "id": "fbe9a284",
   "metadata": {},
   "source": [
    "# Discussion"
   ]
  },
  {
   "cell_type": "markdown",
   "id": "adafd687",
   "metadata": {},
   "source": [
    "Based on the code above the results shows that\n",
    "* after calculating the confidence intervals for the cases in Egypt by month and going the graph, I noticed that they are all overlapping wich shiws that tere is no segnificant difference between the cases during the mentioned months.\n",
    "Next I got the mean, standard deviation, the size, the lower band and the upper band of the confidence interval for each month and the I did a graph that shows us the evolution of the cases during 2020. \n",
    "According to the graph we notice that the total cases is not constant, in fact it increases and decreases every two-three months.                     \n",
    "\n",
    "Later I did the same graph but only for 2021 and I studied different countries and how it was affected. I noticed that the infection rate is not the same for all the countries for example, and based on the graphs, the dcases increases exponentially in Africa while in Egypt it does not. This is due to many factors for example the income of the citizens. In fact the mean of the income of citizens in Egypt is higher than the the mean of the income of citizens in Africa, and this may be a factor that leads citizens to not abide by the quarantines and go out in order to work which leads to the spreading and increasing of the cases.\n",
    "Later I compared between 2020 and 2021 in terms of the casesx in Egypt. What I notices is that from January until May, the number of the cases in 2021 is higher than the number of cases in 2020. Then from May until Augst, the number of cases during 2020 is higher than the number of cases during 2021. And from August the number of cases during 2021 inreased compared to its number in 2020 and by Dcember the number during 2020 and 2021 is almost the same. But while it was increasing during the end of 2020 it is decreasing by the end of 2021.\n",
    "conclusion:               \n",
    "The number of dcases gets affected by the income of the continent, and it varies from a region to another, and also from a year to another. Its spreading does not have a specific rate: it does not continuously increase or continuously decrease. In fact it varies from a day to another, just like it was shown on the graphs above. "
   ]
  },
  {
   "cell_type": "code",
   "execution_count": null,
   "id": "531892a2",
   "metadata": {},
   "outputs": [],
   "source": []
  }
 ],
 "metadata": {
  "kernelspec": {
   "display_name": "Python 3 (ipykernel)",
   "language": "python",
   "name": "python3"
  },
  "language_info": {
   "codemirror_mode": {
    "name": "ipython",
    "version": 3
   },
   "file_extension": ".py",
   "mimetype": "text/x-python",
   "name": "python",
   "nbconvert_exporter": "python",
   "pygments_lexer": "ipython3",
   "version": "3.9.7"
  }
 },
 "nbformat": 4,
 "nbformat_minor": 5
}
